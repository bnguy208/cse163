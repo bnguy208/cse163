{
 "cells": [
  {
   "cell_type": "code",
   "execution_count": 2,
   "metadata": {},
   "outputs": [],
   "source": [
    "\"\"\"\n",
    "Daria Gileva, Brandon Nguyen, Karin Stoddart\n",
    "CSE 163 AA\n",
    "\n",
    "This file tests the methods in the script.\n",
    "\"\"\"\n",
    "\n",
    "import plotly.express as px\n",
    "import geopandas as gpd\n",
    "import pandas as pd\n",
    "import matplotlib.pyplot as plt\n",
    "\n",
    "\n",
    "def extract_xlsx(xlsx_name, ws_name):\n",
    "    \"\"\"\n",
    "    This function takes the path of a multi-sheet Excel workbook file and the\n",
    "    name of the workshee of interest and returns a Pandas dataframe.\n",
    "    \"\"\"\n",
    "    xlsx = pd.ExcelFile(xlsx_name)\n",
    "    return pd.read_excel(xlsx, ws_name)\n",
    "\n",
    "\n",
    "def merge_geo(shp_file_name, xlsx_file=None,\n",
    "              csv_file_name=None):\n",
    "    \"\"\"\n",
    "    This function takes the name of the shapes file and Excel workbook file OR\n",
    "    a CSV file and returns a geospatial dataframe that joins these two datasets\n",
    "    by state.\n",
    "    \"\"\"\n",
    "    shp_file = gpd.read_file(shp_file_name)\n",
    "    is_mainland = (shp_file['STUSPS'] != 'AK') & \\\n",
    "                  (shp_file['STUSPS'] != 'HI') & \\\n",
    "                  (shp_file['STUSPS'] != 'GU') & \\\n",
    "                  (shp_file['STUSPS'] != 'PR') & \\\n",
    "                  (shp_file['STUSPS'] != 'MP') & \\\n",
    "                  (shp_file['STUSPS'] != 'AS') & \\\n",
    "                  (shp_file['STUSPS'] != 'VI')\n",
    "    shp_file = shp_file[is_mainland]\n",
    "\n",
    "    if xlsx_file is None:\n",
    "        csv_file = pd.read_csv(csv_file_name)\n",
    "        csv_file = csv_file[\n",
    "            (csv_file[\"State Name\"] != \"Alaska\") &\n",
    "            (csv_file[\"State Name\"] != \"Hawaii\")\n",
    "        ]\n",
    "        merged_data = shp_file.merge(csv_file, left_on='STUSPS',\n",
    "                                     right_on='State', how='outer')\n",
    "    else:\n",
    "        merged_data = shp_file.merge(xlsx_file, left_on=\"NAMELSAD\",\n",
    "                                     right_on=\"Location\")\n",
    "    return merged_data\n",
    "\n"
   ]
  },
  {
   "cell_type": "code",
   "execution_count": 3,
   "metadata": {},
   "outputs": [],
   "source": [
    "# Loading in the overdose data\n",
    "xlsx_file = extract_xlsx(\"test/OverdoseDeathWA_test.xlsx\", \"By Location and Date\")\n",
    "wa_geo_data = merge_geo(\"test/geodata/cb_2022_us_county_500k.shp\", xlsx_file)\n",
    "national_geo_data = merge_geo(\"test/geodata/cb_2022_us_county_500k.shp\", csv_file_name=\"test/NationalOverdose_test.csv\")"
   ]
  },
  {
   "cell_type": "code",
   "execution_count": 5,
   "metadata": {},
   "outputs": [],
   "source": [
    "# (1) How has the number of drug overdose cases changed between 2016 and 2023\n",
    "# in Washington State?\n",
    "def wa_overdose_change(wa_geo_data: gpd.GeoDataFrame,\n",
    "                       start: float = 2016.0,\n",
    "                       end: float = 2022.0) -> None:\n",
    "    \"\"\"\n",
    "    This function takes in the geospatial dataframe and returns the number\n",
    "    of drug overdose cases in Washington from 2016-2023.\n",
    "    \"\"\"\n",
    "    wa_data = wa_geo_data[wa_geo_data[\"STATE_NAME\"] == \"Washington\"].copy()\n",
    "    drug = wa_data[\"Drug Category\"] == \"Any Drug\"\n",
    "    county = wa_data[\"Geography\"] == \"County\"\n",
    "    wa_data[\"Year\"] = pd.to_numeric(wa_geo_data[\"Year\"], errors=\"coerce\")\n",
    "    year = (wa_data[\"Year\"] >= start) & (wa_data[\"Year\"] <= end)\n",
    "    time = wa_data[\"Time Aggregation\"] == \"1 year rolling counts\"\n",
    "    remove_star = wa_data[\"Death Count\"] != \"*\"\n",
    "    county_data = wa_data[drug & county & time & year & remove_star].copy()\n",
    "    county_data[\"Death Count\"] = county_data[\"Death Count\"].astype(\"int\")\n",
    "    county_data = \\\n",
    "        county_data.groupby(\"Year\").agg({\"Death Count\": \"sum\"}).reset_index()\n",
    "\n",
    "    fig = px.line(\n",
    "        county_data,\n",
    "        x=\"Year\",\n",
    "        y=\"Death Count\",\n",
    "        title=f\"Drug Overdose Deaths in WA between \"\n",
    "        f\"{int(start)} and {int(end)}\",\n",
    "        markers=True\n",
    "    )\n",
    "    fig.update_layout(title_x=0.5, title_y=0.95, font=dict(size=15))\n",
    "    fig.update_traces(line=dict(width=4), marker=dict(size=10))\n",
    "\n",
    "    fig.show()\n",
    "    # fig.write_image('wa_overdose_test.png')"
   ]
  },
  {
   "cell_type": "code",
   "execution_count": 6,
   "metadata": {},
   "outputs": [
    {
     "data": {
      "application/vnd.plotly.v1+json": {
       "config": {
        "plotlyServerURL": "https://plot.ly"
       },
       "data": [
        {
         "hovertemplate": "Year=%{x}<br>Death Count=%{y}<extra></extra>",
         "legendgroup": "",
         "line": {
          "color": "#636efa",
          "dash": "solid",
          "width": 4
         },
         "marker": {
          "size": 10,
          "symbol": "circle"
         },
         "mode": "lines+markers",
         "name": "",
         "orientation": "v",
         "showlegend": false,
         "type": "scatter",
         "x": [
          2016,
          2017,
          2018,
          2019,
          2020,
          2021,
          2022
         ],
         "xaxis": "x",
         "y": [
          20,
          30,
          40,
          50,
          60,
          70,
          80
         ],
         "yaxis": "y"
        }
       ],
       "layout": {
        "font": {
         "size": 15
        },
        "legend": {
         "tracegroupgap": 0
        },
        "template": {
         "data": {
          "bar": [
           {
            "error_x": {
             "color": "#2a3f5f"
            },
            "error_y": {
             "color": "#2a3f5f"
            },
            "marker": {
             "line": {
              "color": "#E5ECF6",
              "width": 0.5
             },
             "pattern": {
              "fillmode": "overlay",
              "size": 10,
              "solidity": 0.2
             }
            },
            "type": "bar"
           }
          ],
          "barpolar": [
           {
            "marker": {
             "line": {
              "color": "#E5ECF6",
              "width": 0.5
             },
             "pattern": {
              "fillmode": "overlay",
              "size": 10,
              "solidity": 0.2
             }
            },
            "type": "barpolar"
           }
          ],
          "carpet": [
           {
            "aaxis": {
             "endlinecolor": "#2a3f5f",
             "gridcolor": "white",
             "linecolor": "white",
             "minorgridcolor": "white",
             "startlinecolor": "#2a3f5f"
            },
            "baxis": {
             "endlinecolor": "#2a3f5f",
             "gridcolor": "white",
             "linecolor": "white",
             "minorgridcolor": "white",
             "startlinecolor": "#2a3f5f"
            },
            "type": "carpet"
           }
          ],
          "choropleth": [
           {
            "colorbar": {
             "outlinewidth": 0,
             "ticks": ""
            },
            "type": "choropleth"
           }
          ],
          "contour": [
           {
            "colorbar": {
             "outlinewidth": 0,
             "ticks": ""
            },
            "colorscale": [
             [
              0,
              "#0d0887"
             ],
             [
              0.1111111111111111,
              "#46039f"
             ],
             [
              0.2222222222222222,
              "#7201a8"
             ],
             [
              0.3333333333333333,
              "#9c179e"
             ],
             [
              0.4444444444444444,
              "#bd3786"
             ],
             [
              0.5555555555555556,
              "#d8576b"
             ],
             [
              0.6666666666666666,
              "#ed7953"
             ],
             [
              0.7777777777777778,
              "#fb9f3a"
             ],
             [
              0.8888888888888888,
              "#fdca26"
             ],
             [
              1,
              "#f0f921"
             ]
            ],
            "type": "contour"
           }
          ],
          "contourcarpet": [
           {
            "colorbar": {
             "outlinewidth": 0,
             "ticks": ""
            },
            "type": "contourcarpet"
           }
          ],
          "heatmap": [
           {
            "colorbar": {
             "outlinewidth": 0,
             "ticks": ""
            },
            "colorscale": [
             [
              0,
              "#0d0887"
             ],
             [
              0.1111111111111111,
              "#46039f"
             ],
             [
              0.2222222222222222,
              "#7201a8"
             ],
             [
              0.3333333333333333,
              "#9c179e"
             ],
             [
              0.4444444444444444,
              "#bd3786"
             ],
             [
              0.5555555555555556,
              "#d8576b"
             ],
             [
              0.6666666666666666,
              "#ed7953"
             ],
             [
              0.7777777777777778,
              "#fb9f3a"
             ],
             [
              0.8888888888888888,
              "#fdca26"
             ],
             [
              1,
              "#f0f921"
             ]
            ],
            "type": "heatmap"
           }
          ],
          "heatmapgl": [
           {
            "colorbar": {
             "outlinewidth": 0,
             "ticks": ""
            },
            "colorscale": [
             [
              0,
              "#0d0887"
             ],
             [
              0.1111111111111111,
              "#46039f"
             ],
             [
              0.2222222222222222,
              "#7201a8"
             ],
             [
              0.3333333333333333,
              "#9c179e"
             ],
             [
              0.4444444444444444,
              "#bd3786"
             ],
             [
              0.5555555555555556,
              "#d8576b"
             ],
             [
              0.6666666666666666,
              "#ed7953"
             ],
             [
              0.7777777777777778,
              "#fb9f3a"
             ],
             [
              0.8888888888888888,
              "#fdca26"
             ],
             [
              1,
              "#f0f921"
             ]
            ],
            "type": "heatmapgl"
           }
          ],
          "histogram": [
           {
            "marker": {
             "pattern": {
              "fillmode": "overlay",
              "size": 10,
              "solidity": 0.2
             }
            },
            "type": "histogram"
           }
          ],
          "histogram2d": [
           {
            "colorbar": {
             "outlinewidth": 0,
             "ticks": ""
            },
            "colorscale": [
             [
              0,
              "#0d0887"
             ],
             [
              0.1111111111111111,
              "#46039f"
             ],
             [
              0.2222222222222222,
              "#7201a8"
             ],
             [
              0.3333333333333333,
              "#9c179e"
             ],
             [
              0.4444444444444444,
              "#bd3786"
             ],
             [
              0.5555555555555556,
              "#d8576b"
             ],
             [
              0.6666666666666666,
              "#ed7953"
             ],
             [
              0.7777777777777778,
              "#fb9f3a"
             ],
             [
              0.8888888888888888,
              "#fdca26"
             ],
             [
              1,
              "#f0f921"
             ]
            ],
            "type": "histogram2d"
           }
          ],
          "histogram2dcontour": [
           {
            "colorbar": {
             "outlinewidth": 0,
             "ticks": ""
            },
            "colorscale": [
             [
              0,
              "#0d0887"
             ],
             [
              0.1111111111111111,
              "#46039f"
             ],
             [
              0.2222222222222222,
              "#7201a8"
             ],
             [
              0.3333333333333333,
              "#9c179e"
             ],
             [
              0.4444444444444444,
              "#bd3786"
             ],
             [
              0.5555555555555556,
              "#d8576b"
             ],
             [
              0.6666666666666666,
              "#ed7953"
             ],
             [
              0.7777777777777778,
              "#fb9f3a"
             ],
             [
              0.8888888888888888,
              "#fdca26"
             ],
             [
              1,
              "#f0f921"
             ]
            ],
            "type": "histogram2dcontour"
           }
          ],
          "mesh3d": [
           {
            "colorbar": {
             "outlinewidth": 0,
             "ticks": ""
            },
            "type": "mesh3d"
           }
          ],
          "parcoords": [
           {
            "line": {
             "colorbar": {
              "outlinewidth": 0,
              "ticks": ""
             }
            },
            "type": "parcoords"
           }
          ],
          "pie": [
           {
            "automargin": true,
            "type": "pie"
           }
          ],
          "scatter": [
           {
            "fillpattern": {
             "fillmode": "overlay",
             "size": 10,
             "solidity": 0.2
            },
            "type": "scatter"
           }
          ],
          "scatter3d": [
           {
            "line": {
             "colorbar": {
              "outlinewidth": 0,
              "ticks": ""
             }
            },
            "marker": {
             "colorbar": {
              "outlinewidth": 0,
              "ticks": ""
             }
            },
            "type": "scatter3d"
           }
          ],
          "scattercarpet": [
           {
            "marker": {
             "colorbar": {
              "outlinewidth": 0,
              "ticks": ""
             }
            },
            "type": "scattercarpet"
           }
          ],
          "scattergeo": [
           {
            "marker": {
             "colorbar": {
              "outlinewidth": 0,
              "ticks": ""
             }
            },
            "type": "scattergeo"
           }
          ],
          "scattergl": [
           {
            "marker": {
             "colorbar": {
              "outlinewidth": 0,
              "ticks": ""
             }
            },
            "type": "scattergl"
           }
          ],
          "scattermapbox": [
           {
            "marker": {
             "colorbar": {
              "outlinewidth": 0,
              "ticks": ""
             }
            },
            "type": "scattermapbox"
           }
          ],
          "scatterpolar": [
           {
            "marker": {
             "colorbar": {
              "outlinewidth": 0,
              "ticks": ""
             }
            },
            "type": "scatterpolar"
           }
          ],
          "scatterpolargl": [
           {
            "marker": {
             "colorbar": {
              "outlinewidth": 0,
              "ticks": ""
             }
            },
            "type": "scatterpolargl"
           }
          ],
          "scatterternary": [
           {
            "marker": {
             "colorbar": {
              "outlinewidth": 0,
              "ticks": ""
             }
            },
            "type": "scatterternary"
           }
          ],
          "surface": [
           {
            "colorbar": {
             "outlinewidth": 0,
             "ticks": ""
            },
            "colorscale": [
             [
              0,
              "#0d0887"
             ],
             [
              0.1111111111111111,
              "#46039f"
             ],
             [
              0.2222222222222222,
              "#7201a8"
             ],
             [
              0.3333333333333333,
              "#9c179e"
             ],
             [
              0.4444444444444444,
              "#bd3786"
             ],
             [
              0.5555555555555556,
              "#d8576b"
             ],
             [
              0.6666666666666666,
              "#ed7953"
             ],
             [
              0.7777777777777778,
              "#fb9f3a"
             ],
             [
              0.8888888888888888,
              "#fdca26"
             ],
             [
              1,
              "#f0f921"
             ]
            ],
            "type": "surface"
           }
          ],
          "table": [
           {
            "cells": {
             "fill": {
              "color": "#EBF0F8"
             },
             "line": {
              "color": "white"
             }
            },
            "header": {
             "fill": {
              "color": "#C8D4E3"
             },
             "line": {
              "color": "white"
             }
            },
            "type": "table"
           }
          ]
         },
         "layout": {
          "annotationdefaults": {
           "arrowcolor": "#2a3f5f",
           "arrowhead": 0,
           "arrowwidth": 1
          },
          "autotypenumbers": "strict",
          "coloraxis": {
           "colorbar": {
            "outlinewidth": 0,
            "ticks": ""
           }
          },
          "colorscale": {
           "diverging": [
            [
             0,
             "#8e0152"
            ],
            [
             0.1,
             "#c51b7d"
            ],
            [
             0.2,
             "#de77ae"
            ],
            [
             0.3,
             "#f1b6da"
            ],
            [
             0.4,
             "#fde0ef"
            ],
            [
             0.5,
             "#f7f7f7"
            ],
            [
             0.6,
             "#e6f5d0"
            ],
            [
             0.7,
             "#b8e186"
            ],
            [
             0.8,
             "#7fbc41"
            ],
            [
             0.9,
             "#4d9221"
            ],
            [
             1,
             "#276419"
            ]
           ],
           "sequential": [
            [
             0,
             "#0d0887"
            ],
            [
             0.1111111111111111,
             "#46039f"
            ],
            [
             0.2222222222222222,
             "#7201a8"
            ],
            [
             0.3333333333333333,
             "#9c179e"
            ],
            [
             0.4444444444444444,
             "#bd3786"
            ],
            [
             0.5555555555555556,
             "#d8576b"
            ],
            [
             0.6666666666666666,
             "#ed7953"
            ],
            [
             0.7777777777777778,
             "#fb9f3a"
            ],
            [
             0.8888888888888888,
             "#fdca26"
            ],
            [
             1,
             "#f0f921"
            ]
           ],
           "sequentialminus": [
            [
             0,
             "#0d0887"
            ],
            [
             0.1111111111111111,
             "#46039f"
            ],
            [
             0.2222222222222222,
             "#7201a8"
            ],
            [
             0.3333333333333333,
             "#9c179e"
            ],
            [
             0.4444444444444444,
             "#bd3786"
            ],
            [
             0.5555555555555556,
             "#d8576b"
            ],
            [
             0.6666666666666666,
             "#ed7953"
            ],
            [
             0.7777777777777778,
             "#fb9f3a"
            ],
            [
             0.8888888888888888,
             "#fdca26"
            ],
            [
             1,
             "#f0f921"
            ]
           ]
          },
          "colorway": [
           "#636efa",
           "#EF553B",
           "#00cc96",
           "#ab63fa",
           "#FFA15A",
           "#19d3f3",
           "#FF6692",
           "#B6E880",
           "#FF97FF",
           "#FECB52"
          ],
          "font": {
           "color": "#2a3f5f"
          },
          "geo": {
           "bgcolor": "white",
           "lakecolor": "white",
           "landcolor": "#E5ECF6",
           "showlakes": true,
           "showland": true,
           "subunitcolor": "white"
          },
          "hoverlabel": {
           "align": "left"
          },
          "hovermode": "closest",
          "mapbox": {
           "style": "light"
          },
          "paper_bgcolor": "white",
          "plot_bgcolor": "#E5ECF6",
          "polar": {
           "angularaxis": {
            "gridcolor": "white",
            "linecolor": "white",
            "ticks": ""
           },
           "bgcolor": "#E5ECF6",
           "radialaxis": {
            "gridcolor": "white",
            "linecolor": "white",
            "ticks": ""
           }
          },
          "scene": {
           "xaxis": {
            "backgroundcolor": "#E5ECF6",
            "gridcolor": "white",
            "gridwidth": 2,
            "linecolor": "white",
            "showbackground": true,
            "ticks": "",
            "zerolinecolor": "white"
           },
           "yaxis": {
            "backgroundcolor": "#E5ECF6",
            "gridcolor": "white",
            "gridwidth": 2,
            "linecolor": "white",
            "showbackground": true,
            "ticks": "",
            "zerolinecolor": "white"
           },
           "zaxis": {
            "backgroundcolor": "#E5ECF6",
            "gridcolor": "white",
            "gridwidth": 2,
            "linecolor": "white",
            "showbackground": true,
            "ticks": "",
            "zerolinecolor": "white"
           }
          },
          "shapedefaults": {
           "line": {
            "color": "#2a3f5f"
           }
          },
          "ternary": {
           "aaxis": {
            "gridcolor": "white",
            "linecolor": "white",
            "ticks": ""
           },
           "baxis": {
            "gridcolor": "white",
            "linecolor": "white",
            "ticks": ""
           },
           "bgcolor": "#E5ECF6",
           "caxis": {
            "gridcolor": "white",
            "linecolor": "white",
            "ticks": ""
           }
          },
          "title": {
           "x": 0.05
          },
          "xaxis": {
           "automargin": true,
           "gridcolor": "white",
           "linecolor": "white",
           "ticks": "",
           "title": {
            "standoff": 15
           },
           "zerolinecolor": "white",
           "zerolinewidth": 2
          },
          "yaxis": {
           "automargin": true,
           "gridcolor": "white",
           "linecolor": "white",
           "ticks": "",
           "title": {
            "standoff": 15
           },
           "zerolinecolor": "white",
           "zerolinewidth": 2
          }
         }
        },
        "title": {
         "text": "Drug Overdose Deaths in WA between 2016 and 2022",
         "x": 0.5,
         "y": 0.95
        },
        "xaxis": {
         "anchor": "y",
         "domain": [
          0,
          1
         ],
         "title": {
          "text": "Year"
         }
        },
        "yaxis": {
         "anchor": "x",
         "domain": [
          0,
          1
         ],
         "title": {
          "text": "Death Count"
         }
        }
       }
      }
     },
     "metadata": {},
     "output_type": "display_data"
    }
   ],
   "source": [
    " wa_overdose_change(wa_geo_data)"
   ]
  },
  {
   "cell_type": "code",
   "execution_count": 9,
   "metadata": {},
   "outputs": [],
   "source": [
    "#  (2) Which counties in Washington state have the highest number/rate\n",
    "#  of drug overdose cases?\n",
    "def overdose_deaths_counties(data: gpd.GeoDataFrame, drug_name='Any Drug',\n",
    "                             year_start=2016.0, year_end=2022.0) -> None:\n",
    "    \"\"\"\n",
    "    This function takes in the geospatial dataframe and plots the drug\n",
    "    overdose cases in different counties in Washington.\n",
    "    \"\"\"\n",
    "    data = data[data['STATE_NAME'] == 'Washington'].copy()\n",
    "    drug = data['Drug Category'] == drug_name\n",
    "    county = data['Geography'] == 'County'\n",
    "    time = (data['Time Aggregation'] == '1 year rolling counts')\n",
    "    remove_star = data['Death Count'] != '*'\n",
    "    county_data = data[drug & county & time & remove_star].copy()\n",
    "    county_data['Death Count'] = county_data['Death Count'].astype('int')\n",
    "\n",
    "    plt.figure(figsize=(15, 12))\n",
    "    plt.subplots_adjust(hspace=0.2)\n",
    "    plt.suptitle(\"Washington County Overdose Deaths\", fontsize=18, y=0.95)\n",
    "    n = int(year_end - year_start)\n",
    "    height, width = n // 2 + 1, 2\n",
    "    for i in range(int(year_start), int(year_end)+1):\n",
    "        year = (county_data['Year'] == i)\n",
    "        year_data = county_data[year]\n",
    "\n",
    "        ax = plt.subplot(height, width, i - int(year_start)+1)\n",
    "\n",
    "        data.plot(ax=ax, color='#d3d3d3')\n",
    "        year_data.plot(ax=ax, column='Death Count', legend=True)\n",
    "        ax.set_title(i)\n",
    "        ax.set_aspect('equal')\n",
    "    plt.savefig('counties_overdose_test.png')"
   ]
  },
  {
   "cell_type": "code",
   "execution_count": 10,
   "metadata": {},
   "outputs": [
    {
     "data": {
      "image/png": "[encoded data removed]",
      "text/plain": [
       "<Figure size 1500x1200 with 14 Axes>"
      ]
     },
     "metadata": {},
     "output_type": "display_data"
    }
   ],
   "source": [
    "overdose_deaths_counties(wa_geo_data)"
   ]
  },
  {
   "cell_type": "code",
   "execution_count": null,
   "metadata": {},
   "outputs": [],
   "source": [
    "# (3) How does the number of overdoses in WA compare to number of overdoses in\n",
    "# other states in the USA? - Brandon\n",
    "def wa_versus_us(national_geo_data: gpd.GeoDataFrame) -> None:\n",
    "    \"\"\"\n",
    "    This function takes in the national drug overdose dataset and plots\n",
    "    the number of drug overdose deaths across the U.S. in 2022.\n",
    "    \"\"\"\n",
    "    shp_file = gpd.read_file('Data/geodata/cb_2022_us_county_500k.shp')\n",
    "    is_mainland = (shp_file['STUSPS'] != 'AK') & \\\n",
    "                  (shp_file['STUSPS'] != 'HI') & \\\n",
    "                  (shp_file['STUSPS'] != 'GU') & \\\n",
    "                  (shp_file['STUSPS'] != 'PR') & \\\n",
    "                  (shp_file['STUSPS'] != 'MP') & \\\n",
    "                  (shp_file['STUSPS'] != 'AS') & \\\n",
    "                  (shp_file['STUSPS'] != 'VI')\n",
    "    shp_file = shp_file[is_mainland]\n",
    "\n",
    "    usa_data = national_geo_data[['State', 'Year', 'Month', 'Period',\n",
    "                                  'Indicator', 'Data Value',\n",
    "                                  'geometry']].copy()\n",
    "    usa_data['Year'] = usa_data['Year'].astype(str)\n",
    "    usa_data['Data Value'] = usa_data['Data Value'].str.replace(',', '')\n",
    "    usa_data['Data Value'] = usa_data['Data Value'].fillna('0').astype(float)\n",
    "\n",
    "    # Create masks\n",
    "    any_drug = (usa_data['Indicator'] == 'Number of Drug Overdose Deaths')\n",
    "    year = (usa_data['Year'] == '2022')\n",
    "    month = (usa_data['Month'] == 'December')\n",
    "    states = (usa_data['State'] != 'AK') & (usa_data['State'] != 'HI') & \\\n",
    "             (usa_data['State'] != 'YC') & (usa_data['State'] != 'US')\n",
    "\n",
    "    # Filter data\n",
    "    usa_data = usa_data[any_drug & year & month & states]\n",
    "\n",
    "    # Plot data\n",
    "    fig, ax = plt.subplots(1, figsize=(15, 7))\n",
    "    shp_file.plot(ax=ax, color='#EEEEEE')\n",
    "    usa_data.plot(ax=ax, column='Data Value', legend=True)\n",
    "    plt.title('National Drug Overdose Deaths in 2022', fontsize=16)\n",
    "    plt.savefig('wa_versus_us_test.png')\n",
    "\n",
    "\n",
    "# (4) How does race impact overdose deaths in Washington? - Karin\n",
    "\n",
    "\n",
    "def main():\n",
    "    # Loading in the overdose data\n",
    "    xlsx_file = extract_xlsx(\"test/OverdoseDeathWA_test.xlsx\",\n",
    "                             \"By Location and Date\")\n",
    "    wa_geo_data = merge_geo(\"test/geodata/cb_2022_us_county_500k.shp\",\n",
    "                            xlsx_file)\n",
    "    national_geo_data = merge_geo(\n",
    "        \"test/geodata/cb_2022_us_county_500k.shp\",\n",
    "        csv_file_name=\"test/NationalOverdose_test.csv\")"
   ]
  },
  {
   "cell_type": "code",
   "execution_count": null,
   "metadata": {},
   "outputs": [],
   "source": [
    "wa_versus_us(national_geo_data)"
   ]
  }
 ],
 "metadata": {
  "kernelspec": {
   "display_name": "cse163",
   "language": "python",
   "name": "python3"
  },
  "language_info": {
   "codemirror_mode": {
    "name": "ipython",
    "version": 3
   },
   "file_extension": ".py",
   "mimetype": "text/x-python",
   "name": "python",
   "nbconvert_exporter": "python",
   "pygments_lexer": "ipython3",
   "version": "3.9.17"
  },
  "orig_nbformat": 4
 },
 "nbformat": 4,
 "nbformat_minor": 2
}
