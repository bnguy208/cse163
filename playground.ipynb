{
 "cells": [
  {
   "cell_type": "code",
   "execution_count": 144,
   "metadata": {},
   "outputs": [],
   "source": [
    "import plotly.express as px\n",
    "import geopandas as gpd\n",
    "import pandas as pd\n",
    "import matplotlib.pyplot as plt"
   ]
  },
  {
   "cell_type": "code",
   "execution_count": 145,
   "metadata": {},
   "outputs": [],
   "source": [
    "def extract_xlsx(xlsx_name, ws_name):\n",
    "  xlsx = pd.ExcelFile(xlsx_name)\n",
    "  return pd.read_excel(xlsx, ws_name)"
   ]
  },
  {
   "cell_type": "code",
   "execution_count": 146,
   "metadata": {},
   "outputs": [
    {
     "data": {
      "text/html": [
       "<div>\n",
       "<style scoped>\n",
       "    .dataframe tbody tr th:only-of-type {\n",
       "        vertical-align: middle;\n",
       "    }\n",
       "\n",
       "    .dataframe tbody tr th {\n",
       "        vertical-align: top;\n",
       "    }\n",
       "\n",
       "    .dataframe thead th {\n",
       "        text-align: right;\n",
       "    }\n",
       "</style>\n",
       "<table border=\"1\" class=\"dataframe\">\n",
       "  <thead>\n",
       "    <tr style=\"text-align: right;\">\n",
       "      <th></th>\n",
       "      <th>Year</th>\n",
       "      <th>Time Aggregation</th>\n",
       "      <th>Location</th>\n",
       "      <th>Geography</th>\n",
       "      <th>Drug Category</th>\n",
       "      <th>Death Count</th>\n",
       "      <th>Population</th>\n",
       "      <th>Crude Death Rate</th>\n",
       "      <th>Crude Lower CI</th>\n",
       "      <th>Crude Upper CI</th>\n",
       "      <th>Adjusted Death Rate</th>\n",
       "      <th>Adjusted Lower CI</th>\n",
       "      <th>Adjusted Upper CI</th>\n",
       "      <th>Date-Time Stamp</th>\n",
       "    </tr>\n",
       "  </thead>\n",
       "  <tbody>\n",
       "    <tr>\n",
       "      <th>0</th>\n",
       "      <td>2023.3</td>\n",
       "      <td>Quarterly counts</td>\n",
       "      <td>Adams County</td>\n",
       "      <td>County</td>\n",
       "      <td>Cocaine</td>\n",
       "      <td>0</td>\n",
       "      <td>NaN</td>\n",
       "      <td>NaN</td>\n",
       "      <td>NaN</td>\n",
       "      <td>NaN</td>\n",
       "      <td>NaN</td>\n",
       "      <td>NaN</td>\n",
       "      <td>NaN</td>\n",
       "      <td>2023-07-25 08:33:43.039</td>\n",
       "    </tr>\n",
       "    <tr>\n",
       "      <th>1</th>\n",
       "      <td>2023.3</td>\n",
       "      <td>Quarterly counts</td>\n",
       "      <td>Asotin County</td>\n",
       "      <td>County</td>\n",
       "      <td>Cocaine</td>\n",
       "      <td>0</td>\n",
       "      <td>NaN</td>\n",
       "      <td>NaN</td>\n",
       "      <td>NaN</td>\n",
       "      <td>NaN</td>\n",
       "      <td>NaN</td>\n",
       "      <td>NaN</td>\n",
       "      <td>NaN</td>\n",
       "      <td>2023-07-25 08:33:43.039</td>\n",
       "    </tr>\n",
       "    <tr>\n",
       "      <th>2</th>\n",
       "      <td>2023.3</td>\n",
       "      <td>Quarterly counts</td>\n",
       "      <td>Benton-Franklin</td>\n",
       "      <td>County</td>\n",
       "      <td>Cocaine</td>\n",
       "      <td>0</td>\n",
       "      <td>NaN</td>\n",
       "      <td>NaN</td>\n",
       "      <td>NaN</td>\n",
       "      <td>NaN</td>\n",
       "      <td>NaN</td>\n",
       "      <td>NaN</td>\n",
       "      <td>NaN</td>\n",
       "      <td>2023-07-25 08:33:43.039</td>\n",
       "    </tr>\n",
       "    <tr>\n",
       "      <th>3</th>\n",
       "      <td>2023.3</td>\n",
       "      <td>Quarterly counts</td>\n",
       "      <td>Benton County</td>\n",
       "      <td>County</td>\n",
       "      <td>Cocaine</td>\n",
       "      <td>0</td>\n",
       "      <td>NaN</td>\n",
       "      <td>NaN</td>\n",
       "      <td>NaN</td>\n",
       "      <td>NaN</td>\n",
       "      <td>NaN</td>\n",
       "      <td>NaN</td>\n",
       "      <td>NaN</td>\n",
       "      <td>2023-07-25 08:33:43.039</td>\n",
       "    </tr>\n",
       "    <tr>\n",
       "      <th>4</th>\n",
       "      <td>2023.3</td>\n",
       "      <td>Quarterly counts</td>\n",
       "      <td>Chelan-Douglas</td>\n",
       "      <td>County</td>\n",
       "      <td>Cocaine</td>\n",
       "      <td>0</td>\n",
       "      <td>NaN</td>\n",
       "      <td>NaN</td>\n",
       "      <td>NaN</td>\n",
       "      <td>NaN</td>\n",
       "      <td>NaN</td>\n",
       "      <td>NaN</td>\n",
       "      <td>NaN</td>\n",
       "      <td>2023-07-25 08:33:43.039</td>\n",
       "    </tr>\n",
       "    <tr>\n",
       "      <th>...</th>\n",
       "      <td>...</td>\n",
       "      <td>...</td>\n",
       "      <td>...</td>\n",
       "      <td>...</td>\n",
       "      <td>...</td>\n",
       "      <td>...</td>\n",
       "      <td>...</td>\n",
       "      <td>...</td>\n",
       "      <td>...</td>\n",
       "      <td>...</td>\n",
       "      <td>...</td>\n",
       "      <td>...</td>\n",
       "      <td>...</td>\n",
       "      <td>...</td>\n",
       "    </tr>\n",
       "    <tr>\n",
       "      <th>17383</th>\n",
       "      <td>2021.0</td>\n",
       "      <td>5 year rolling counts</td>\n",
       "      <td>Statewide</td>\n",
       "      <td>Statewide</td>\n",
       "      <td>Psychostimulants</td>\n",
       "      <td>3273</td>\n",
       "      <td>37596680.0</td>\n",
       "      <td>8.71</td>\n",
       "      <td>8.41</td>\n",
       "      <td>9.01</td>\n",
       "      <td>8.53</td>\n",
       "      <td>8.23</td>\n",
       "      <td>8.83</td>\n",
       "      <td>2023-07-25 08:33:43.039</td>\n",
       "    </tr>\n",
       "    <tr>\n",
       "      <th>17384</th>\n",
       "      <td>2022.0</td>\n",
       "      <td>5 year rolling counts</td>\n",
       "      <td>Statewide</td>\n",
       "      <td>Statewide</td>\n",
       "      <td>Psychostimulants</td>\n",
       "      <td>4242</td>\n",
       "      <td>37942580.0</td>\n",
       "      <td>11.18</td>\n",
       "      <td>10.85</td>\n",
       "      <td>11.52</td>\n",
       "      <td>10.94</td>\n",
       "      <td>10.6</td>\n",
       "      <td>11.28</td>\n",
       "      <td>2023-07-25 08:33:43.039</td>\n",
       "    </tr>\n",
       "    <tr>\n",
       "      <th>17385</th>\n",
       "      <td>2020.0</td>\n",
       "      <td>5 year rolling counts</td>\n",
       "      <td>Statewide</td>\n",
       "      <td>Statewide</td>\n",
       "      <td>Synthetic Opioids</td>\n",
       "      <td>1466</td>\n",
       "      <td>37124180.0</td>\n",
       "      <td>3.95</td>\n",
       "      <td>3.75</td>\n",
       "      <td>4.16</td>\n",
       "      <td>4.03</td>\n",
       "      <td>3.83</td>\n",
       "      <td>4.25</td>\n",
       "      <td>2023-07-25 08:33:43.039</td>\n",
       "    </tr>\n",
       "    <tr>\n",
       "      <th>17386</th>\n",
       "      <td>2021.0</td>\n",
       "      <td>5 year rolling counts</td>\n",
       "      <td>Statewide</td>\n",
       "      <td>Statewide</td>\n",
       "      <td>Synthetic Opioids</td>\n",
       "      <td>2589</td>\n",
       "      <td>37596680.0</td>\n",
       "      <td>6.89</td>\n",
       "      <td>6.63</td>\n",
       "      <td>7.16</td>\n",
       "      <td>7.04</td>\n",
       "      <td>6.77</td>\n",
       "      <td>7.32</td>\n",
       "      <td>2023-07-25 08:33:43.039</td>\n",
       "    </tr>\n",
       "    <tr>\n",
       "      <th>17387</th>\n",
       "      <td>2022.0</td>\n",
       "      <td>5 year rolling counts</td>\n",
       "      <td>Statewide</td>\n",
       "      <td>Statewide</td>\n",
       "      <td>Synthetic Opioids</td>\n",
       "      <td>4294</td>\n",
       "      <td>37942580.0</td>\n",
       "      <td>11.32</td>\n",
       "      <td>10.98</td>\n",
       "      <td>11.66</td>\n",
       "      <td>11.5</td>\n",
       "      <td>11.15</td>\n",
       "      <td>11.86</td>\n",
       "      <td>2023-07-25 08:33:43.039</td>\n",
       "    </tr>\n",
       "  </tbody>\n",
       "</table>\n",
       "<p>17388 rows × 14 columns</p>\n",
       "</div>"
      ],
      "text/plain": [
       "         Year       Time Aggregation         Location  Geography  \\\n",
       "0      2023.3       Quarterly counts     Adams County     County   \n",
       "1      2023.3       Quarterly counts    Asotin County     County   \n",
       "2      2023.3       Quarterly counts  Benton-Franklin     County   \n",
       "3      2023.3       Quarterly counts    Benton County     County   \n",
       "4      2023.3       Quarterly counts   Chelan-Douglas     County   \n",
       "...       ...                    ...              ...        ...   \n",
       "17383  2021.0  5 year rolling counts        Statewide  Statewide   \n",
       "17384  2022.0  5 year rolling counts        Statewide  Statewide   \n",
       "17385  2020.0  5 year rolling counts        Statewide  Statewide   \n",
       "17386  2021.0  5 year rolling counts        Statewide  Statewide   \n",
       "17387  2022.0  5 year rolling counts        Statewide  Statewide   \n",
       "\n",
       "           Drug Category Death Count  Population Crude Death Rate  \\\n",
       "0                Cocaine           0         NaN              NaN   \n",
       "1                Cocaine           0         NaN              NaN   \n",
       "2                Cocaine           0         NaN              NaN   \n",
       "3                Cocaine           0         NaN              NaN   \n",
       "4                Cocaine           0         NaN              NaN   \n",
       "...                  ...         ...         ...              ...   \n",
       "17383   Psychostimulants        3273  37596680.0             8.71   \n",
       "17384   Psychostimulants        4242  37942580.0            11.18   \n",
       "17385  Synthetic Opioids        1466  37124180.0             3.95   \n",
       "17386  Synthetic Opioids        2589  37596680.0             6.89   \n",
       "17387  Synthetic Opioids        4294  37942580.0            11.32   \n",
       "\n",
       "      Crude Lower CI Crude Upper CI Adjusted Death Rate Adjusted Lower CI  \\\n",
       "0                NaN            NaN                 NaN               NaN   \n",
       "1                NaN            NaN                 NaN               NaN   \n",
       "2                NaN            NaN                 NaN               NaN   \n",
       "3                NaN            NaN                 NaN               NaN   \n",
       "4                NaN            NaN                 NaN               NaN   \n",
       "...              ...            ...                 ...               ...   \n",
       "17383           8.41           9.01                8.53              8.23   \n",
       "17384          10.85          11.52               10.94              10.6   \n",
       "17385           3.75           4.16                4.03              3.83   \n",
       "17386           6.63           7.16                7.04              6.77   \n",
       "17387          10.98          11.66                11.5             11.15   \n",
       "\n",
       "      Adjusted Upper CI         Date-Time Stamp  \n",
       "0                   NaN 2023-07-25 08:33:43.039  \n",
       "1                   NaN 2023-07-25 08:33:43.039  \n",
       "2                   NaN 2023-07-25 08:33:43.039  \n",
       "3                   NaN 2023-07-25 08:33:43.039  \n",
       "4                   NaN 2023-07-25 08:33:43.039  \n",
       "...                 ...                     ...  \n",
       "17383              8.83 2023-07-25 08:33:43.039  \n",
       "17384             11.28 2023-07-25 08:33:43.039  \n",
       "17385              4.25 2023-07-25 08:33:43.039  \n",
       "17386              7.32 2023-07-25 08:33:43.039  \n",
       "17387             11.86 2023-07-25 08:33:43.039  \n",
       "\n",
       "[17388 rows x 14 columns]"
      ]
     },
     "execution_count": 146,
     "metadata": {},
     "output_type": "execute_result"
    }
   ],
   "source": [
    "xlsx_file = extract_xlsx('Data/OverdoseDeathWA.xlsx', 'By Location and Date')\n",
    "xlsx_file"
   ]
  },
  {
   "cell_type": "code",
   "execution_count": 147,
   "metadata": {},
   "outputs": [
    {
     "name": "stdout",
     "output_type": "stream",
     "text": [
      "<class 'pandas.core.frame.DataFrame'>\n",
      "RangeIndex: 17388 entries, 0 to 17387\n",
      "Data columns (total 14 columns):\n",
      " #   Column               Non-Null Count  Dtype         \n",
      "---  ------               --------------  -----         \n",
      " 0   Year                 17388 non-null  float64       \n",
      " 1   Time Aggregation     17388 non-null  object        \n",
      " 2   Location             17388 non-null  object        \n",
      " 3   Geography            17388 non-null  object        \n",
      " 4   Drug Category        17388 non-null  object        \n",
      " 5   Death Count          17388 non-null  object        \n",
      " 6   Population           5460 non-null   float64       \n",
      " 7   Crude Death Rate     5460 non-null   object        \n",
      " 8   Crude Lower CI       5460 non-null   object        \n",
      " 9   Crude Upper CI       5460 non-null   object        \n",
      " 10  Adjusted Death Rate  4705 non-null   object        \n",
      " 11  Adjusted Lower CI    4705 non-null   object        \n",
      " 12  Adjusted Upper CI    4705 non-null   object        \n",
      " 13  Date-Time Stamp      17388 non-null  datetime64[ns]\n",
      "dtypes: datetime64[ns](1), float64(2), object(11)\n",
      "memory usage: 1.9+ MB\n"
     ]
    }
   ],
   "source": [
    "xlsx_file.info()"
   ]
  },
  {
   "cell_type": "code",
   "execution_count": 148,
   "metadata": {},
   "outputs": [],
   "source": [
    "def merge_geo(shp_file_name, xlsx_file=None, csv_file_name=None):\n",
    "  shp_file = gpd.read_file(shp_file_name)\n",
    "  if  xlsx_file is None:\n",
    "    csv_file = pd.read_csv(csv_file_name)\n",
    "    csv_file = csv_file[(csv_file['State Name'] != 'Alaska') & (csv_file['State Name'] != 'Hawaii')]\n",
    "    merged_data = shp_file.merge(csv_file, left_on='NAMELSAD', right_on='State Name', how='outer')\n",
    "  else:\n",
    "    merged_data = shp_file.merge(xlsx_file, left_on='NAMELSAD', right_on='Location')\n",
    "  return merged_data"
   ]
  },
  {
   "cell_type": "code",
   "execution_count": 149,
   "metadata": {},
   "outputs": [
    {
     "data": {
      "text/html": [
       "<div>\n",
       "<style scoped>\n",
       "    .dataframe tbody tr th:only-of-type {\n",
       "        vertical-align: middle;\n",
       "    }\n",
       "\n",
       "    .dataframe tbody tr th {\n",
       "        vertical-align: top;\n",
       "    }\n",
       "\n",
       "    .dataframe thead th {\n",
       "        text-align: right;\n",
       "    }\n",
       "</style>\n",
       "<table border=\"1\" class=\"dataframe\">\n",
       "  <thead>\n",
       "    <tr style=\"text-align: right;\">\n",
       "      <th></th>\n",
       "      <th>STATEFP</th>\n",
       "      <th>COUNTYFP</th>\n",
       "      <th>COUNTYNS</th>\n",
       "      <th>AFFGEOID</th>\n",
       "      <th>GEOID</th>\n",
       "      <th>NAME</th>\n",
       "      <th>NAMELSAD</th>\n",
       "      <th>STUSPS</th>\n",
       "      <th>STATE_NAME</th>\n",
       "      <th>LSAD</th>\n",
       "      <th>ALAND</th>\n",
       "      <th>AWATER</th>\n",
       "      <th>geometry</th>\n",
       "    </tr>\n",
       "  </thead>\n",
       "  <tbody>\n",
       "    <tr>\n",
       "      <th>0</th>\n",
       "      <td>01</td>\n",
       "      <td>069</td>\n",
       "      <td>00161560</td>\n",
       "      <td>0500000US01069</td>\n",
       "      <td>01069</td>\n",
       "      <td>Houston</td>\n",
       "      <td>Houston County</td>\n",
       "      <td>AL</td>\n",
       "      <td>Alabama</td>\n",
       "      <td>06</td>\n",
       "      <td>1501742235</td>\n",
       "      <td>4795415</td>\n",
       "      <td>POLYGON ((-85.71209 31.19727, -85.70934 31.198...</td>\n",
       "    </tr>\n",
       "    <tr>\n",
       "      <th>1</th>\n",
       "      <td>01</td>\n",
       "      <td>023</td>\n",
       "      <td>00161537</td>\n",
       "      <td>0500000US01023</td>\n",
       "      <td>01023</td>\n",
       "      <td>Choctaw</td>\n",
       "      <td>Choctaw County</td>\n",
       "      <td>AL</td>\n",
       "      <td>Alabama</td>\n",
       "      <td>06</td>\n",
       "      <td>2365900083</td>\n",
       "      <td>19114321</td>\n",
       "      <td>POLYGON ((-88.47323 31.89386, -88.46888 31.930...</td>\n",
       "    </tr>\n",
       "    <tr>\n",
       "      <th>2</th>\n",
       "      <td>01</td>\n",
       "      <td>005</td>\n",
       "      <td>00161528</td>\n",
       "      <td>0500000US01005</td>\n",
       "      <td>01005</td>\n",
       "      <td>Barbour</td>\n",
       "      <td>Barbour County</td>\n",
       "      <td>AL</td>\n",
       "      <td>Alabama</td>\n",
       "      <td>06</td>\n",
       "      <td>2292160151</td>\n",
       "      <td>50523213</td>\n",
       "      <td>POLYGON ((-85.74803 31.61918, -85.74544 31.618...</td>\n",
       "    </tr>\n",
       "    <tr>\n",
       "      <th>3</th>\n",
       "      <td>01</td>\n",
       "      <td>107</td>\n",
       "      <td>00161580</td>\n",
       "      <td>0500000US01107</td>\n",
       "      <td>01107</td>\n",
       "      <td>Pickens</td>\n",
       "      <td>Pickens County</td>\n",
       "      <td>AL</td>\n",
       "      <td>Alabama</td>\n",
       "      <td>06</td>\n",
       "      <td>2282835044</td>\n",
       "      <td>22621093</td>\n",
       "      <td>POLYGON ((-88.34043 32.99120, -88.33101 33.072...</td>\n",
       "    </tr>\n",
       "    <tr>\n",
       "      <th>4</th>\n",
       "      <td>01</td>\n",
       "      <td>033</td>\n",
       "      <td>00161542</td>\n",
       "      <td>0500000US01033</td>\n",
       "      <td>01033</td>\n",
       "      <td>Colbert</td>\n",
       "      <td>Colbert County</td>\n",
       "      <td>AL</td>\n",
       "      <td>Alabama</td>\n",
       "      <td>06</td>\n",
       "      <td>1535742270</td>\n",
       "      <td>79160396</td>\n",
       "      <td>POLYGON ((-88.13925 34.58779, -88.13872 34.589...</td>\n",
       "    </tr>\n",
       "    <tr>\n",
       "      <th>...</th>\n",
       "      <td>...</td>\n",
       "      <td>...</td>\n",
       "      <td>...</td>\n",
       "      <td>...</td>\n",
       "      <td>...</td>\n",
       "      <td>...</td>\n",
       "      <td>...</td>\n",
       "      <td>...</td>\n",
       "      <td>...</td>\n",
       "      <td>...</td>\n",
       "      <td>...</td>\n",
       "      <td>...</td>\n",
       "      <td>...</td>\n",
       "    </tr>\n",
       "    <tr>\n",
       "      <th>3230</th>\n",
       "      <td>20</td>\n",
       "      <td>197</td>\n",
       "      <td>00485059</td>\n",
       "      <td>0500000US20197</td>\n",
       "      <td>20197</td>\n",
       "      <td>Wabaunsee</td>\n",
       "      <td>Wabaunsee County</td>\n",
       "      <td>KS</td>\n",
       "      <td>Kansas</td>\n",
       "      <td>06</td>\n",
       "      <td>2057320864</td>\n",
       "      <td>13845234</td>\n",
       "      <td>POLYGON ((-96.50168 38.91332, -96.50166 38.927...</td>\n",
       "    </tr>\n",
       "    <tr>\n",
       "      <th>3231</th>\n",
       "      <td>21</td>\n",
       "      <td>211</td>\n",
       "      <td>00516952</td>\n",
       "      <td>0500000US21211</td>\n",
       "      <td>21211</td>\n",
       "      <td>Shelby</td>\n",
       "      <td>Shelby County</td>\n",
       "      <td>KY</td>\n",
       "      <td>Kentucky</td>\n",
       "      <td>06</td>\n",
       "      <td>983652108</td>\n",
       "      <td>15210913</td>\n",
       "      <td>POLYGON ((-85.46821 38.28531, -85.46073 38.285...</td>\n",
       "    </tr>\n",
       "    <tr>\n",
       "      <th>3232</th>\n",
       "      <td>27</td>\n",
       "      <td>093</td>\n",
       "      <td>00659492</td>\n",
       "      <td>0500000US27093</td>\n",
       "      <td>27093</td>\n",
       "      <td>Meeker</td>\n",
       "      <td>Meeker County</td>\n",
       "      <td>MN</td>\n",
       "      <td>Minnesota</td>\n",
       "      <td>06</td>\n",
       "      <td>1574629006</td>\n",
       "      <td>94913846</td>\n",
       "      <td>POLYGON ((-94.76346 45.24619, -94.76334 45.275...</td>\n",
       "    </tr>\n",
       "    <tr>\n",
       "      <th>3233</th>\n",
       "      <td>39</td>\n",
       "      <td>015</td>\n",
       "      <td>01074020</td>\n",
       "      <td>0500000US39015</td>\n",
       "      <td>39015</td>\n",
       "      <td>Brown</td>\n",
       "      <td>Brown County</td>\n",
       "      <td>OH</td>\n",
       "      <td>Ohio</td>\n",
       "      <td>06</td>\n",
       "      <td>1267911780</td>\n",
       "      <td>8879057</td>\n",
       "      <td>POLYGON ((-84.05245 38.77223, -84.04800 38.806...</td>\n",
       "    </tr>\n",
       "    <tr>\n",
       "      <th>3234</th>\n",
       "      <td>17</td>\n",
       "      <td>103</td>\n",
       "      <td>00424253</td>\n",
       "      <td>0500000US17103</td>\n",
       "      <td>17103</td>\n",
       "      <td>Lee</td>\n",
       "      <td>Lee County</td>\n",
       "      <td>IL</td>\n",
       "      <td>Illinois</td>\n",
       "      <td>06</td>\n",
       "      <td>1877142112</td>\n",
       "      <td>9779872</td>\n",
       "      <td>POLYGON ((-89.63223 41.67861, -89.63219 41.686...</td>\n",
       "    </tr>\n",
       "  </tbody>\n",
       "</table>\n",
       "<p>3235 rows × 13 columns</p>\n",
       "</div>"
      ],
      "text/plain": [
       "     STATEFP COUNTYFP  COUNTYNS        AFFGEOID  GEOID       NAME  \\\n",
       "0         01      069  00161560  0500000US01069  01069    Houston   \n",
       "1         01      023  00161537  0500000US01023  01023    Choctaw   \n",
       "2         01      005  00161528  0500000US01005  01005    Barbour   \n",
       "3         01      107  00161580  0500000US01107  01107    Pickens   \n",
       "4         01      033  00161542  0500000US01033  01033    Colbert   \n",
       "...      ...      ...       ...             ...    ...        ...   \n",
       "3230      20      197  00485059  0500000US20197  20197  Wabaunsee   \n",
       "3231      21      211  00516952  0500000US21211  21211     Shelby   \n",
       "3232      27      093  00659492  0500000US27093  27093     Meeker   \n",
       "3233      39      015  01074020  0500000US39015  39015      Brown   \n",
       "3234      17      103  00424253  0500000US17103  17103        Lee   \n",
       "\n",
       "              NAMELSAD STUSPS STATE_NAME LSAD       ALAND    AWATER  \\\n",
       "0       Houston County     AL    Alabama   06  1501742235   4795415   \n",
       "1       Choctaw County     AL    Alabama   06  2365900083  19114321   \n",
       "2       Barbour County     AL    Alabama   06  2292160151  50523213   \n",
       "3       Pickens County     AL    Alabama   06  2282835044  22621093   \n",
       "4       Colbert County     AL    Alabama   06  1535742270  79160396   \n",
       "...                ...    ...        ...  ...         ...       ...   \n",
       "3230  Wabaunsee County     KS     Kansas   06  2057320864  13845234   \n",
       "3231     Shelby County     KY   Kentucky   06   983652108  15210913   \n",
       "3232     Meeker County     MN  Minnesota   06  1574629006  94913846   \n",
       "3233      Brown County     OH       Ohio   06  1267911780   8879057   \n",
       "3234        Lee County     IL   Illinois   06  1877142112   9779872   \n",
       "\n",
       "                                               geometry  \n",
       "0     POLYGON ((-85.71209 31.19727, -85.70934 31.198...  \n",
       "1     POLYGON ((-88.47323 31.89386, -88.46888 31.930...  \n",
       "2     POLYGON ((-85.74803 31.61918, -85.74544 31.618...  \n",
       "3     POLYGON ((-88.34043 32.99120, -88.33101 33.072...  \n",
       "4     POLYGON ((-88.13925 34.58779, -88.13872 34.589...  \n",
       "...                                                 ...  \n",
       "3230  POLYGON ((-96.50168 38.91332, -96.50166 38.927...  \n",
       "3231  POLYGON ((-85.46821 38.28531, -85.46073 38.285...  \n",
       "3232  POLYGON ((-94.76346 45.24619, -94.76334 45.275...  \n",
       "3233  POLYGON ((-84.05245 38.77223, -84.04800 38.806...  \n",
       "3234  POLYGON ((-89.63223 41.67861, -89.63219 41.686...  \n",
       "\n",
       "[3235 rows x 13 columns]"
      ]
     },
     "execution_count": 149,
     "metadata": {},
     "output_type": "execute_result"
    }
   ],
   "source": [
    "shape = gpd.read_file('Data/geodata/cb_2022_us_county_500k.shp')\n",
    "shape"
   ]
  },
  {
   "cell_type": "code",
   "execution_count": 150,
   "metadata": {},
   "outputs": [
    {
     "data": {
      "text/plain": [
       "<Axes: >"
      ]
     },
     "execution_count": 150,
     "metadata": {},
     "output_type": "execute_result"
    },
    {
     "data": {
      "image/png": "[encoded data removed]",
      "text/plain": [
       "<Figure size 640x480 with 1 Axes>"
      ]
     },
     "metadata": {},
     "output_type": "display_data"
    }
   ],
   "source": [
    "shape.plot()"
   ]
  },
  {
   "cell_type": "code",
   "execution_count": 151,
   "metadata": {},
   "outputs": [
    {
     "data": {
      "text/html": [
       "<div>\n",
       "<style scoped>\n",
       "    .dataframe tbody tr th:only-of-type {\n",
       "        vertical-align: middle;\n",
       "    }\n",
       "\n",
       "    .dataframe tbody tr th {\n",
       "        vertical-align: top;\n",
       "    }\n",
       "\n",
       "    .dataframe thead th {\n",
       "        text-align: right;\n",
       "    }\n",
       "</style>\n",
       "<table border=\"1\" class=\"dataframe\">\n",
       "  <thead>\n",
       "    <tr style=\"text-align: right;\">\n",
       "      <th></th>\n",
       "      <th>STATEFP</th>\n",
       "      <th>COUNTYFP</th>\n",
       "      <th>COUNTYNS</th>\n",
       "      <th>AFFGEOID</th>\n",
       "      <th>GEOID</th>\n",
       "      <th>NAME</th>\n",
       "      <th>NAMELSAD</th>\n",
       "      <th>STUSPS</th>\n",
       "      <th>STATE_NAME</th>\n",
       "      <th>LSAD</th>\n",
       "      <th>...</th>\n",
       "      <th>Drug Category</th>\n",
       "      <th>Death Count</th>\n",
       "      <th>Population</th>\n",
       "      <th>Crude Death Rate</th>\n",
       "      <th>Crude Lower CI</th>\n",
       "      <th>Crude Upper CI</th>\n",
       "      <th>Adjusted Death Rate</th>\n",
       "      <th>Adjusted Lower CI</th>\n",
       "      <th>Adjusted Upper CI</th>\n",
       "      <th>Date-Time Stamp</th>\n",
       "    </tr>\n",
       "  </thead>\n",
       "  <tbody>\n",
       "    <tr>\n",
       "      <th>0</th>\n",
       "      <td>12</td>\n",
       "      <td>037</td>\n",
       "      <td>00306911</td>\n",
       "      <td>0500000US12037</td>\n",
       "      <td>12037</td>\n",
       "      <td>Franklin</td>\n",
       "      <td>Franklin County</td>\n",
       "      <td>FL</td>\n",
       "      <td>Florida</td>\n",
       "      <td>06</td>\n",
       "      <td>...</td>\n",
       "      <td>Cocaine</td>\n",
       "      <td>0</td>\n",
       "      <td>NaN</td>\n",
       "      <td>NaN</td>\n",
       "      <td>NaN</td>\n",
       "      <td>NaN</td>\n",
       "      <td>NaN</td>\n",
       "      <td>NaN</td>\n",
       "      <td>NaN</td>\n",
       "      <td>2023-07-25 08:33:43.039</td>\n",
       "    </tr>\n",
       "    <tr>\n",
       "      <th>1</th>\n",
       "      <td>12</td>\n",
       "      <td>037</td>\n",
       "      <td>00306911</td>\n",
       "      <td>0500000US12037</td>\n",
       "      <td>12037</td>\n",
       "      <td>Franklin</td>\n",
       "      <td>Franklin County</td>\n",
       "      <td>FL</td>\n",
       "      <td>Florida</td>\n",
       "      <td>06</td>\n",
       "      <td>...</td>\n",
       "      <td>Heroin</td>\n",
       "      <td>0</td>\n",
       "      <td>NaN</td>\n",
       "      <td>NaN</td>\n",
       "      <td>NaN</td>\n",
       "      <td>NaN</td>\n",
       "      <td>NaN</td>\n",
       "      <td>NaN</td>\n",
       "      <td>NaN</td>\n",
       "      <td>2023-07-25 08:33:43.039</td>\n",
       "    </tr>\n",
       "    <tr>\n",
       "      <th>2</th>\n",
       "      <td>12</td>\n",
       "      <td>037</td>\n",
       "      <td>00306911</td>\n",
       "      <td>0500000US12037</td>\n",
       "      <td>12037</td>\n",
       "      <td>Franklin</td>\n",
       "      <td>Franklin County</td>\n",
       "      <td>FL</td>\n",
       "      <td>Florida</td>\n",
       "      <td>06</td>\n",
       "      <td>...</td>\n",
       "      <td>Psychostimulants</td>\n",
       "      <td>0</td>\n",
       "      <td>NaN</td>\n",
       "      <td>NaN</td>\n",
       "      <td>NaN</td>\n",
       "      <td>NaN</td>\n",
       "      <td>NaN</td>\n",
       "      <td>NaN</td>\n",
       "      <td>NaN</td>\n",
       "      <td>2023-07-25 08:33:43.039</td>\n",
       "    </tr>\n",
       "    <tr>\n",
       "      <th>3</th>\n",
       "      <td>12</td>\n",
       "      <td>037</td>\n",
       "      <td>00306911</td>\n",
       "      <td>0500000US12037</td>\n",
       "      <td>12037</td>\n",
       "      <td>Franklin</td>\n",
       "      <td>Franklin County</td>\n",
       "      <td>FL</td>\n",
       "      <td>Florida</td>\n",
       "      <td>06</td>\n",
       "      <td>...</td>\n",
       "      <td>Any Drug</td>\n",
       "      <td>*</td>\n",
       "      <td>NaN</td>\n",
       "      <td>NaN</td>\n",
       "      <td>NaN</td>\n",
       "      <td>NaN</td>\n",
       "      <td>NaN</td>\n",
       "      <td>NaN</td>\n",
       "      <td>NaN</td>\n",
       "      <td>2023-07-25 08:33:43.039</td>\n",
       "    </tr>\n",
       "    <tr>\n",
       "      <th>4</th>\n",
       "      <td>12</td>\n",
       "      <td>037</td>\n",
       "      <td>00306911</td>\n",
       "      <td>0500000US12037</td>\n",
       "      <td>12037</td>\n",
       "      <td>Franklin</td>\n",
       "      <td>Franklin County</td>\n",
       "      <td>FL</td>\n",
       "      <td>Florida</td>\n",
       "      <td>06</td>\n",
       "      <td>...</td>\n",
       "      <td>Any Drug</td>\n",
       "      <td>*</td>\n",
       "      <td>NaN</td>\n",
       "      <td>NaN</td>\n",
       "      <td>NaN</td>\n",
       "      <td>NaN</td>\n",
       "      <td>NaN</td>\n",
       "      <td>NaN</td>\n",
       "      <td>NaN</td>\n",
       "      <td>2023-07-25 08:33:43.039</td>\n",
       "    </tr>\n",
       "    <tr>\n",
       "      <th>...</th>\n",
       "      <td>...</td>\n",
       "      <td>...</td>\n",
       "      <td>...</td>\n",
       "      <td>...</td>\n",
       "      <td>...</td>\n",
       "      <td>...</td>\n",
       "      <td>...</td>\n",
       "      <td>...</td>\n",
       "      <td>...</td>\n",
       "      <td>...</td>\n",
       "      <td>...</td>\n",
       "      <td>...</td>\n",
       "      <td>...</td>\n",
       "      <td>...</td>\n",
       "      <td>...</td>\n",
       "      <td>...</td>\n",
       "      <td>...</td>\n",
       "      <td>...</td>\n",
       "      <td>...</td>\n",
       "      <td>...</td>\n",
       "      <td>...</td>\n",
       "    </tr>\n",
       "    <tr>\n",
       "      <th>63107</th>\n",
       "      <td>53</td>\n",
       "      <td>007</td>\n",
       "      <td>01531932</td>\n",
       "      <td>0500000US53007</td>\n",
       "      <td>53007</td>\n",
       "      <td>Chelan</td>\n",
       "      <td>Chelan County</td>\n",
       "      <td>WA</td>\n",
       "      <td>Washington</td>\n",
       "      <td>06</td>\n",
       "      <td>...</td>\n",
       "      <td>Psychostimulants</td>\n",
       "      <td>23</td>\n",
       "      <td>392370.0</td>\n",
       "      <td>5.86</td>\n",
       "      <td>3.91</td>\n",
       "      <td>8.8</td>\n",
       "      <td>6.56</td>\n",
       "      <td>4.05</td>\n",
       "      <td>10.14</td>\n",
       "      <td>2023-07-25 08:33:43.039</td>\n",
       "    </tr>\n",
       "    <tr>\n",
       "      <th>63108</th>\n",
       "      <td>53</td>\n",
       "      <td>007</td>\n",
       "      <td>01531932</td>\n",
       "      <td>0500000US53007</td>\n",
       "      <td>53007</td>\n",
       "      <td>Chelan</td>\n",
       "      <td>Chelan County</td>\n",
       "      <td>WA</td>\n",
       "      <td>Washington</td>\n",
       "      <td>06</td>\n",
       "      <td>...</td>\n",
       "      <td>Psychostimulants</td>\n",
       "      <td>29</td>\n",
       "      <td>395200.0</td>\n",
       "      <td>7.34</td>\n",
       "      <td>5.11</td>\n",
       "      <td>10.54</td>\n",
       "      <td>7.92</td>\n",
       "      <td>5.17</td>\n",
       "      <td>11.7</td>\n",
       "      <td>2023-07-25 08:33:43.039</td>\n",
       "    </tr>\n",
       "    <tr>\n",
       "      <th>63109</th>\n",
       "      <td>53</td>\n",
       "      <td>007</td>\n",
       "      <td>01531932</td>\n",
       "      <td>0500000US53007</td>\n",
       "      <td>53007</td>\n",
       "      <td>Chelan</td>\n",
       "      <td>Chelan County</td>\n",
       "      <td>WA</td>\n",
       "      <td>Washington</td>\n",
       "      <td>06</td>\n",
       "      <td>...</td>\n",
       "      <td>Synthetic Opioids</td>\n",
       "      <td>11</td>\n",
       "      <td>388620.0</td>\n",
       "      <td>2.83</td>\n",
       "      <td>1.58</td>\n",
       "      <td>5.07</td>\n",
       "      <td>3.25</td>\n",
       "      <td>1.59</td>\n",
       "      <td>6.02</td>\n",
       "      <td>2023-07-25 08:33:43.039</td>\n",
       "    </tr>\n",
       "    <tr>\n",
       "      <th>63110</th>\n",
       "      <td>53</td>\n",
       "      <td>007</td>\n",
       "      <td>01531932</td>\n",
       "      <td>0500000US53007</td>\n",
       "      <td>53007</td>\n",
       "      <td>Chelan</td>\n",
       "      <td>Chelan County</td>\n",
       "      <td>WA</td>\n",
       "      <td>Washington</td>\n",
       "      <td>06</td>\n",
       "      <td>...</td>\n",
       "      <td>Synthetic Opioids</td>\n",
       "      <td>13</td>\n",
       "      <td>392370.0</td>\n",
       "      <td>3.31</td>\n",
       "      <td>1.94</td>\n",
       "      <td>5.67</td>\n",
       "      <td>4.21</td>\n",
       "      <td>2.22</td>\n",
       "      <td>7.31</td>\n",
       "      <td>2023-07-25 08:33:43.039</td>\n",
       "    </tr>\n",
       "    <tr>\n",
       "      <th>63111</th>\n",
       "      <td>53</td>\n",
       "      <td>007</td>\n",
       "      <td>01531932</td>\n",
       "      <td>0500000US53007</td>\n",
       "      <td>53007</td>\n",
       "      <td>Chelan</td>\n",
       "      <td>Chelan County</td>\n",
       "      <td>WA</td>\n",
       "      <td>Washington</td>\n",
       "      <td>06</td>\n",
       "      <td>...</td>\n",
       "      <td>Synthetic Opioids</td>\n",
       "      <td>31</td>\n",
       "      <td>395200.0</td>\n",
       "      <td>7.84</td>\n",
       "      <td>5.53</td>\n",
       "      <td>11.13</td>\n",
       "      <td>9.88</td>\n",
       "      <td>6.66</td>\n",
       "      <td>14.17</td>\n",
       "      <td>2023-07-25 08:33:43.039</td>\n",
       "    </tr>\n",
       "  </tbody>\n",
       "</table>\n",
       "<p>63112 rows × 27 columns</p>\n",
       "</div>"
      ],
      "text/plain": [
       "      STATEFP COUNTYFP  COUNTYNS        AFFGEOID  GEOID      NAME  \\\n",
       "0          12      037  00306911  0500000US12037  12037  Franklin   \n",
       "1          12      037  00306911  0500000US12037  12037  Franklin   \n",
       "2          12      037  00306911  0500000US12037  12037  Franklin   \n",
       "3          12      037  00306911  0500000US12037  12037  Franklin   \n",
       "4          12      037  00306911  0500000US12037  12037  Franklin   \n",
       "...       ...      ...       ...             ...    ...       ...   \n",
       "63107      53      007  01531932  0500000US53007  53007    Chelan   \n",
       "63108      53      007  01531932  0500000US53007  53007    Chelan   \n",
       "63109      53      007  01531932  0500000US53007  53007    Chelan   \n",
       "63110      53      007  01531932  0500000US53007  53007    Chelan   \n",
       "63111      53      007  01531932  0500000US53007  53007    Chelan   \n",
       "\n",
       "              NAMELSAD STUSPS  STATE_NAME LSAD  ...      Drug Category  \\\n",
       "0      Franklin County     FL     Florida   06  ...            Cocaine   \n",
       "1      Franklin County     FL     Florida   06  ...             Heroin   \n",
       "2      Franklin County     FL     Florida   06  ...   Psychostimulants   \n",
       "3      Franklin County     FL     Florida   06  ...           Any Drug   \n",
       "4      Franklin County     FL     Florida   06  ...           Any Drug   \n",
       "...                ...    ...         ...  ...  ...                ...   \n",
       "63107    Chelan County     WA  Washington   06  ...   Psychostimulants   \n",
       "63108    Chelan County     WA  Washington   06  ...   Psychostimulants   \n",
       "63109    Chelan County     WA  Washington   06  ...  Synthetic Opioids   \n",
       "63110    Chelan County     WA  Washington   06  ...  Synthetic Opioids   \n",
       "63111    Chelan County     WA  Washington   06  ...  Synthetic Opioids   \n",
       "\n",
       "       Death Count Population  Crude Death Rate Crude Lower CI Crude Upper CI  \\\n",
       "0                0        NaN               NaN            NaN            NaN   \n",
       "1                0        NaN               NaN            NaN            NaN   \n",
       "2                0        NaN               NaN            NaN            NaN   \n",
       "3                *        NaN               NaN            NaN            NaN   \n",
       "4                *        NaN               NaN            NaN            NaN   \n",
       "...            ...        ...               ...            ...            ...   \n",
       "63107           23   392370.0              5.86           3.91            8.8   \n",
       "63108           29   395200.0              7.34           5.11          10.54   \n",
       "63109           11   388620.0              2.83           1.58           5.07   \n",
       "63110           13   392370.0              3.31           1.94           5.67   \n",
       "63111           31   395200.0              7.84           5.53          11.13   \n",
       "\n",
       "      Adjusted Death Rate Adjusted Lower CI Adjusted Upper CI  \\\n",
       "0                     NaN               NaN               NaN   \n",
       "1                     NaN               NaN               NaN   \n",
       "2                     NaN               NaN               NaN   \n",
       "3                     NaN               NaN               NaN   \n",
       "4                     NaN               NaN               NaN   \n",
       "...                   ...               ...               ...   \n",
       "63107                6.56              4.05             10.14   \n",
       "63108                7.92              5.17              11.7   \n",
       "63109                3.25              1.59              6.02   \n",
       "63110                4.21              2.22              7.31   \n",
       "63111                9.88              6.66             14.17   \n",
       "\n",
       "              Date-Time Stamp  \n",
       "0     2023-07-25 08:33:43.039  \n",
       "1     2023-07-25 08:33:43.039  \n",
       "2     2023-07-25 08:33:43.039  \n",
       "3     2023-07-25 08:33:43.039  \n",
       "4     2023-07-25 08:33:43.039  \n",
       "...                       ...  \n",
       "63107 2023-07-25 08:33:43.039  \n",
       "63108 2023-07-25 08:33:43.039  \n",
       "63109 2023-07-25 08:33:43.039  \n",
       "63110 2023-07-25 08:33:43.039  \n",
       "63111 2023-07-25 08:33:43.039  \n",
       "\n",
       "[63112 rows x 27 columns]"
      ]
     },
     "execution_count": 151,
     "metadata": {},
     "output_type": "execute_result"
    }
   ],
   "source": [
    "wa_geo_data = merge_geo('Data/geodata/cb_2022_us_county_500k.shp', xlsx_file)\n",
    "wa_geo_data"
   ]
  },
  {
   "cell_type": "code",
   "execution_count": 152,
   "metadata": {},
   "outputs": [
    {
     "name": "stdout",
     "output_type": "stream",
     "text": [
      "<class 'geopandas.geodataframe.GeoDataFrame'>\n",
      "RangeIndex: 63112 entries, 0 to 63111\n",
      "Data columns (total 27 columns):\n",
      " #   Column               Non-Null Count  Dtype         \n",
      "---  ------               --------------  -----         \n",
      " 0   STATEFP              63112 non-null  object        \n",
      " 1   COUNTYFP             63112 non-null  object        \n",
      " 2   COUNTYNS             63112 non-null  object        \n",
      " 3   AFFGEOID             63112 non-null  object        \n",
      " 4   GEOID                63112 non-null  object        \n",
      " 5   NAME                 63112 non-null  object        \n",
      " 6   NAMELSAD             63112 non-null  object        \n",
      " 7   STUSPS               63112 non-null  object        \n",
      " 8   STATE_NAME           63112 non-null  object        \n",
      " 9   LSAD                 63112 non-null  object        \n",
      " 10  ALAND                63112 non-null  int64         \n",
      " 11  AWATER               63112 non-null  int64         \n",
      " 12  geometry             63112 non-null  geometry      \n",
      " 13  Year                 63112 non-null  float64       \n",
      " 14  Time Aggregation     63112 non-null  object        \n",
      " 15  Location             63112 non-null  object        \n",
      " 16  Geography            63112 non-null  object        \n",
      " 17  Drug Category        63112 non-null  object        \n",
      " 18  Death Count          63112 non-null  object        \n",
      " 19  Population           20580 non-null  float64       \n",
      " 20  Crude Death Rate     20580 non-null  object        \n",
      " 21  Crude Lower CI       20580 non-null  object        \n",
      " 22  Crude Upper CI       20580 non-null  object        \n",
      " 23  Adjusted Death Rate  15956 non-null  object        \n",
      " 24  Adjusted Lower CI    15956 non-null  object        \n",
      " 25  Adjusted Upper CI    15956 non-null  object        \n",
      " 26  Date-Time Stamp      63112 non-null  datetime64[ns]\n",
      "dtypes: datetime64[ns](1), float64(2), geometry(1), int64(2), object(21)\n",
      "memory usage: 13.0+ MB\n"
     ]
    }
   ],
   "source": [
    "wa_geo_data.info()"
   ]
  },
  {
   "cell_type": "code",
   "execution_count": 153,
   "metadata": {},
   "outputs": [],
   "source": [
    "def drug_overdose_change(data, start=2015.0, end=2023.0):\n",
    "  wa_data = data[data['STATE_NAME'] == 'Washington']\n",
    "  drug = wa_data['Drug Category'] == 'Any Drug'\n",
    "  county = wa_data['Geography'] == 'County'\n",
    "  year = (wa_data['Year'] >= start) & (wa_data['Year'] <= end)\n",
    "  time = (wa_data['Time Aggregation'] == '1 year rolling counts')\n",
    "  remove_star = wa_data['Death Count'] != '*'\n",
    "  county_data = wa_data[drug & county & time & year & remove_star].copy()\n",
    "  county_data['Death Count'] = county_data['Death Count'].astype('int')\n",
    "  county_data = county_data.dissolve(by='Year', aggfunc='sum').reset_index()\n",
    "  fig = px.line(county_data, x=\"Year\", y=\"Death Count\",\n",
    "                title=f\"Drug Overdose Deaths in WA between {int(start)} and {int(end)}\", markers=True)\n",
    "  fig.update_layout(title_x=0.5, title_y=0.95,  font=dict(size=20))\n",
    "  fig.update_traces(line=dict(width=4), marker=dict(size=10))\n",
    "\n",
    "  fig.show()"
   ]
  },
  {
   "cell_type": "code",
   "execution_count": 154,
   "metadata": {},
   "outputs": [
    {
     "data": {
      "application/vnd.plotly.v1+json": {
       "config": {
        "plotlyServerURL": "https://plot.ly"
       },
       "data": [
        {
         "hovertemplate": "Year=%{x}<br>Death Count=%{y}<extra></extra>",
         "legendgroup": "",
         "line": {
          "color": "#636efa",
          "dash": "solid",
          "width": 4
         },
         "marker": {
          "size": 10,
          "symbol": "circle"
         },
         "mode": "lines+markers",
         "name": "",
         "orientation": "v",
         "showlegend": false,
         "type": "scatter",
         "x": [
          2020,
          2021,
          2022,
          2017,
          2020,
          2020,
          2022,
          2020,
          2020,
          2016,
          2017,
          2019,
          2020,
          2021,
          2022,
          2016,
          2017,
          2018,
          2019,
          2020,
          2021,
          2022,
          2017,
          2021,
          2022,
          2017,
          2022,
          2020,
          2021,
          2022,
          2016,
          2017,
          2018,
          2019,
          2020,
          2021,
          2022,
          2016,
          2017,
          2018,
          2019,
          2020,
          2021,
          2022,
          2016,
          2017,
          2018,
          2019,
          2020,
          2021,
          2022,
          2019,
          2020,
          2021,
          2022,
          2016,
          2018,
          2020,
          2016,
          2017,
          2019,
          2020,
          2021,
          2022,
          2016,
          2017,
          2018,
          2019,
          2020,
          2021,
          2022,
          2016,
          2017,
          2018,
          2019,
          2020,
          2021,
          2022,
          2016,
          2018,
          2019,
          2020,
          2022,
          2016,
          2020,
          2016,
          2017,
          2018,
          2019,
          2020,
          2021,
          2022,
          2021,
          2016,
          2017,
          2018,
          2019,
          2020,
          2021,
          2022,
          2019,
          2016,
          2017,
          2018,
          2019,
          2020,
          2021,
          2022,
          2016,
          2017,
          2018,
          2019,
          2020,
          2021,
          2022,
          2017,
          2020,
          2021,
          2022,
          2016,
          2017,
          2018,
          2019,
          2020,
          2021,
          2022,
          2016,
          2016,
          2019,
          2020,
          2021,
          2022,
          2018,
          2020,
          2016,
          2017,
          2018,
          2019,
          2020,
          2021,
          2022,
          2016,
          2018,
          2021,
          2022,
          2016,
          2018,
          2020,
          2021,
          2022,
          2022
         ],
         "xaxis": "x",
         "y": [
          13,
          16,
          18,
          0,
          0,
          12,
          27,
          0,
          0,
          10,
          15,
          13,
          12,
          30,
          33,
          94,
          99,
          93,
          87,
          176,
          240,
          257,
          0,
          11,
          10,
          11,
          13,
          10,
          12,
          26,
          0,
          0,
          0,
          0,
          0,
          0,
          0,
          20,
          20,
          17,
          18,
          32,
          26,
          29,
          40,
          39,
          38,
          36,
          69,
          69,
          84,
          13,
          15,
          26,
          30,
          0,
          0,
          0,
          11,
          14,
          10,
          27,
          32,
          58,
          14,
          19,
          26,
          22,
          33,
          62,
          103,
          206,
          237,
          243,
          287,
          350,
          504,
          677,
          0,
          0,
          0,
          0,
          0,
          0,
          0,
          15,
          23,
          27,
          28,
          56,
          63,
          60,
          13,
          11,
          13,
          17,
          13,
          23,
          26,
          24,
          0,
          13,
          13,
          11,
          14,
          18,
          23,
          23,
          26,
          22,
          20,
          22,
          33,
          35,
          57,
          12,
          11,
          14,
          11,
          57,
          30,
          35,
          36,
          47,
          126,
          156,
          0,
          0,
          0,
          0,
          0,
          0,
          0,
          0,
          90,
          100,
          129,
          136,
          183,
          186,
          207,
          0,
          0,
          0,
          0,
          14,
          11,
          11,
          24,
          24,
          21
         ],
         "yaxis": "y"
        }
       ],
       "layout": {
        "font": {
         "size": 20
        },
        "legend": {
         "tracegroupgap": 0
        },
        "template": {
         "data": {
          "bar": [
           {
            "error_x": {
             "color": "#2a3f5f"
            },
            "error_y": {
             "color": "#2a3f5f"
            },
            "marker": {
             "line": {
              "color": "#E5ECF6",
              "width": 0.5
             },
             "pattern": {
              "fillmode": "overlay",
              "size": 10,
              "solidity": 0.2
             }
            },
            "type": "bar"
           }
          ],
          "barpolar": [
           {
            "marker": {
             "line": {
              "color": "#E5ECF6",
              "width": 0.5
             },
             "pattern": {
              "fillmode": "overlay",
              "size": 10,
              "solidity": 0.2
             }
            },
            "type": "barpolar"
           }
          ],
          "carpet": [
           {
            "aaxis": {
             "endlinecolor": "#2a3f5f",
             "gridcolor": "white",
             "linecolor": "white",
             "minorgridcolor": "white",
             "startlinecolor": "#2a3f5f"
            },
            "baxis": {
             "endlinecolor": "#2a3f5f",
             "gridcolor": "white",
             "linecolor": "white",
             "minorgridcolor": "white",
             "startlinecolor": "#2a3f5f"
            },
            "type": "carpet"
           }
          ],
          "choropleth": [
           {
            "colorbar": {
             "outlinewidth": 0,
             "ticks": ""
            },
            "type": "choropleth"
           }
          ],
          "contour": [
           {
            "colorbar": {
             "outlinewidth": 0,
             "ticks": ""
            },
            "colorscale": [
             [
              0,
              "#0d0887"
             ],
             [
              0.1111111111111111,
              "#46039f"
             ],
             [
              0.2222222222222222,
              "#7201a8"
             ],
             [
              0.3333333333333333,
              "#9c179e"
             ],
             [
              0.4444444444444444,
              "#bd3786"
             ],
             [
              0.5555555555555556,
              "#d8576b"
             ],
             [
              0.6666666666666666,
              "#ed7953"
             ],
             [
              0.7777777777777778,
              "#fb9f3a"
             ],
             [
              0.8888888888888888,
              "#fdca26"
             ],
             [
              1,
              "#f0f921"
             ]
            ],
            "type": "contour"
           }
          ],
          "contourcarpet": [
           {
            "colorbar": {
             "outlinewidth": 0,
             "ticks": ""
            },
            "type": "contourcarpet"
           }
          ],
          "heatmap": [
           {
            "colorbar": {
             "outlinewidth": 0,
             "ticks": ""
            },
            "colorscale": [
             [
              0,
              "#0d0887"
             ],
             [
              0.1111111111111111,
              "#46039f"
             ],
             [
              0.2222222222222222,
              "#7201a8"
             ],
             [
              0.3333333333333333,
              "#9c179e"
             ],
             [
              0.4444444444444444,
              "#bd3786"
             ],
             [
              0.5555555555555556,
              "#d8576b"
             ],
             [
              0.6666666666666666,
              "#ed7953"
             ],
             [
              0.7777777777777778,
              "#fb9f3a"
             ],
             [
              0.8888888888888888,
              "#fdca26"
             ],
             [
              1,
              "#f0f921"
             ]
            ],
            "type": "heatmap"
           }
          ],
          "heatmapgl": [
           {
            "colorbar": {
             "outlinewidth": 0,
             "ticks": ""
            },
            "colorscale": [
             [
              0,
              "#0d0887"
             ],
             [
              0.1111111111111111,
              "#46039f"
             ],
             [
              0.2222222222222222,
              "#7201a8"
             ],
             [
              0.3333333333333333,
              "#9c179e"
             ],
             [
              0.4444444444444444,
              "#bd3786"
             ],
             [
              0.5555555555555556,
              "#d8576b"
             ],
             [
              0.6666666666666666,
              "#ed7953"
             ],
             [
              0.7777777777777778,
              "#fb9f3a"
             ],
             [
              0.8888888888888888,
              "#fdca26"
             ],
             [
              1,
              "#f0f921"
             ]
            ],
            "type": "heatmapgl"
           }
          ],
          "histogram": [
           {
            "marker": {
             "pattern": {
              "fillmode": "overlay",
              "size": 10,
              "solidity": 0.2
             }
            },
            "type": "histogram"
           }
          ],
          "histogram2d": [
           {
            "colorbar": {
             "outlinewidth": 0,
             "ticks": ""
            },
            "colorscale": [
             [
              0,
              "#0d0887"
             ],
             [
              0.1111111111111111,
              "#46039f"
             ],
             [
              0.2222222222222222,
              "#7201a8"
             ],
             [
              0.3333333333333333,
              "#9c179e"
             ],
             [
              0.4444444444444444,
              "#bd3786"
             ],
             [
              0.5555555555555556,
              "#d8576b"
             ],
             [
              0.6666666666666666,
              "#ed7953"
             ],
             [
              0.7777777777777778,
              "#fb9f3a"
             ],
             [
              0.8888888888888888,
              "#fdca26"
             ],
             [
              1,
              "#f0f921"
             ]
            ],
            "type": "histogram2d"
           }
          ],
          "histogram2dcontour": [
           {
            "colorbar": {
             "outlinewidth": 0,
             "ticks": ""
            },
            "colorscale": [
             [
              0,
              "#0d0887"
             ],
             [
              0.1111111111111111,
              "#46039f"
             ],
             [
              0.2222222222222222,
              "#7201a8"
             ],
             [
              0.3333333333333333,
              "#9c179e"
             ],
             [
              0.4444444444444444,
              "#bd3786"
             ],
             [
              0.5555555555555556,
              "#d8576b"
             ],
             [
              0.6666666666666666,
              "#ed7953"
             ],
             [
              0.7777777777777778,
              "#fb9f3a"
             ],
             [
              0.8888888888888888,
              "#fdca26"
             ],
             [
              1,
              "#f0f921"
             ]
            ],
            "type": "histogram2dcontour"
           }
          ],
          "mesh3d": [
           {
            "colorbar": {
             "outlinewidth": 0,
             "ticks": ""
            },
            "type": "mesh3d"
           }
          ],
          "parcoords": [
           {
            "line": {
             "colorbar": {
              "outlinewidth": 0,
              "ticks": ""
             }
            },
            "type": "parcoords"
           }
          ],
          "pie": [
           {
            "automargin": true,
            "type": "pie"
           }
          ],
          "scatter": [
           {
            "fillpattern": {
             "fillmode": "overlay",
             "size": 10,
             "solidity": 0.2
            },
            "type": "scatter"
           }
          ],
          "scatter3d": [
           {
            "line": {
             "colorbar": {
              "outlinewidth": 0,
              "ticks": ""
             }
            },
            "marker": {
             "colorbar": {
              "outlinewidth": 0,
              "ticks": ""
             }
            },
            "type": "scatter3d"
           }
          ],
          "scattercarpet": [
           {
            "marker": {
             "colorbar": {
              "outlinewidth": 0,
              "ticks": ""
             }
            },
            "type": "scattercarpet"
           }
          ],
          "scattergeo": [
           {
            "marker": {
             "colorbar": {
              "outlinewidth": 0,
              "ticks": ""
             }
            },
            "type": "scattergeo"
           }
          ],
          "scattergl": [
           {
            "marker": {
             "colorbar": {
              "outlinewidth": 0,
              "ticks": ""
             }
            },
            "type": "scattergl"
           }
          ],
          "scattermapbox": [
           {
            "marker": {
             "colorbar": {
              "outlinewidth": 0,
              "ticks": ""
             }
            },
            "type": "scattermapbox"
           }
          ],
          "scatterpolar": [
           {
            "marker": {
             "colorbar": {
              "outlinewidth": 0,
              "ticks": ""
             }
            },
            "type": "scatterpolar"
           }
          ],
          "scatterpolargl": [
           {
            "marker": {
             "colorbar": {
              "outlinewidth": 0,
              "ticks": ""
             }
            },
            "type": "scatterpolargl"
           }
          ],
          "scatterternary": [
           {
            "marker": {
             "colorbar": {
              "outlinewidth": 0,
              "ticks": ""
             }
            },
            "type": "scatterternary"
           }
          ],
          "surface": [
           {
            "colorbar": {
             "outlinewidth": 0,
             "ticks": ""
            },
            "colorscale": [
             [
              0,
              "#0d0887"
             ],
             [
              0.1111111111111111,
              "#46039f"
             ],
             [
              0.2222222222222222,
              "#7201a8"
             ],
             [
              0.3333333333333333,
              "#9c179e"
             ],
             [
              0.4444444444444444,
              "#bd3786"
             ],
             [
              0.5555555555555556,
              "#d8576b"
             ],
             [
              0.6666666666666666,
              "#ed7953"
             ],
             [
              0.7777777777777778,
              "#fb9f3a"
             ],
             [
              0.8888888888888888,
              "#fdca26"
             ],
             [
              1,
              "#f0f921"
             ]
            ],
            "type": "surface"
           }
          ],
          "table": [
           {
            "cells": {
             "fill": {
              "color": "#EBF0F8"
             },
             "line": {
              "color": "white"
             }
            },
            "header": {
             "fill": {
              "color": "#C8D4E3"
             },
             "line": {
              "color": "white"
             }
            },
            "type": "table"
           }
          ]
         },
         "layout": {
          "annotationdefaults": {
           "arrowcolor": "#2a3f5f",
           "arrowhead": 0,
           "arrowwidth": 1
          },
          "autotypenumbers": "strict",
          "coloraxis": {
           "colorbar": {
            "outlinewidth": 0,
            "ticks": ""
           }
          },
          "colorscale": {
           "diverging": [
            [
             0,
             "#8e0152"
            ],
            [
             0.1,
             "#c51b7d"
            ],
            [
             0.2,
             "#de77ae"
            ],
            [
             0.3,
             "#f1b6da"
            ],
            [
             0.4,
             "#fde0ef"
            ],
            [
             0.5,
             "#f7f7f7"
            ],
            [
             0.6,
             "#e6f5d0"
            ],
            [
             0.7,
             "#b8e186"
            ],
            [
             0.8,
             "#7fbc41"
            ],
            [
             0.9,
             "#4d9221"
            ],
            [
             1,
             "#276419"
            ]
           ],
           "sequential": [
            [
             0,
             "#0d0887"
            ],
            [
             0.1111111111111111,
             "#46039f"
            ],
            [
             0.2222222222222222,
             "#7201a8"
            ],
            [
             0.3333333333333333,
             "#9c179e"
            ],
            [
             0.4444444444444444,
             "#bd3786"
            ],
            [
             0.5555555555555556,
             "#d8576b"
            ],
            [
             0.6666666666666666,
             "#ed7953"
            ],
            [
             0.7777777777777778,
             "#fb9f3a"
            ],
            [
             0.8888888888888888,
             "#fdca26"
            ],
            [
             1,
             "#f0f921"
            ]
           ],
           "sequentialminus": [
            [
             0,
             "#0d0887"
            ],
            [
             0.1111111111111111,
             "#46039f"
            ],
            [
             0.2222222222222222,
             "#7201a8"
            ],
            [
             0.3333333333333333,
             "#9c179e"
            ],
            [
             0.4444444444444444,
             "#bd3786"
            ],
            [
             0.5555555555555556,
             "#d8576b"
            ],
            [
             0.6666666666666666,
             "#ed7953"
            ],
            [
             0.7777777777777778,
             "#fb9f3a"
            ],
            [
             0.8888888888888888,
             "#fdca26"
            ],
            [
             1,
             "#f0f921"
            ]
           ]
          },
          "colorway": [
           "#636efa",
           "#EF553B",
           "#00cc96",
           "#ab63fa",
           "#FFA15A",
           "#19d3f3",
           "#FF6692",
           "#B6E880",
           "#FF97FF",
           "#FECB52"
          ],
          "font": {
           "color": "#2a3f5f"
          },
          "geo": {
           "bgcolor": "white",
           "lakecolor": "white",
           "landcolor": "#E5ECF6",
           "showlakes": true,
           "showland": true,
           "subunitcolor": "white"
          },
          "hoverlabel": {
           "align": "left"
          },
          "hovermode": "closest",
          "mapbox": {
           "style": "light"
          },
          "paper_bgcolor": "white",
          "plot_bgcolor": "#E5ECF6",
          "polar": {
           "angularaxis": {
            "gridcolor": "white",
            "linecolor": "white",
            "ticks": ""
           },
           "bgcolor": "#E5ECF6",
           "radialaxis": {
            "gridcolor": "white",
            "linecolor": "white",
            "ticks": ""
           }
          },
          "scene": {
           "xaxis": {
            "backgroundcolor": "#E5ECF6",
            "gridcolor": "white",
            "gridwidth": 2,
            "linecolor": "white",
            "showbackground": true,
            "ticks": "",
            "zerolinecolor": "white"
           },
           "yaxis": {
            "backgroundcolor": "#E5ECF6",
            "gridcolor": "white",
            "gridwidth": 2,
            "linecolor": "white",
            "showbackground": true,
            "ticks": "",
            "zerolinecolor": "white"
           },
           "zaxis": {
            "backgroundcolor": "#E5ECF6",
            "gridcolor": "white",
            "gridwidth": 2,
            "linecolor": "white",
            "showbackground": true,
            "ticks": "",
            "zerolinecolor": "white"
           }
          },
          "shapedefaults": {
           "line": {
            "color": "#2a3f5f"
           }
          },
          "ternary": {
           "aaxis": {
            "gridcolor": "white",
            "linecolor": "white",
            "ticks": ""
           },
           "baxis": {
            "gridcolor": "white",
            "linecolor": "white",
            "ticks": ""
           },
           "bgcolor": "#E5ECF6",
           "caxis": {
            "gridcolor": "white",
            "linecolor": "white",
            "ticks": ""
           }
          },
          "title": {
           "x": 0.05
          },
          "xaxis": {
           "automargin": true,
           "gridcolor": "white",
           "linecolor": "white",
           "ticks": "",
           "title": {
            "standoff": 15
           },
           "zerolinecolor": "white",
           "zerolinewidth": 2
          },
          "yaxis": {
           "automargin": true,
           "gridcolor": "white",
           "linecolor": "white",
           "ticks": "",
           "title": {
            "standoff": 15
           },
           "zerolinecolor": "white",
           "zerolinewidth": 2
          }
         }
        },
        "title": {
         "text": "Drug Overdose Deaths in WA between 2015 and 2023",
         "x": 0.5,
         "y": 0.95
        },
        "xaxis": {
         "anchor": "y",
         "domain": [
          0,
          1
         ],
         "title": {
          "text": "Year"
         }
        },
        "yaxis": {
         "anchor": "x",
         "domain": [
          0,
          1
         ],
         "title": {
          "text": "Death Count"
         }
        }
       }
      }
     },
     "metadata": {},
     "output_type": "display_data"
    }
   ],
   "source": [
    "is_washington = wa_geo_data['STATE_NAME'] == 'Washington'\n",
    "is_opioid = (wa_geo_data['Drug Category'] == 'Any Opioid')\n",
    "county = (wa_geo_data['Geography'] == 'County')\n",
    "year = (wa_geo_data['Year'] >= 2015.0) & (wa_geo_data['Year'] <= 2023.0)\n",
    "time = (wa_geo_data['Time Aggregation'] == '1 year rolling counts')\n",
    "remove_star = (wa_geo_data['Death Count'] != '*')\n",
    "county_data = wa_geo_data[is_washington & is_opioid & county & year & time & remove_star].copy()\n",
    "county_data['Death Count'] = county_data['Death Count'].astype('int')\n",
    "fig = px.line(county_data, x=\"Year\", y=\"Death Count\",\n",
    "                title=f\"Drug Overdose Deaths in WA between {int(2015.0)} and {int(2023.0)}\", markers=True)\n",
    "fig.update_layout(title_x=0.5, title_y=0.95,  font=dict(size=20))\n",
    "fig.update_traces(line=dict(width=4), marker=dict(size=10))\n",
    "\n",
    "fig.show()"
   ]
  },
  {
   "cell_type": "code",
   "execution_count": 155,
   "metadata": {},
   "outputs": [
    {
     "ename": "TypeError",
     "evalue": "datetime64 type does not support sum operations",
     "output_type": "error",
     "traceback": [
      "\u001b[1;31m---------------------------------------------------------------------------\u001b[0m",
      "\u001b[1;31mTypeError\u001b[0m                                 Traceback (most recent call last)",
      "Cell \u001b[1;32mIn[155], line 1\u001b[0m\n\u001b[1;32m----> 1\u001b[0m drug_overdose_change(wa_geo_data)\n",
      "Cell \u001b[1;32mIn[153], line 10\u001b[0m, in \u001b[0;36mdrug_overdose_change\u001b[1;34m(data, start, end)\u001b[0m\n\u001b[0;32m      8\u001b[0m county_data \u001b[39m=\u001b[39m wa_data[drug \u001b[39m&\u001b[39m county \u001b[39m&\u001b[39m time \u001b[39m&\u001b[39m year \u001b[39m&\u001b[39m remove_star]\u001b[39m.\u001b[39mcopy()\n\u001b[0;32m      9\u001b[0m county_data[\u001b[39m'\u001b[39m\u001b[39mDeath Count\u001b[39m\u001b[39m'\u001b[39m] \u001b[39m=\u001b[39m county_data[\u001b[39m'\u001b[39m\u001b[39mDeath Count\u001b[39m\u001b[39m'\u001b[39m]\u001b[39m.\u001b[39mastype(\u001b[39m'\u001b[39m\u001b[39mint\u001b[39m\u001b[39m'\u001b[39m)\n\u001b[1;32m---> 10\u001b[0m county_data \u001b[39m=\u001b[39m county_data\u001b[39m.\u001b[39;49mdissolve(by\u001b[39m=\u001b[39;49m\u001b[39m'\u001b[39;49m\u001b[39mYear\u001b[39;49m\u001b[39m'\u001b[39;49m, aggfunc\u001b[39m=\u001b[39;49m\u001b[39m'\u001b[39;49m\u001b[39msum\u001b[39;49m\u001b[39m'\u001b[39;49m)\u001b[39m.\u001b[39mreset_index()\n\u001b[0;32m     11\u001b[0m fig \u001b[39m=\u001b[39m px\u001b[39m.\u001b[39mline(county_data, x\u001b[39m=\u001b[39m\u001b[39m\"\u001b[39m\u001b[39mYear\u001b[39m\u001b[39m\"\u001b[39m, y\u001b[39m=\u001b[39m\u001b[39m\"\u001b[39m\u001b[39mDeath Count\u001b[39m\u001b[39m\"\u001b[39m,\n\u001b[0;32m     12\u001b[0m               title\u001b[39m=\u001b[39m\u001b[39mf\u001b[39m\u001b[39m\"\u001b[39m\u001b[39mDrug Overdose Deaths in WA between \u001b[39m\u001b[39m{\u001b[39;00m\u001b[39mint\u001b[39m(start)\u001b[39m}\u001b[39;00m\u001b[39m and \u001b[39m\u001b[39m{\u001b[39;00m\u001b[39mint\u001b[39m(end)\u001b[39m}\u001b[39;00m\u001b[39m\"\u001b[39m, markers\u001b[39m=\u001b[39m\u001b[39mTrue\u001b[39;00m)\n\u001b[0;32m     13\u001b[0m fig\u001b[39m.\u001b[39mupdate_layout(title_x\u001b[39m=\u001b[39m\u001b[39m0.5\u001b[39m, title_y\u001b[39m=\u001b[39m\u001b[39m0.95\u001b[39m,  font\u001b[39m=\u001b[39m\u001b[39mdict\u001b[39m(size\u001b[39m=\u001b[39m\u001b[39m20\u001b[39m))\n",
      "File \u001b[1;32mc:\\Users\\brand\\anaconda3\\envs\\cse163\\lib\\site-packages\\geopandas\\geodataframe.py:1780\u001b[0m, in \u001b[0;36mGeoDataFrame.dissolve\u001b[1;34m(self, by, aggfunc, as_index, level, sort, observed, dropna, **kwargs)\u001b[0m\n\u001b[0;32m   1778\u001b[0m data \u001b[39m=\u001b[39m \u001b[39mself\u001b[39m\u001b[39m.\u001b[39mdrop(labels\u001b[39m=\u001b[39m\u001b[39mself\u001b[39m\u001b[39m.\u001b[39mgeometry\u001b[39m.\u001b[39mname, axis\u001b[39m=\u001b[39m\u001b[39m1\u001b[39m)\n\u001b[0;32m   1779\u001b[0m \u001b[39mwith\u001b[39;00m warnings\u001b[39m.\u001b[39mcatch_warnings(record\u001b[39m=\u001b[39m\u001b[39mTrue\u001b[39;00m) \u001b[39mas\u001b[39;00m record:\n\u001b[1;32m-> 1780\u001b[0m     aggregated_data \u001b[39m=\u001b[39m data\u001b[39m.\u001b[39mgroupby(\u001b[39m*\u001b[39m\u001b[39m*\u001b[39mgroupby_kwargs)\u001b[39m.\u001b[39magg(aggfunc, \u001b[39m*\u001b[39m\u001b[39m*\u001b[39mkwargs)\n\u001b[0;32m   1781\u001b[0m \u001b[39mfor\u001b[39;00m w \u001b[39min\u001b[39;00m record:\n\u001b[0;32m   1782\u001b[0m     \u001b[39mif\u001b[39;00m \u001b[39mstr\u001b[39m(w\u001b[39m.\u001b[39mmessage)\u001b[39m.\u001b[39mstartswith(\u001b[39m\"\u001b[39m\u001b[39mThe default value of numeric_only\u001b[39m\u001b[39m\"\u001b[39m):\n",
      "File \u001b[1;32mc:\\Users\\brand\\anaconda3\\envs\\cse163\\lib\\site-packages\\pandas\\core\\groupby\\generic.py:1269\u001b[0m, in \u001b[0;36mDataFrameGroupBy.aggregate\u001b[1;34m(self, func, engine, engine_kwargs, *args, **kwargs)\u001b[0m\n\u001b[0;32m   1266\u001b[0m func \u001b[39m=\u001b[39m maybe_mangle_lambdas(func)\n\u001b[0;32m   1268\u001b[0m op \u001b[39m=\u001b[39m GroupByApply(\u001b[39mself\u001b[39m, func, args, kwargs)\n\u001b[1;32m-> 1269\u001b[0m result \u001b[39m=\u001b[39m op\u001b[39m.\u001b[39;49magg()\n\u001b[0;32m   1270\u001b[0m \u001b[39mif\u001b[39;00m \u001b[39mnot\u001b[39;00m is_dict_like(func) \u001b[39mand\u001b[39;00m result \u001b[39mis\u001b[39;00m \u001b[39mnot\u001b[39;00m \u001b[39mNone\u001b[39;00m:\n\u001b[0;32m   1271\u001b[0m     \u001b[39mreturn\u001b[39;00m result\n",
      "File \u001b[1;32mc:\\Users\\brand\\anaconda3\\envs\\cse163\\lib\\site-packages\\pandas\\core\\apply.py:160\u001b[0m, in \u001b[0;36mApply.agg\u001b[1;34m(self)\u001b[0m\n\u001b[0;32m    157\u001b[0m kwargs \u001b[39m=\u001b[39m \u001b[39mself\u001b[39m\u001b[39m.\u001b[39mkwargs\n\u001b[0;32m    159\u001b[0m \u001b[39mif\u001b[39;00m \u001b[39misinstance\u001b[39m(arg, \u001b[39mstr\u001b[39m):\n\u001b[1;32m--> 160\u001b[0m     \u001b[39mreturn\u001b[39;00m \u001b[39mself\u001b[39;49m\u001b[39m.\u001b[39;49mapply_str()\n\u001b[0;32m    162\u001b[0m \u001b[39mif\u001b[39;00m is_dict_like(arg):\n\u001b[0;32m    163\u001b[0m     \u001b[39mreturn\u001b[39;00m \u001b[39mself\u001b[39m\u001b[39m.\u001b[39magg_dict_like()\n",
      "File \u001b[1;32mc:\\Users\\brand\\anaconda3\\envs\\cse163\\lib\\site-packages\\pandas\\core\\apply.py:496\u001b[0m, in \u001b[0;36mApply.apply_str\u001b[1;34m(self)\u001b[0m\n\u001b[0;32m    494\u001b[0m     \u001b[39mif\u001b[39;00m \u001b[39m\"\u001b[39m\u001b[39maxis\u001b[39m\u001b[39m\"\u001b[39m \u001b[39min\u001b[39;00m arg_names:\n\u001b[0;32m    495\u001b[0m         \u001b[39mself\u001b[39m\u001b[39m.\u001b[39mkwargs[\u001b[39m\"\u001b[39m\u001b[39maxis\u001b[39m\u001b[39m\"\u001b[39m] \u001b[39m=\u001b[39m \u001b[39mself\u001b[39m\u001b[39m.\u001b[39maxis\n\u001b[1;32m--> 496\u001b[0m \u001b[39mreturn\u001b[39;00m \u001b[39mself\u001b[39m\u001b[39m.\u001b[39m_try_aggregate_string_function(obj, f, \u001b[39m*\u001b[39m\u001b[39mself\u001b[39m\u001b[39m.\u001b[39margs, \u001b[39m*\u001b[39m\u001b[39m*\u001b[39m\u001b[39mself\u001b[39m\u001b[39m.\u001b[39mkwargs)\n",
      "File \u001b[1;32mc:\\Users\\brand\\anaconda3\\envs\\cse163\\lib\\site-packages\\pandas\\core\\apply.py:565\u001b[0m, in \u001b[0;36mApply._try_aggregate_string_function\u001b[1;34m(self, obj, arg, *args, **kwargs)\u001b[0m\n\u001b[0;32m    563\u001b[0m \u001b[39mif\u001b[39;00m f \u001b[39mis\u001b[39;00m \u001b[39mnot\u001b[39;00m \u001b[39mNone\u001b[39;00m:\n\u001b[0;32m    564\u001b[0m     \u001b[39mif\u001b[39;00m \u001b[39mcallable\u001b[39m(f):\n\u001b[1;32m--> 565\u001b[0m         \u001b[39mreturn\u001b[39;00m f(\u001b[39m*\u001b[39margs, \u001b[39m*\u001b[39m\u001b[39m*\u001b[39mkwargs)\n\u001b[0;32m    567\u001b[0m     \u001b[39m# people may try to aggregate on a non-callable attribute\u001b[39;00m\n\u001b[0;32m    568\u001b[0m     \u001b[39m# but don't let them think they can pass args to it\u001b[39;00m\n\u001b[0;32m    569\u001b[0m     \u001b[39massert\u001b[39;00m \u001b[39mlen\u001b[39m(args) \u001b[39m==\u001b[39m \u001b[39m0\u001b[39m\n",
      "File \u001b[1;32mc:\\Users\\brand\\anaconda3\\envs\\cse163\\lib\\site-packages\\pandas\\core\\groupby\\groupby.py:2263\u001b[0m, in \u001b[0;36mGroupBy.sum\u001b[1;34m(self, numeric_only, min_count, engine, engine_kwargs)\u001b[0m\n\u001b[0;32m   2258\u001b[0m \u001b[39melse\u001b[39;00m:\n\u001b[0;32m   2259\u001b[0m     \u001b[39m# If we are grouping on categoricals we want unobserved categories to\u001b[39;00m\n\u001b[0;32m   2260\u001b[0m     \u001b[39m# return zero, rather than the default of NaN which the reindexing in\u001b[39;00m\n\u001b[0;32m   2261\u001b[0m     \u001b[39m# _agg_general() returns. GH #31422\u001b[39;00m\n\u001b[0;32m   2262\u001b[0m     \u001b[39mwith\u001b[39;00m com\u001b[39m.\u001b[39mtemp_setattr(\u001b[39mself\u001b[39m, \u001b[39m\"\u001b[39m\u001b[39mobserved\u001b[39m\u001b[39m\"\u001b[39m, \u001b[39mTrue\u001b[39;00m):\n\u001b[1;32m-> 2263\u001b[0m         result \u001b[39m=\u001b[39m \u001b[39mself\u001b[39;49m\u001b[39m.\u001b[39;49m_agg_general(\n\u001b[0;32m   2264\u001b[0m             numeric_only\u001b[39m=\u001b[39;49mnumeric_only,\n\u001b[0;32m   2265\u001b[0m             min_count\u001b[39m=\u001b[39;49mmin_count,\n\u001b[0;32m   2266\u001b[0m             alias\u001b[39m=\u001b[39;49m\u001b[39m\"\u001b[39;49m\u001b[39msum\u001b[39;49m\u001b[39m\"\u001b[39;49m,\n\u001b[0;32m   2267\u001b[0m             npfunc\u001b[39m=\u001b[39;49mnp\u001b[39m.\u001b[39;49msum,\n\u001b[0;32m   2268\u001b[0m         )\n\u001b[0;32m   2270\u001b[0m     \u001b[39mreturn\u001b[39;00m \u001b[39mself\u001b[39m\u001b[39m.\u001b[39m_reindex_output(result, fill_value\u001b[39m=\u001b[39m\u001b[39m0\u001b[39m)\n",
      "File \u001b[1;32mc:\\Users\\brand\\anaconda3\\envs\\cse163\\lib\\site-packages\\pandas\\core\\groupby\\groupby.py:1422\u001b[0m, in \u001b[0;36mGroupBy._agg_general\u001b[1;34m(self, numeric_only, min_count, alias, npfunc)\u001b[0m\n\u001b[0;32m   1413\u001b[0m \u001b[39m@final\u001b[39m\n\u001b[0;32m   1414\u001b[0m \u001b[39mdef\u001b[39;00m \u001b[39m_agg_general\u001b[39m(\n\u001b[0;32m   1415\u001b[0m     \u001b[39mself\u001b[39m,\n\u001b[1;32m   (...)\u001b[0m\n\u001b[0;32m   1420\u001b[0m     npfunc: Callable,\n\u001b[0;32m   1421\u001b[0m ):\n\u001b[1;32m-> 1422\u001b[0m     result \u001b[39m=\u001b[39m \u001b[39mself\u001b[39;49m\u001b[39m.\u001b[39;49m_cython_agg_general(\n\u001b[0;32m   1423\u001b[0m         how\u001b[39m=\u001b[39;49malias,\n\u001b[0;32m   1424\u001b[0m         alt\u001b[39m=\u001b[39;49mnpfunc,\n\u001b[0;32m   1425\u001b[0m         numeric_only\u001b[39m=\u001b[39;49mnumeric_only,\n\u001b[0;32m   1426\u001b[0m         min_count\u001b[39m=\u001b[39;49mmin_count,\n\u001b[0;32m   1427\u001b[0m     )\n\u001b[0;32m   1428\u001b[0m     \u001b[39mreturn\u001b[39;00m result\u001b[39m.\u001b[39m__finalize__(\u001b[39mself\u001b[39m\u001b[39m.\u001b[39mobj, method\u001b[39m=\u001b[39m\u001b[39m\"\u001b[39m\u001b[39mgroupby\u001b[39m\u001b[39m\"\u001b[39m)\n",
      "File \u001b[1;32mc:\\Users\\brand\\anaconda3\\envs\\cse163\\lib\\site-packages\\pandas\\core\\groupby\\groupby.py:1507\u001b[0m, in \u001b[0;36mGroupBy._cython_agg_general\u001b[1;34m(self, how, alt, numeric_only, min_count, **kwargs)\u001b[0m\n\u001b[0;32m   1503\u001b[0m         result \u001b[39m=\u001b[39m \u001b[39mself\u001b[39m\u001b[39m.\u001b[39m_agg_py_fallback(values, ndim\u001b[39m=\u001b[39mdata\u001b[39m.\u001b[39mndim, alt\u001b[39m=\u001b[39malt)\n\u001b[0;32m   1505\u001b[0m     \u001b[39mreturn\u001b[39;00m result\n\u001b[1;32m-> 1507\u001b[0m new_mgr \u001b[39m=\u001b[39m data\u001b[39m.\u001b[39;49mgrouped_reduce(array_func)\n\u001b[0;32m   1508\u001b[0m res \u001b[39m=\u001b[39m \u001b[39mself\u001b[39m\u001b[39m.\u001b[39m_wrap_agged_manager(new_mgr)\n\u001b[0;32m   1509\u001b[0m out \u001b[39m=\u001b[39m \u001b[39mself\u001b[39m\u001b[39m.\u001b[39m_wrap_aggregated_output(res)\n",
      "File \u001b[1;32mc:\\Users\\brand\\anaconda3\\envs\\cse163\\lib\\site-packages\\pandas\\core\\internals\\managers.py:1506\u001b[0m, in \u001b[0;36mBlockManager.grouped_reduce\u001b[1;34m(self, func)\u001b[0m\n\u001b[0;32m   1504\u001b[0m             result_blocks \u001b[39m=\u001b[39m extend_blocks(applied, result_blocks)\n\u001b[0;32m   1505\u001b[0m     \u001b[39melse\u001b[39;00m:\n\u001b[1;32m-> 1506\u001b[0m         applied \u001b[39m=\u001b[39m blk\u001b[39m.\u001b[39;49mapply(func)\n\u001b[0;32m   1507\u001b[0m         result_blocks \u001b[39m=\u001b[39m extend_blocks(applied, result_blocks)\n\u001b[0;32m   1509\u001b[0m \u001b[39mif\u001b[39;00m \u001b[39mlen\u001b[39m(result_blocks) \u001b[39m==\u001b[39m \u001b[39m0\u001b[39m:\n",
      "File \u001b[1;32mc:\\Users\\brand\\anaconda3\\envs\\cse163\\lib\\site-packages\\pandas\\core\\internals\\blocks.py:329\u001b[0m, in \u001b[0;36mBlock.apply\u001b[1;34m(self, func, **kwargs)\u001b[0m\n\u001b[0;32m    323\u001b[0m \u001b[39m@final\u001b[39m\n\u001b[0;32m    324\u001b[0m \u001b[39mdef\u001b[39;00m \u001b[39mapply\u001b[39m(\u001b[39mself\u001b[39m, func, \u001b[39m*\u001b[39m\u001b[39m*\u001b[39mkwargs) \u001b[39m-\u001b[39m\u001b[39m>\u001b[39m \u001b[39mlist\u001b[39m[Block]:\n\u001b[0;32m    325\u001b[0m \u001b[39m    \u001b[39m\u001b[39m\"\"\"\u001b[39;00m\n\u001b[0;32m    326\u001b[0m \u001b[39m    apply the function to my values; return a block if we are not\u001b[39;00m\n\u001b[0;32m    327\u001b[0m \u001b[39m    one\u001b[39;00m\n\u001b[0;32m    328\u001b[0m \u001b[39m    \"\"\"\u001b[39;00m\n\u001b[1;32m--> 329\u001b[0m     result \u001b[39m=\u001b[39m func(\u001b[39mself\u001b[39m\u001b[39m.\u001b[39mvalues, \u001b[39m*\u001b[39m\u001b[39m*\u001b[39mkwargs)\n\u001b[0;32m    331\u001b[0m     \u001b[39mreturn\u001b[39;00m \u001b[39mself\u001b[39m\u001b[39m.\u001b[39m_split_op_result(result)\n",
      "File \u001b[1;32mc:\\Users\\brand\\anaconda3\\envs\\cse163\\lib\\site-packages\\pandas\\core\\groupby\\groupby.py:1490\u001b[0m, in \u001b[0;36mGroupBy._cython_agg_general.<locals>.array_func\u001b[1;34m(values)\u001b[0m\n\u001b[0;32m   1488\u001b[0m \u001b[39mdef\u001b[39;00m \u001b[39marray_func\u001b[39m(values: ArrayLike) \u001b[39m-\u001b[39m\u001b[39m>\u001b[39m ArrayLike:\n\u001b[0;32m   1489\u001b[0m     \u001b[39mtry\u001b[39;00m:\n\u001b[1;32m-> 1490\u001b[0m         result \u001b[39m=\u001b[39m \u001b[39mself\u001b[39m\u001b[39m.\u001b[39mgrouper\u001b[39m.\u001b[39m_cython_operation(\n\u001b[0;32m   1491\u001b[0m             \u001b[39m\"\u001b[39m\u001b[39maggregate\u001b[39m\u001b[39m\"\u001b[39m,\n\u001b[0;32m   1492\u001b[0m             values,\n\u001b[0;32m   1493\u001b[0m             how,\n\u001b[0;32m   1494\u001b[0m             axis\u001b[39m=\u001b[39mdata\u001b[39m.\u001b[39mndim \u001b[39m-\u001b[39m \u001b[39m1\u001b[39m,\n\u001b[0;32m   1495\u001b[0m             min_count\u001b[39m=\u001b[39mmin_count,\n\u001b[0;32m   1496\u001b[0m             \u001b[39m*\u001b[39m\u001b[39m*\u001b[39mkwargs,\n\u001b[0;32m   1497\u001b[0m         )\n\u001b[0;32m   1498\u001b[0m     \u001b[39mexcept\u001b[39;00m \u001b[39mNotImplementedError\u001b[39;00m:\n\u001b[0;32m   1499\u001b[0m         \u001b[39m# generally if we have numeric_only=False\u001b[39;00m\n\u001b[0;32m   1500\u001b[0m         \u001b[39m# and non-applicable functions\u001b[39;00m\n\u001b[0;32m   1501\u001b[0m         \u001b[39m# try to python agg\u001b[39;00m\n\u001b[0;32m   1502\u001b[0m         \u001b[39m# TODO: shouldn't min_count matter?\u001b[39;00m\n\u001b[0;32m   1503\u001b[0m         result \u001b[39m=\u001b[39m \u001b[39mself\u001b[39m\u001b[39m.\u001b[39m_agg_py_fallback(values, ndim\u001b[39m=\u001b[39mdata\u001b[39m.\u001b[39mndim, alt\u001b[39m=\u001b[39malt)\n",
      "File \u001b[1;32mc:\\Users\\brand\\anaconda3\\envs\\cse163\\lib\\site-packages\\pandas\\core\\groupby\\ops.py:959\u001b[0m, in \u001b[0;36mBaseGrouper._cython_operation\u001b[1;34m(self, kind, values, how, axis, min_count, **kwargs)\u001b[0m\n\u001b[0;32m    957\u001b[0m ids, _, _ \u001b[39m=\u001b[39m \u001b[39mself\u001b[39m\u001b[39m.\u001b[39mgroup_info\n\u001b[0;32m    958\u001b[0m ngroups \u001b[39m=\u001b[39m \u001b[39mself\u001b[39m\u001b[39m.\u001b[39mngroups\n\u001b[1;32m--> 959\u001b[0m \u001b[39mreturn\u001b[39;00m cy_op\u001b[39m.\u001b[39mcython_operation(\n\u001b[0;32m    960\u001b[0m     values\u001b[39m=\u001b[39mvalues,\n\u001b[0;32m    961\u001b[0m     axis\u001b[39m=\u001b[39maxis,\n\u001b[0;32m    962\u001b[0m     min_count\u001b[39m=\u001b[39mmin_count,\n\u001b[0;32m    963\u001b[0m     comp_ids\u001b[39m=\u001b[39mids,\n\u001b[0;32m    964\u001b[0m     ngroups\u001b[39m=\u001b[39mngroups,\n\u001b[0;32m    965\u001b[0m     \u001b[39m*\u001b[39m\u001b[39m*\u001b[39mkwargs,\n\u001b[0;32m    966\u001b[0m )\n",
      "File \u001b[1;32mc:\\Users\\brand\\anaconda3\\envs\\cse163\\lib\\site-packages\\pandas\\core\\groupby\\ops.py:645\u001b[0m, in \u001b[0;36mWrappedCythonOp.cython_operation\u001b[1;34m(self, values, axis, min_count, comp_ids, ngroups, **kwargs)\u001b[0m\n\u001b[0;32m    641\u001b[0m is_numeric \u001b[39m=\u001b[39m is_numeric_dtype(dtype)\n\u001b[0;32m    643\u001b[0m \u001b[39m# can we do this operation with our cython functions\u001b[39;00m\n\u001b[0;32m    644\u001b[0m \u001b[39m# if not raise NotImplementedError\u001b[39;00m\n\u001b[1;32m--> 645\u001b[0m \u001b[39mself\u001b[39;49m\u001b[39m.\u001b[39;49m_disallow_invalid_ops(dtype, is_numeric)\n\u001b[0;32m    647\u001b[0m \u001b[39mif\u001b[39;00m \u001b[39mnot\u001b[39;00m \u001b[39misinstance\u001b[39m(values, np\u001b[39m.\u001b[39mndarray):\n\u001b[0;32m    648\u001b[0m     \u001b[39m# i.e. ExtensionArray\u001b[39;00m\n\u001b[0;32m    649\u001b[0m     \u001b[39mreturn\u001b[39;00m \u001b[39mself\u001b[39m\u001b[39m.\u001b[39m_ea_wrap_cython_operation(\n\u001b[0;32m    650\u001b[0m         values,\n\u001b[0;32m    651\u001b[0m         min_count\u001b[39m=\u001b[39mmin_count,\n\u001b[1;32m   (...)\u001b[0m\n\u001b[0;32m    654\u001b[0m         \u001b[39m*\u001b[39m\u001b[39m*\u001b[39mkwargs,\n\u001b[0;32m    655\u001b[0m     )\n",
      "File \u001b[1;32mc:\\Users\\brand\\anaconda3\\envs\\cse163\\lib\\site-packages\\pandas\\core\\groupby\\ops.py:257\u001b[0m, in \u001b[0;36mWrappedCythonOp._disallow_invalid_ops\u001b[1;34m(self, dtype, is_numeric)\u001b[0m\n\u001b[0;32m    254\u001b[0m \u001b[39melif\u001b[39;00m is_datetime64_any_dtype(dtype):\n\u001b[0;32m    255\u001b[0m     \u001b[39m# Adding/multiplying datetimes is not valid\u001b[39;00m\n\u001b[0;32m    256\u001b[0m     \u001b[39mif\u001b[39;00m how \u001b[39min\u001b[39;00m [\u001b[39m\"\u001b[39m\u001b[39msum\u001b[39m\u001b[39m\"\u001b[39m, \u001b[39m\"\u001b[39m\u001b[39mprod\u001b[39m\u001b[39m\"\u001b[39m, \u001b[39m\"\u001b[39m\u001b[39mcumsum\u001b[39m\u001b[39m\"\u001b[39m, \u001b[39m\"\u001b[39m\u001b[39mcumprod\u001b[39m\u001b[39m\"\u001b[39m]:\n\u001b[1;32m--> 257\u001b[0m         \u001b[39mraise\u001b[39;00m \u001b[39mTypeError\u001b[39;00m(\u001b[39mf\u001b[39m\u001b[39m\"\u001b[39m\u001b[39mdatetime64 type does not support \u001b[39m\u001b[39m{\u001b[39;00mhow\u001b[39m}\u001b[39;00m\u001b[39m operations\u001b[39m\u001b[39m\"\u001b[39m)\n\u001b[0;32m    258\u001b[0m \u001b[39melif\u001b[39;00m is_period_dtype(dtype):\n\u001b[0;32m    259\u001b[0m     \u001b[39m# Adding/multiplying Periods is not valid\u001b[39;00m\n\u001b[0;32m    260\u001b[0m     \u001b[39mif\u001b[39;00m how \u001b[39min\u001b[39;00m [\u001b[39m\"\u001b[39m\u001b[39msum\u001b[39m\u001b[39m\"\u001b[39m, \u001b[39m\"\u001b[39m\u001b[39mprod\u001b[39m\u001b[39m\"\u001b[39m, \u001b[39m\"\u001b[39m\u001b[39mcumsum\u001b[39m\u001b[39m\"\u001b[39m, \u001b[39m\"\u001b[39m\u001b[39mcumprod\u001b[39m\u001b[39m\"\u001b[39m]:\n",
      "\u001b[1;31mTypeError\u001b[0m: datetime64 type does not support sum operations"
     ]
    }
   ],
   "source": [
    "drug_overdose_change(wa_geo_data)"
   ]
  },
  {
   "cell_type": "code",
   "execution_count": null,
   "metadata": {},
   "outputs": [
    {
     "name": "stdout",
     "output_type": "stream",
     "text": [
      "Requirement already satisfied: kaleido in c:\\users\\brand\\anaconda3\\envs\\cse163\\lib\\site-packages (0.2.1)\n",
      "Note: you may need to restart the kernel to use updated packages.\n"
     ]
    }
   ],
   "source": [
    "pip install -U kaleido"
   ]
  },
  {
   "cell_type": "code",
   "execution_count": null,
   "metadata": {},
   "outputs": [],
   "source": [
    "def overdose_geo(data, start=2015.0, end=2023.0) -> None:\n",
    "    wa_data = data[data[\"STATE_NAME\"] == \"Washington\"].copy()\n",
    "    drug = wa_data[\"Drug Category\"] == \"Any Drug\"\n",
    "    county = wa_data[\"Geography\"] == \"County\"\n",
    "    wa_data[\"Year\"] = pd.to_numeric(data[\"Year\"], errors=\"coerce\")\n",
    "    year = (wa_data[\"Year\"] >= (start - 1)) & (wa_data[\"Year\"] <= (end + 1))\n",
    "    time = wa_data[\"Time Aggregation\"] == \"1 year rolling counts\"\n",
    "    remove_star = wa_data[\"Death Count\"] != \"*\"\n",
    "    county_data = wa_data[drug & county & time & year & remove_star].copy()\n",
    "    county_data[\"Death Count\"] = county_data[\"Death Count\"].astype(\"int\")\n",
    "    county_data = county_data.groupby(\"Year\").agg({\"Death Count\": \"sum\"}).reset_index()\n",
    "\n",
    "    fig = px.line(\n",
    "        county_data,\n",
    "        x=\"Year\",\n",
    "        y=\"Death Count\",\n",
    "        title=f\"Drug Overdose Deaths in WA between \\\n",
    "            {int(start)} and {int(end)}\",\n",
    "        markers=True\n",
    "    )\n",
    "    fig.update_layout(title_x=0.5, title_y=0.95, font=dict(size=20))\n",
    "    fig.update_traces(line=dict(width=4), marker=dict(size=10))\n",
    "\n",
    "    fig.show()\n",
    "    fig.write_image('overdose_wa.png')"
   ]
  },
  {
   "cell_type": "code",
   "execution_count": null,
   "metadata": {},
   "outputs": [
    {
     "data": {
      "application/vnd.plotly.v1+json": {
       "config": {
        "plotlyServerURL": "https://plot.ly"
       },
       "data": [
        {
         "hovertemplate": "Year=%{x}<br>Death Count=%{y}<extra></extra>",
         "legendgroup": "",
         "line": {
          "color": "#636efa",
          "dash": "solid",
          "width": 4
         },
         "marker": {
          "size": 10,
          "symbol": "circle"
         },
         "mode": "lines+markers",
         "name": "",
         "orientation": "v",
         "showlegend": false,
         "type": "scatter",
         "x": [
          2016,
          2017,
          2018,
          2019,
          2020,
          2021,
          2022
         ],
         "xaxis": "x",
         "y": [
          979,
          1082,
          1095,
          1173,
          1667,
          2181,
          2571
         ],
         "yaxis": "y"
        }
       ],
       "layout": {
        "font": {
         "size": 20
        },
        "legend": {
         "tracegroupgap": 0
        },
        "template": {
         "data": {
          "bar": [
           {
            "error_x": {
             "color": "#2a3f5f"
            },
            "error_y": {
             "color": "#2a3f5f"
            },
            "marker": {
             "line": {
              "color": "#E5ECF6",
              "width": 0.5
             },
             "pattern": {
              "fillmode": "overlay",
              "size": 10,
              "solidity": 0.2
             }
            },
            "type": "bar"
           }
          ],
          "barpolar": [
           {
            "marker": {
             "line": {
              "color": "#E5ECF6",
              "width": 0.5
             },
             "pattern": {
              "fillmode": "overlay",
              "size": 10,
              "solidity": 0.2
             }
            },
            "type": "barpolar"
           }
          ],
          "carpet": [
           {
            "aaxis": {
             "endlinecolor": "#2a3f5f",
             "gridcolor": "white",
             "linecolor": "white",
             "minorgridcolor": "white",
             "startlinecolor": "#2a3f5f"
            },
            "baxis": {
             "endlinecolor": "#2a3f5f",
             "gridcolor": "white",
             "linecolor": "white",
             "minorgridcolor": "white",
             "startlinecolor": "#2a3f5f"
            },
            "type": "carpet"
           }
          ],
          "choropleth": [
           {
            "colorbar": {
             "outlinewidth": 0,
             "ticks": ""
            },
            "type": "choropleth"
           }
          ],
          "contour": [
           {
            "colorbar": {
             "outlinewidth": 0,
             "ticks": ""
            },
            "colorscale": [
             [
              0,
              "#0d0887"
             ],
             [
              0.1111111111111111,
              "#46039f"
             ],
             [
              0.2222222222222222,
              "#7201a8"
             ],
             [
              0.3333333333333333,
              "#9c179e"
             ],
             [
              0.4444444444444444,
              "#bd3786"
             ],
             [
              0.5555555555555556,
              "#d8576b"
             ],
             [
              0.6666666666666666,
              "#ed7953"
             ],
             [
              0.7777777777777778,
              "#fb9f3a"
             ],
             [
              0.8888888888888888,
              "#fdca26"
             ],
             [
              1,
              "#f0f921"
             ]
            ],
            "type": "contour"
           }
          ],
          "contourcarpet": [
           {
            "colorbar": {
             "outlinewidth": 0,
             "ticks": ""
            },
            "type": "contourcarpet"
           }
          ],
          "heatmap": [
           {
            "colorbar": {
             "outlinewidth": 0,
             "ticks": ""
            },
            "colorscale": [
             [
              0,
              "#0d0887"
             ],
             [
              0.1111111111111111,
              "#46039f"
             ],
             [
              0.2222222222222222,
              "#7201a8"
             ],
             [
              0.3333333333333333,
              "#9c179e"
             ],
             [
              0.4444444444444444,
              "#bd3786"
             ],
             [
              0.5555555555555556,
              "#d8576b"
             ],
             [
              0.6666666666666666,
              "#ed7953"
             ],
             [
              0.7777777777777778,
              "#fb9f3a"
             ],
             [
              0.8888888888888888,
              "#fdca26"
             ],
             [
              1,
              "#f0f921"
             ]
            ],
            "type": "heatmap"
           }
          ],
          "heatmapgl": [
           {
            "colorbar": {
             "outlinewidth": 0,
             "ticks": ""
            },
            "colorscale": [
             [
              0,
              "#0d0887"
             ],
             [
              0.1111111111111111,
              "#46039f"
             ],
             [
              0.2222222222222222,
              "#7201a8"
             ],
             [
              0.3333333333333333,
              "#9c179e"
             ],
             [
              0.4444444444444444,
              "#bd3786"
             ],
             [
              0.5555555555555556,
              "#d8576b"
             ],
             [
              0.6666666666666666,
              "#ed7953"
             ],
             [
              0.7777777777777778,
              "#fb9f3a"
             ],
             [
              0.8888888888888888,
              "#fdca26"
             ],
             [
              1,
              "#f0f921"
             ]
            ],
            "type": "heatmapgl"
           }
          ],
          "histogram": [
           {
            "marker": {
             "pattern": {
              "fillmode": "overlay",
              "size": 10,
              "solidity": 0.2
             }
            },
            "type": "histogram"
           }
          ],
          "histogram2d": [
           {
            "colorbar": {
             "outlinewidth": 0,
             "ticks": ""
            },
            "colorscale": [
             [
              0,
              "#0d0887"
             ],
             [
              0.1111111111111111,
              "#46039f"
             ],
             [
              0.2222222222222222,
              "#7201a8"
             ],
             [
              0.3333333333333333,
              "#9c179e"
             ],
             [
              0.4444444444444444,
              "#bd3786"
             ],
             [
              0.5555555555555556,
              "#d8576b"
             ],
             [
              0.6666666666666666,
              "#ed7953"
             ],
             [
              0.7777777777777778,
              "#fb9f3a"
             ],
             [
              0.8888888888888888,
              "#fdca26"
             ],
             [
              1,
              "#f0f921"
             ]
            ],
            "type": "histogram2d"
           }
          ],
          "histogram2dcontour": [
           {
            "colorbar": {
             "outlinewidth": 0,
             "ticks": ""
            },
            "colorscale": [
             [
              0,
              "#0d0887"
             ],
             [
              0.1111111111111111,
              "#46039f"
             ],
             [
              0.2222222222222222,
              "#7201a8"
             ],
             [
              0.3333333333333333,
              "#9c179e"
             ],
             [
              0.4444444444444444,
              "#bd3786"
             ],
             [
              0.5555555555555556,
              "#d8576b"
             ],
             [
              0.6666666666666666,
              "#ed7953"
             ],
             [
              0.7777777777777778,
              "#fb9f3a"
             ],
             [
              0.8888888888888888,
              "#fdca26"
             ],
             [
              1,
              "#f0f921"
             ]
            ],
            "type": "histogram2dcontour"
           }
          ],
          "mesh3d": [
           {
            "colorbar": {
             "outlinewidth": 0,
             "ticks": ""
            },
            "type": "mesh3d"
           }
          ],
          "parcoords": [
           {
            "line": {
             "colorbar": {
              "outlinewidth": 0,
              "ticks": ""
             }
            },
            "type": "parcoords"
           }
          ],
          "pie": [
           {
            "automargin": true,
            "type": "pie"
           }
          ],
          "scatter": [
           {
            "fillpattern": {
             "fillmode": "overlay",
             "size": 10,
             "solidity": 0.2
            },
            "type": "scatter"
           }
          ],
          "scatter3d": [
           {
            "line": {
             "colorbar": {
              "outlinewidth": 0,
              "ticks": ""
             }
            },
            "marker": {
             "colorbar": {
              "outlinewidth": 0,
              "ticks": ""
             }
            },
            "type": "scatter3d"
           }
          ],
          "scattercarpet": [
           {
            "marker": {
             "colorbar": {
              "outlinewidth": 0,
              "ticks": ""
             }
            },
            "type": "scattercarpet"
           }
          ],
          "scattergeo": [
           {
            "marker": {
             "colorbar": {
              "outlinewidth": 0,
              "ticks": ""
             }
            },
            "type": "scattergeo"
           }
          ],
          "scattergl": [
           {
            "marker": {
             "colorbar": {
              "outlinewidth": 0,
              "ticks": ""
             }
            },
            "type": "scattergl"
           }
          ],
          "scattermapbox": [
           {
            "marker": {
             "colorbar": {
              "outlinewidth": 0,
              "ticks": ""
             }
            },
            "type": "scattermapbox"
           }
          ],
          "scatterpolar": [
           {
            "marker": {
             "colorbar": {
              "outlinewidth": 0,
              "ticks": ""
             }
            },
            "type": "scatterpolar"
           }
          ],
          "scatterpolargl": [
           {
            "marker": {
             "colorbar": {
              "outlinewidth": 0,
              "ticks": ""
             }
            },
            "type": "scatterpolargl"
           }
          ],
          "scatterternary": [
           {
            "marker": {
             "colorbar": {
              "outlinewidth": 0,
              "ticks": ""
             }
            },
            "type": "scatterternary"
           }
          ],
          "surface": [
           {
            "colorbar": {
             "outlinewidth": 0,
             "ticks": ""
            },
            "colorscale": [
             [
              0,
              "#0d0887"
             ],
             [
              0.1111111111111111,
              "#46039f"
             ],
             [
              0.2222222222222222,
              "#7201a8"
             ],
             [
              0.3333333333333333,
              "#9c179e"
             ],
             [
              0.4444444444444444,
              "#bd3786"
             ],
             [
              0.5555555555555556,
              "#d8576b"
             ],
             [
              0.6666666666666666,
              "#ed7953"
             ],
             [
              0.7777777777777778,
              "#fb9f3a"
             ],
             [
              0.8888888888888888,
              "#fdca26"
             ],
             [
              1,
              "#f0f921"
             ]
            ],
            "type": "surface"
           }
          ],
          "table": [
           {
            "cells": {
             "fill": {
              "color": "#EBF0F8"
             },
             "line": {
              "color": "white"
             }
            },
            "header": {
             "fill": {
              "color": "#C8D4E3"
             },
             "line": {
              "color": "white"
             }
            },
            "type": "table"
           }
          ]
         },
         "layout": {
          "annotationdefaults": {
           "arrowcolor": "#2a3f5f",
           "arrowhead": 0,
           "arrowwidth": 1
          },
          "autotypenumbers": "strict",
          "coloraxis": {
           "colorbar": {
            "outlinewidth": 0,
            "ticks": ""
           }
          },
          "colorscale": {
           "diverging": [
            [
             0,
             "#8e0152"
            ],
            [
             0.1,
             "#c51b7d"
            ],
            [
             0.2,
             "#de77ae"
            ],
            [
             0.3,
             "#f1b6da"
            ],
            [
             0.4,
             "#fde0ef"
            ],
            [
             0.5,
             "#f7f7f7"
            ],
            [
             0.6,
             "#e6f5d0"
            ],
            [
             0.7,
             "#b8e186"
            ],
            [
             0.8,
             "#7fbc41"
            ],
            [
             0.9,
             "#4d9221"
            ],
            [
             1,
             "#276419"
            ]
           ],
           "sequential": [
            [
             0,
             "#0d0887"
            ],
            [
             0.1111111111111111,
             "#46039f"
            ],
            [
             0.2222222222222222,
             "#7201a8"
            ],
            [
             0.3333333333333333,
             "#9c179e"
            ],
            [
             0.4444444444444444,
             "#bd3786"
            ],
            [
             0.5555555555555556,
             "#d8576b"
            ],
            [
             0.6666666666666666,
             "#ed7953"
            ],
            [
             0.7777777777777778,
             "#fb9f3a"
            ],
            [
             0.8888888888888888,
             "#fdca26"
            ],
            [
             1,
             "#f0f921"
            ]
           ],
           "sequentialminus": [
            [
             0,
             "#0d0887"
            ],
            [
             0.1111111111111111,
             "#46039f"
            ],
            [
             0.2222222222222222,
             "#7201a8"
            ],
            [
             0.3333333333333333,
             "#9c179e"
            ],
            [
             0.4444444444444444,
             "#bd3786"
            ],
            [
             0.5555555555555556,
             "#d8576b"
            ],
            [
             0.6666666666666666,
             "#ed7953"
            ],
            [
             0.7777777777777778,
             "#fb9f3a"
            ],
            [
             0.8888888888888888,
             "#fdca26"
            ],
            [
             1,
             "#f0f921"
            ]
           ]
          },
          "colorway": [
           "#636efa",
           "#EF553B",
           "#00cc96",
           "#ab63fa",
           "#FFA15A",
           "#19d3f3",
           "#FF6692",
           "#B6E880",
           "#FF97FF",
           "#FECB52"
          ],
          "font": {
           "color": "#2a3f5f"
          },
          "geo": {
           "bgcolor": "white",
           "lakecolor": "white",
           "landcolor": "#E5ECF6",
           "showlakes": true,
           "showland": true,
           "subunitcolor": "white"
          },
          "hoverlabel": {
           "align": "left"
          },
          "hovermode": "closest",
          "mapbox": {
           "style": "light"
          },
          "paper_bgcolor": "white",
          "plot_bgcolor": "#E5ECF6",
          "polar": {
           "angularaxis": {
            "gridcolor": "white",
            "linecolor": "white",
            "ticks": ""
           },
           "bgcolor": "#E5ECF6",
           "radialaxis": {
            "gridcolor": "white",
            "linecolor": "white",
            "ticks": ""
           }
          },
          "scene": {
           "xaxis": {
            "backgroundcolor": "#E5ECF6",
            "gridcolor": "white",
            "gridwidth": 2,
            "linecolor": "white",
            "showbackground": true,
            "ticks": "",
            "zerolinecolor": "white"
           },
           "yaxis": {
            "backgroundcolor": "#E5ECF6",
            "gridcolor": "white",
            "gridwidth": 2,
            "linecolor": "white",
            "showbackground": true,
            "ticks": "",
            "zerolinecolor": "white"
           },
           "zaxis": {
            "backgroundcolor": "#E5ECF6",
            "gridcolor": "white",
            "gridwidth": 2,
            "linecolor": "white",
            "showbackground": true,
            "ticks": "",
            "zerolinecolor": "white"
           }
          },
          "shapedefaults": {
           "line": {
            "color": "#2a3f5f"
           }
          },
          "ternary": {
           "aaxis": {
            "gridcolor": "white",
            "linecolor": "white",
            "ticks": ""
           },
           "baxis": {
            "gridcolor": "white",
            "linecolor": "white",
            "ticks": ""
           },
           "bgcolor": "#E5ECF6",
           "caxis": {
            "gridcolor": "white",
            "linecolor": "white",
            "ticks": ""
           }
          },
          "title": {
           "x": 0.05
          },
          "xaxis": {
           "automargin": true,
           "gridcolor": "white",
           "linecolor": "white",
           "ticks": "",
           "title": {
            "standoff": 15
           },
           "zerolinecolor": "white",
           "zerolinewidth": 2
          },
          "yaxis": {
           "automargin": true,
           "gridcolor": "white",
           "linecolor": "white",
           "ticks": "",
           "title": {
            "standoff": 15
           },
           "zerolinecolor": "white",
           "zerolinewidth": 2
          }
         }
        },
        "title": {
         "text": "Drug Overdose Deaths in WA between             2015 and 2023",
         "x": 0.5,
         "y": 0.95
        },
        "xaxis": {
         "anchor": "y",
         "domain": [
          0,
          1
         ],
         "title": {
          "text": "Year"
         }
        },
        "yaxis": {
         "anchor": "x",
         "domain": [
          0,
          1
         ],
         "title": {
          "text": "Death Count"
         }
        }
       }
      }
     },
     "metadata": {},
     "output_type": "display_data"
    },
    {
     "ename": "ValueError",
     "evalue": "\nImage export using the \"kaleido\" engine requires the kaleido package,\nwhich can be installed using pip:\n    $ pip install -U kaleido\n",
     "output_type": "error",
     "traceback": [
      "\u001b[1;31m---------------------------------------------------------------------------\u001b[0m",
      "\u001b[1;31mValueError\u001b[0m                                Traceback (most recent call last)",
      "Cell \u001b[1;32mIn[85], line 1\u001b[0m\n\u001b[1;32m----> 1\u001b[0m overdose_geo(wa_geo_data)\n",
      "Cell \u001b[1;32mIn[83], line 25\u001b[0m, in \u001b[0;36moverdose_geo\u001b[1;34m(data, start, end)\u001b[0m\n\u001b[0;32m     22\u001b[0m fig\u001b[39m.\u001b[39mupdate_traces(line\u001b[39m=\u001b[39m\u001b[39mdict\u001b[39m(width\u001b[39m=\u001b[39m\u001b[39m4\u001b[39m), marker\u001b[39m=\u001b[39m\u001b[39mdict\u001b[39m(size\u001b[39m=\u001b[39m\u001b[39m10\u001b[39m))\n\u001b[0;32m     24\u001b[0m fig\u001b[39m.\u001b[39mshow()\n\u001b[1;32m---> 25\u001b[0m fig\u001b[39m.\u001b[39;49mwrite_image(\u001b[39m'\u001b[39;49m\u001b[39moverdose_wa.png\u001b[39;49m\u001b[39m'\u001b[39;49m)\n",
      "File \u001b[1;32mc:\\Users\\brand\\anaconda3\\envs\\cse163\\lib\\site-packages\\plotly\\basedatatypes.py:3840\u001b[0m, in \u001b[0;36mBaseFigure.write_image\u001b[1;34m(self, *args, **kwargs)\u001b[0m\n\u001b[0;32m   3780\u001b[0m \u001b[39m\u001b[39m\u001b[39m\"\"\"\u001b[39;00m\n\u001b[0;32m   3781\u001b[0m \u001b[39mConvert a figure to a static image and write it to a file or writeable\u001b[39;00m\n\u001b[0;32m   3782\u001b[0m \u001b[39mobject\u001b[39;00m\n\u001b[1;32m   (...)\u001b[0m\n\u001b[0;32m   3836\u001b[0m \u001b[39mNone\u001b[39;00m\n\u001b[0;32m   3837\u001b[0m \u001b[39m\"\"\"\u001b[39;00m\n\u001b[0;32m   3838\u001b[0m \u001b[39mimport\u001b[39;00m \u001b[39mplotly\u001b[39;00m\u001b[39m.\u001b[39;00m\u001b[39mio\u001b[39;00m \u001b[39mas\u001b[39;00m \u001b[39mpio\u001b[39;00m\n\u001b[1;32m-> 3840\u001b[0m \u001b[39mreturn\u001b[39;00m pio\u001b[39m.\u001b[39mwrite_image(\u001b[39mself\u001b[39m, \u001b[39m*\u001b[39margs, \u001b[39m*\u001b[39m\u001b[39m*\u001b[39mkwargs)\n",
      "File \u001b[1;32mc:\\Users\\brand\\anaconda3\\envs\\cse163\\lib\\site-packages\\plotly\\io\\_kaleido.py:267\u001b[0m, in \u001b[0;36mwrite_image\u001b[1;34m(fig, file, format, scale, width, height, validate, engine)\u001b[0m\n\u001b[0;32m    251\u001b[0m             \u001b[39mraise\u001b[39;00m \u001b[39mValueError\u001b[39;00m(\n\u001b[0;32m    252\u001b[0m \u001b[39m                \u001b[39m\u001b[39m\"\"\"\u001b[39;00m\n\u001b[0;32m    253\u001b[0m \u001b[39mCannot infer image type from output path '{file}'.\u001b[39;00m\n\u001b[1;32m   (...)\u001b[0m\n\u001b[0;32m    261\u001b[0m                 )\n\u001b[0;32m    262\u001b[0m             )\n\u001b[0;32m    264\u001b[0m     \u001b[39m# Request image\u001b[39;00m\n\u001b[0;32m    265\u001b[0m     \u001b[39m# -------------\u001b[39;00m\n\u001b[0;32m    266\u001b[0m     \u001b[39m# Do this first so we don't create a file if image conversion fails\u001b[39;00m\n\u001b[1;32m--> 267\u001b[0m     img_data \u001b[39m=\u001b[39m to_image(\n\u001b[0;32m    268\u001b[0m         fig,\n\u001b[0;32m    269\u001b[0m         \u001b[39mformat\u001b[39;49m\u001b[39m=\u001b[39;49m\u001b[39mformat\u001b[39;49m,\n\u001b[0;32m    270\u001b[0m         scale\u001b[39m=\u001b[39;49mscale,\n\u001b[0;32m    271\u001b[0m         width\u001b[39m=\u001b[39;49mwidth,\n\u001b[0;32m    272\u001b[0m         height\u001b[39m=\u001b[39;49mheight,\n\u001b[0;32m    273\u001b[0m         validate\u001b[39m=\u001b[39;49mvalidate,\n\u001b[0;32m    274\u001b[0m         engine\u001b[39m=\u001b[39;49mengine,\n\u001b[0;32m    275\u001b[0m     )\n\u001b[0;32m    277\u001b[0m     \u001b[39m# Open file\u001b[39;00m\n\u001b[0;32m    278\u001b[0m     \u001b[39m# ---------\u001b[39;00m\n\u001b[0;32m    279\u001b[0m     \u001b[39mif\u001b[39;00m path \u001b[39mis\u001b[39;00m \u001b[39mNone\u001b[39;00m:\n\u001b[0;32m    280\u001b[0m         \u001b[39m# We previously failed to make sense of `file` as a pathlib object.\u001b[39;00m\n\u001b[0;32m    281\u001b[0m         \u001b[39m# Attempt to write to `file` as an open file descriptor.\u001b[39;00m\n",
      "File \u001b[1;32mc:\\Users\\brand\\anaconda3\\envs\\cse163\\lib\\site-packages\\plotly\\io\\_kaleido.py:133\u001b[0m, in \u001b[0;36mto_image\u001b[1;34m(fig, format, width, height, scale, validate, engine)\u001b[0m\n\u001b[0;32m    131\u001b[0m     \u001b[39m# Raise informative error message if Kaleido is not installed\u001b[39;00m\n\u001b[0;32m    132\u001b[0m     \u001b[39mif\u001b[39;00m scope \u001b[39mis\u001b[39;00m \u001b[39mNone\u001b[39;00m:\n\u001b[1;32m--> 133\u001b[0m         \u001b[39mraise\u001b[39;00m \u001b[39mValueError\u001b[39;00m(\n\u001b[0;32m    134\u001b[0m \u001b[39m            \u001b[39m\u001b[39m\"\"\"\u001b[39;00m\n\u001b[0;32m    135\u001b[0m \u001b[39mImage export using the \"kaleido\" engine requires the kaleido package,\u001b[39;00m\n\u001b[0;32m    136\u001b[0m \u001b[39mwhich can be installed using pip:\u001b[39;00m\n\u001b[0;32m    137\u001b[0m \u001b[39m    $ pip install -U kaleido\u001b[39;00m\n\u001b[0;32m    138\u001b[0m \u001b[39m\"\"\"\u001b[39;00m\n\u001b[0;32m    139\u001b[0m         )\n\u001b[0;32m    141\u001b[0m     \u001b[39m# Validate figure\u001b[39;00m\n\u001b[0;32m    142\u001b[0m     \u001b[39m# ---------------\u001b[39;00m\n\u001b[0;32m    143\u001b[0m     fig_dict \u001b[39m=\u001b[39m validate_coerce_fig_to_dict(fig, validate)\n",
      "\u001b[1;31mValueError\u001b[0m: \nImage export using the \"kaleido\" engine requires the kaleido package,\nwhich can be installed using pip:\n    $ pip install -U kaleido\n"
     ]
    }
   ],
   "source": [
    "overdose_geo(wa_geo_data)"
   ]
  },
  {
   "cell_type": "code",
   "execution_count": null,
   "metadata": {},
   "outputs": [],
   "source": [
    "def overdose_deaths_counties(data, drug_name=\"Any Drug\", year_date=2022.0):\n",
    "    \"\"\"\n",
    "    This function takes in the geospatial dataframe and returns the counties\n",
    "    in Washington that have the highest number of drug overdose cases.\n",
    "    \"\"\"\n",
    "    data = data[data[\"STATE_NAME\"] == \"Washington\"]\n",
    "    drug = data[\"Drug Category\"] == drug_name\n",
    "    county = data[\"Geography\"] == \"County\"\n",
    "    year = data[\"Year\"] == year_date\n",
    "    time = data[\"Time Aggregation\"] == \"1 year rolling counts\"\n",
    "    remove_star = data[\"Death Count\"] != \"*\"\n",
    "    county_data = data[drug & county & time & year & remove_star]\n",
    "    # county_data = county_data[['Location', 'geometry',\n",
    "    # 'Death Count', 'Time Aggregation', 'Year']]\n",
    "    county_data[\"Death Count\"] = county_data[\"Death Count\"].astype(\"int\")\n",
    "\n",
    "    fig, ax = plt.subplots(1)\n",
    "    data.plot(ax=ax, color=\"#d3d3d3\")\n",
    "    county_data.plot(ax=ax, column=\"Death Count\", legend=True)\n",
    "    plt.title(f\"Washington County Overdose Deaths in {int(year_date)}\")\n",
    "    plt.savefig(\"county_population_map.png\")"
   ]
  },
  {
   "cell_type": "code",
   "execution_count": null,
   "metadata": {},
   "outputs": [
    {
     "name": "stderr",
     "output_type": "stream",
     "text": [
      "c:\\Users\\brand\\anaconda3\\envs\\cse163\\lib\\site-packages\\geopandas\\geodataframe.py:1538: SettingWithCopyWarning:\n",
      "\n",
      "\n",
      "A value is trying to be set on a copy of a slice from a DataFrame.\n",
      "Try using .loc[row_indexer,col_indexer] = value instead\n",
      "\n",
      "See the caveats in the documentation: https://pandas.pydata.org/pandas-docs/stable/user_guide/indexing.html#returning-a-view-versus-a-copy\n",
      "\n"
     ]
    },
    {
     "data": {
      "image/png": "[encoded data removed]",
      "text/plain": [
       "<Figure size 640x480 with 2 Axes>"
      ]
     },
     "metadata": {},
     "output_type": "display_data"
    }
   ],
   "source": [
    "overdose_deaths_counties(wa_geo_data)"
   ]
  },
  {
   "cell_type": "code",
   "execution_count": null,
   "metadata": {},
   "outputs": [
    {
     "data": {
      "text/html": [
       "<div>\n",
       "<style scoped>\n",
       "    .dataframe tbody tr th:only-of-type {\n",
       "        vertical-align: middle;\n",
       "    }\n",
       "\n",
       "    .dataframe tbody tr th {\n",
       "        vertical-align: top;\n",
       "    }\n",
       "\n",
       "    .dataframe thead th {\n",
       "        text-align: right;\n",
       "    }\n",
       "</style>\n",
       "<table border=\"1\" class=\"dataframe\">\n",
       "  <thead>\n",
       "    <tr style=\"text-align: right;\">\n",
       "      <th></th>\n",
       "      <th>STATEFP</th>\n",
       "      <th>COUNTYFP</th>\n",
       "      <th>COUNTYNS</th>\n",
       "      <th>AFFGEOID</th>\n",
       "      <th>GEOID</th>\n",
       "      <th>NAME</th>\n",
       "      <th>NAMELSAD</th>\n",
       "      <th>STUSPS</th>\n",
       "      <th>STATE_NAME</th>\n",
       "      <th>LSAD</th>\n",
       "      <th>...</th>\n",
       "      <th>Month</th>\n",
       "      <th>Period</th>\n",
       "      <th>Indicator</th>\n",
       "      <th>Data Value</th>\n",
       "      <th>Percent Complete</th>\n",
       "      <th>Percent Pending Investigation</th>\n",
       "      <th>State Name</th>\n",
       "      <th>Footnote</th>\n",
       "      <th>Footnote Symbol</th>\n",
       "      <th>Predicted Value</th>\n",
       "    </tr>\n",
       "  </thead>\n",
       "  <tbody>\n",
       "    <tr>\n",
       "      <th>0</th>\n",
       "      <td>01</td>\n",
       "      <td>069</td>\n",
       "      <td>00161560</td>\n",
       "      <td>0500000US01069</td>\n",
       "      <td>01069</td>\n",
       "      <td>Houston</td>\n",
       "      <td>Houston County</td>\n",
       "      <td>AL</td>\n",
       "      <td>Alabama</td>\n",
       "      <td>06</td>\n",
       "      <td>...</td>\n",
       "      <td>NaN</td>\n",
       "      <td>NaN</td>\n",
       "      <td>NaN</td>\n",
       "      <td>NaN</td>\n",
       "      <td>NaN</td>\n",
       "      <td>NaN</td>\n",
       "      <td>NaN</td>\n",
       "      <td>NaN</td>\n",
       "      <td>NaN</td>\n",
       "      <td>NaN</td>\n",
       "    </tr>\n",
       "    <tr>\n",
       "      <th>1</th>\n",
       "      <td>48</td>\n",
       "      <td>225</td>\n",
       "      <td>01383898</td>\n",
       "      <td>0500000US48225</td>\n",
       "      <td>48225</td>\n",
       "      <td>Houston</td>\n",
       "      <td>Houston County</td>\n",
       "      <td>TX</td>\n",
       "      <td>Texas</td>\n",
       "      <td>06</td>\n",
       "      <td>...</td>\n",
       "      <td>NaN</td>\n",
       "      <td>NaN</td>\n",
       "      <td>NaN</td>\n",
       "      <td>NaN</td>\n",
       "      <td>NaN</td>\n",
       "      <td>NaN</td>\n",
       "      <td>NaN</td>\n",
       "      <td>NaN</td>\n",
       "      <td>NaN</td>\n",
       "      <td>NaN</td>\n",
       "    </tr>\n",
       "    <tr>\n",
       "      <th>2</th>\n",
       "      <td>13</td>\n",
       "      <td>153</td>\n",
       "      <td>01671693</td>\n",
       "      <td>0500000US13153</td>\n",
       "      <td>13153</td>\n",
       "      <td>Houston</td>\n",
       "      <td>Houston County</td>\n",
       "      <td>GA</td>\n",
       "      <td>Georgia</td>\n",
       "      <td>06</td>\n",
       "      <td>...</td>\n",
       "      <td>NaN</td>\n",
       "      <td>NaN</td>\n",
       "      <td>NaN</td>\n",
       "      <td>NaN</td>\n",
       "      <td>NaN</td>\n",
       "      <td>NaN</td>\n",
       "      <td>NaN</td>\n",
       "      <td>NaN</td>\n",
       "      <td>NaN</td>\n",
       "      <td>NaN</td>\n",
       "    </tr>\n",
       "    <tr>\n",
       "      <th>3</th>\n",
       "      <td>27</td>\n",
       "      <td>055</td>\n",
       "      <td>00659473</td>\n",
       "      <td>0500000US27055</td>\n",
       "      <td>27055</td>\n",
       "      <td>Houston</td>\n",
       "      <td>Houston County</td>\n",
       "      <td>MN</td>\n",
       "      <td>Minnesota</td>\n",
       "      <td>06</td>\n",
       "      <td>...</td>\n",
       "      <td>NaN</td>\n",
       "      <td>NaN</td>\n",
       "      <td>NaN</td>\n",
       "      <td>NaN</td>\n",
       "      <td>NaN</td>\n",
       "      <td>NaN</td>\n",
       "      <td>NaN</td>\n",
       "      <td>NaN</td>\n",
       "      <td>NaN</td>\n",
       "      <td>NaN</td>\n",
       "    </tr>\n",
       "    <tr>\n",
       "      <th>4</th>\n",
       "      <td>47</td>\n",
       "      <td>083</td>\n",
       "      <td>01648578</td>\n",
       "      <td>0500000US47083</td>\n",
       "      <td>47083</td>\n",
       "      <td>Houston</td>\n",
       "      <td>Houston County</td>\n",
       "      <td>TN</td>\n",
       "      <td>Tennessee</td>\n",
       "      <td>06</td>\n",
       "      <td>...</td>\n",
       "      <td>NaN</td>\n",
       "      <td>NaN</td>\n",
       "      <td>NaN</td>\n",
       "      <td>NaN</td>\n",
       "      <td>NaN</td>\n",
       "      <td>NaN</td>\n",
       "      <td>NaN</td>\n",
       "      <td>NaN</td>\n",
       "      <td>NaN</td>\n",
       "      <td>NaN</td>\n",
       "    </tr>\n",
       "    <tr>\n",
       "      <th>...</th>\n",
       "      <td>...</td>\n",
       "      <td>...</td>\n",
       "      <td>...</td>\n",
       "      <td>...</td>\n",
       "      <td>...</td>\n",
       "      <td>...</td>\n",
       "      <td>...</td>\n",
       "      <td>...</td>\n",
       "      <td>...</td>\n",
       "      <td>...</td>\n",
       "      <td>...</td>\n",
       "      <td>...</td>\n",
       "      <td>...</td>\n",
       "      <td>...</td>\n",
       "      <td>...</td>\n",
       "      <td>...</td>\n",
       "      <td>...</td>\n",
       "      <td>...</td>\n",
       "      <td>...</td>\n",
       "      <td>...</td>\n",
       "      <td>...</td>\n",
       "    </tr>\n",
       "    <tr>\n",
       "      <th>59677</th>\n",
       "      <td>NaN</td>\n",
       "      <td>NaN</td>\n",
       "      <td>NaN</td>\n",
       "      <td>NaN</td>\n",
       "      <td>NaN</td>\n",
       "      <td>NaN</td>\n",
       "      <td>NaN</td>\n",
       "      <td>NaN</td>\n",
       "      <td>NaN</td>\n",
       "      <td>NaN</td>\n",
       "      <td>...</td>\n",
       "      <td>January</td>\n",
       "      <td>12 month-ending</td>\n",
       "      <td>Methadone (T40.3)</td>\n",
       "      <td>308</td>\n",
       "      <td>100</td>\n",
       "      <td>0.493648</td>\n",
       "      <td>New York City</td>\n",
       "      <td>Underreported due to incomplete data.</td>\n",
       "      <td>*</td>\n",
       "      <td>323</td>\n",
       "    </tr>\n",
       "    <tr>\n",
       "      <th>59678</th>\n",
       "      <td>NaN</td>\n",
       "      <td>NaN</td>\n",
       "      <td>NaN</td>\n",
       "      <td>NaN</td>\n",
       "      <td>NaN</td>\n",
       "      <td>NaN</td>\n",
       "      <td>NaN</td>\n",
       "      <td>NaN</td>\n",
       "      <td>NaN</td>\n",
       "      <td>NaN</td>\n",
       "      <td>...</td>\n",
       "      <td>January</td>\n",
       "      <td>12 month-ending</td>\n",
       "      <td>Heroin (T40.1)</td>\n",
       "      <td>754</td>\n",
       "      <td>100</td>\n",
       "      <td>0.493648</td>\n",
       "      <td>New York City</td>\n",
       "      <td>Underreported due to incomplete data.</td>\n",
       "      <td>*</td>\n",
       "      <td>791</td>\n",
       "    </tr>\n",
       "    <tr>\n",
       "      <th>59679</th>\n",
       "      <td>NaN</td>\n",
       "      <td>NaN</td>\n",
       "      <td>NaN</td>\n",
       "      <td>NaN</td>\n",
       "      <td>NaN</td>\n",
       "      <td>NaN</td>\n",
       "      <td>NaN</td>\n",
       "      <td>NaN</td>\n",
       "      <td>NaN</td>\n",
       "      <td>NaN</td>\n",
       "      <td>...</td>\n",
       "      <td>January</td>\n",
       "      <td>12 month-ending</td>\n",
       "      <td>Number of Deaths</td>\n",
       "      <td>57,936</td>\n",
       "      <td>100</td>\n",
       "      <td>0.493648</td>\n",
       "      <td>New York City</td>\n",
       "      <td>Underreported due to incomplete data.</td>\n",
       "      <td>*</td>\n",
       "      <td>NaN</td>\n",
       "    </tr>\n",
       "    <tr>\n",
       "      <th>59680</th>\n",
       "      <td>NaN</td>\n",
       "      <td>NaN</td>\n",
       "      <td>NaN</td>\n",
       "      <td>NaN</td>\n",
       "      <td>NaN</td>\n",
       "      <td>NaN</td>\n",
       "      <td>NaN</td>\n",
       "      <td>NaN</td>\n",
       "      <td>NaN</td>\n",
       "      <td>NaN</td>\n",
       "      <td>...</td>\n",
       "      <td>January</td>\n",
       "      <td>12 month-ending</td>\n",
       "      <td>Opioids (T40.0-T40.4,T40.6)</td>\n",
       "      <td>2,573</td>\n",
       "      <td>100</td>\n",
       "      <td>0.493648</td>\n",
       "      <td>New York City</td>\n",
       "      <td>Underreported due to incomplete data.</td>\n",
       "      <td>*</td>\n",
       "      <td>2,707</td>\n",
       "    </tr>\n",
       "    <tr>\n",
       "      <th>59681</th>\n",
       "      <td>NaN</td>\n",
       "      <td>NaN</td>\n",
       "      <td>NaN</td>\n",
       "      <td>NaN</td>\n",
       "      <td>NaN</td>\n",
       "      <td>NaN</td>\n",
       "      <td>NaN</td>\n",
       "      <td>NaN</td>\n",
       "      <td>NaN</td>\n",
       "      <td>NaN</td>\n",
       "      <td>...</td>\n",
       "      <td>January</td>\n",
       "      <td>12 month-ending</td>\n",
       "      <td>Natural &amp; semi-synthetic opioids (T40.2)</td>\n",
       "      <td>428</td>\n",
       "      <td>100</td>\n",
       "      <td>0.493648</td>\n",
       "      <td>New York City</td>\n",
       "      <td>Underreported due to incomplete data.</td>\n",
       "      <td>*</td>\n",
       "      <td>448</td>\n",
       "    </tr>\n",
       "  </tbody>\n",
       "</table>\n",
       "<p>59682 rows × 25 columns</p>\n",
       "</div>"
      ],
      "text/plain": [
       "      STATEFP COUNTYFP  COUNTYNS        AFFGEOID  GEOID     NAME  \\\n",
       "0          01      069  00161560  0500000US01069  01069  Houston   \n",
       "1          48      225  01383898  0500000US48225  48225  Houston   \n",
       "2          13      153  01671693  0500000US13153  13153  Houston   \n",
       "3          27      055  00659473  0500000US27055  27055  Houston   \n",
       "4          47      083  01648578  0500000US47083  47083  Houston   \n",
       "...       ...      ...       ...             ...    ...      ...   \n",
       "59677     NaN      NaN       NaN             NaN    NaN      NaN   \n",
       "59678     NaN      NaN       NaN             NaN    NaN      NaN   \n",
       "59679     NaN      NaN       NaN             NaN    NaN      NaN   \n",
       "59680     NaN      NaN       NaN             NaN    NaN      NaN   \n",
       "59681     NaN      NaN       NaN             NaN    NaN      NaN   \n",
       "\n",
       "             NAMELSAD STUSPS STATE_NAME LSAD  ...    Month           Period  \\\n",
       "0      Houston County     AL    Alabama   06  ...      NaN              NaN   \n",
       "1      Houston County     TX      Texas   06  ...      NaN              NaN   \n",
       "2      Houston County     GA    Georgia   06  ...      NaN              NaN   \n",
       "3      Houston County     MN  Minnesota   06  ...      NaN              NaN   \n",
       "4      Houston County     TN  Tennessee   06  ...      NaN              NaN   \n",
       "...               ...    ...        ...  ...  ...      ...              ...   \n",
       "59677             NaN    NaN        NaN  NaN  ...  January  12 month-ending   \n",
       "59678             NaN    NaN        NaN  NaN  ...  January  12 month-ending   \n",
       "59679             NaN    NaN        NaN  NaN  ...  January  12 month-ending   \n",
       "59680             NaN    NaN        NaN  NaN  ...  January  12 month-ending   \n",
       "59681             NaN    NaN        NaN  NaN  ...  January  12 month-ending   \n",
       "\n",
       "                                      Indicator Data Value  Percent Complete  \\\n",
       "0                                           NaN        NaN               NaN   \n",
       "1                                           NaN        NaN               NaN   \n",
       "2                                           NaN        NaN               NaN   \n",
       "3                                           NaN        NaN               NaN   \n",
       "4                                           NaN        NaN               NaN   \n",
       "...                                         ...        ...               ...   \n",
       "59677                         Methadone (T40.3)        308               100   \n",
       "59678                            Heroin (T40.1)        754               100   \n",
       "59679                          Number of Deaths     57,936               100   \n",
       "59680               Opioids (T40.0-T40.4,T40.6)      2,573               100   \n",
       "59681  Natural & semi-synthetic opioids (T40.2)        428               100   \n",
       "\n",
       "      Percent Pending Investigation     State Name  \\\n",
       "0                               NaN            NaN   \n",
       "1                               NaN            NaN   \n",
       "2                               NaN            NaN   \n",
       "3                               NaN            NaN   \n",
       "4                               NaN            NaN   \n",
       "...                             ...            ...   \n",
       "59677                      0.493648  New York City   \n",
       "59678                      0.493648  New York City   \n",
       "59679                      0.493648  New York City   \n",
       "59680                      0.493648  New York City   \n",
       "59681                      0.493648  New York City   \n",
       "\n",
       "                                    Footnote Footnote Symbol Predicted Value  \n",
       "0                                        NaN             NaN             NaN  \n",
       "1                                        NaN             NaN             NaN  \n",
       "2                                        NaN             NaN             NaN  \n",
       "3                                        NaN             NaN             NaN  \n",
       "4                                        NaN             NaN             NaN  \n",
       "...                                      ...             ...             ...  \n",
       "59677  Underreported due to incomplete data.               *             323  \n",
       "59678  Underreported due to incomplete data.               *             791  \n",
       "59679  Underreported due to incomplete data.               *             NaN  \n",
       "59680  Underreported due to incomplete data.               *           2,707  \n",
       "59681  Underreported due to incomplete data.               *             448  \n",
       "\n",
       "[59682 rows x 25 columns]"
      ]
     },
     "execution_count": 86,
     "metadata": {},
     "output_type": "execute_result"
    }
   ],
   "source": [
    "national_geo_data = merge_geo(\n",
    "        \"Data/geodata/cb_2022_us_county_500k.shp\",\n",
    "        csv_file_name=\"Data/NationalOverdose.csv\",\n",
    "    )\n",
    "national_geo_data"
   ]
  },
  {
   "cell_type": "code",
   "execution_count": null,
   "metadata": {},
   "outputs": [
    {
     "data": {
      "text/plain": [
       "array([nan, 'Heroin (T40.1)', 'Number of Deaths', 'Methadone (T40.3)',\n",
       "       'Number of Drug Overdose Deaths',\n",
       "       'Psychostimulants with abuse potential (T43.6)',\n",
       "       'Natural, semi-synthetic, & synthetic opioids, incl. methadone (T40.2-T40.4)',\n",
       "       'Opioids (T40.0-T40.4,T40.6)', 'Cocaine (T40.5)',\n",
       "       'Natural & semi-synthetic opioids, incl. methadone (T40.2, T40.3)',\n",
       "       'Natural & semi-synthetic opioids (T40.2)',\n",
       "       'Percent with drugs specified',\n",
       "       'Synthetic opioids, excl. methadone (T40.4)'], dtype=object)"
      ]
     },
     "execution_count": 106,
     "metadata": {},
     "output_type": "execute_result"
    }
   ],
   "source": [
    "national_geo_data['Indicator'].unique()"
   ]
  },
  {
   "cell_type": "code",
   "execution_count": null,
   "metadata": {},
   "outputs": [
    {
     "name": "stdout",
     "output_type": "stream",
     "text": [
      "<class 'geopandas.geodataframe.GeoDataFrame'>\n",
      "RangeIndex: 59682 entries, 0 to 59681\n",
      "Data columns (total 25 columns):\n",
      " #   Column                         Non-Null Count  Dtype   \n",
      "---  ------                         --------------  -----   \n",
      " 0   STATEFP                        4410 non-null   object  \n",
      " 1   COUNTYFP                       4410 non-null   object  \n",
      " 2   COUNTYNS                       4410 non-null   object  \n",
      " 3   AFFGEOID                       4410 non-null   object  \n",
      " 4   GEOID                          4410 non-null   object  \n",
      " 5   NAME                           4410 non-null   object  \n",
      " 6   NAMELSAD                       4410 non-null   object  \n",
      " 7   STUSPS                         4410 non-null   object  \n",
      " 8   STATE_NAME                     4410 non-null   object  \n",
      " 9   LSAD                           4410 non-null   object  \n",
      " 10  ALAND                          4410 non-null   float64 \n",
      " 11  AWATER                         4410 non-null   float64 \n",
      " 12  geometry                       4410 non-null   geometry\n",
      " 13  State                          56448 non-null  object  \n",
      " 14  Year                           56448 non-null  float64 \n",
      " 15  Month                          56448 non-null  object  \n",
      " 16  Period                         56448 non-null  object  \n",
      " 17  Indicator                      56448 non-null  object  \n",
      " 18  Data Value                     45979 non-null  object  \n",
      " 19  Percent Complete               56448 non-null  object  \n",
      " 20  Percent Pending Investigation  56448 non-null  float64 \n",
      " 21  State Name                     56448 non-null  object  \n",
      " 22  Footnote                       50841 non-null  object  \n",
      " 23  Footnote Symbol                50688 non-null  object  \n",
      " 24  Predicted Value                36190 non-null  object  \n",
      "dtypes: float64(4), geometry(1), object(20)\n",
      "memory usage: 11.4+ MB\n"
     ]
    }
   ],
   "source": [
    "national_geo_data.info()"
   ]
  },
  {
   "cell_type": "code",
   "execution_count": null,
   "metadata": {},
   "outputs": [
    {
     "data": {
      "text/html": [
       "<div>\n",
       "<style scoped>\n",
       "    .dataframe tbody tr th:only-of-type {\n",
       "        vertical-align: middle;\n",
       "    }\n",
       "\n",
       "    .dataframe tbody tr th {\n",
       "        vertical-align: top;\n",
       "    }\n",
       "\n",
       "    .dataframe thead th {\n",
       "        text-align: right;\n",
       "    }\n",
       "</style>\n",
       "<table border=\"1\" class=\"dataframe\">\n",
       "  <thead>\n",
       "    <tr style=\"text-align: right;\">\n",
       "      <th></th>\n",
       "      <th>NAME</th>\n",
       "      <th>geometry</th>\n",
       "      <th>State</th>\n",
       "      <th>Year</th>\n",
       "      <th>Month</th>\n",
       "      <th>Period</th>\n",
       "      <th>Indicator</th>\n",
       "      <th>Data Value</th>\n",
       "    </tr>\n",
       "  </thead>\n",
       "  <tbody>\n",
       "    <tr>\n",
       "      <th>3107</th>\n",
       "      <td>District of Columbia</td>\n",
       "      <td>POLYGON ((-77.11976 38.93434, -77.11253 38.940...</td>\n",
       "      <td>DC</td>\n",
       "      <td>2022.0</td>\n",
       "      <td>January</td>\n",
       "      <td>12 month-ending</td>\n",
       "      <td>Number of Drug Overdose Deaths</td>\n",
       "      <td>537</td>\n",
       "    </tr>\n",
       "    <tr>\n",
       "      <th>5475</th>\n",
       "      <td>NaN</td>\n",
       "      <td>None</td>\n",
       "      <td>AL</td>\n",
       "      <td>2022.0</td>\n",
       "      <td>January</td>\n",
       "      <td>12 month-ending</td>\n",
       "      <td>Number of Drug Overdose Deaths</td>\n",
       "      <td>1,331</td>\n",
       "    </tr>\n",
       "    <tr>\n",
       "      <th>6651</th>\n",
       "      <td>NaN</td>\n",
       "      <td>None</td>\n",
       "      <td>AR</td>\n",
       "      <td>2022.0</td>\n",
       "      <td>January</td>\n",
       "      <td>12 month-ending</td>\n",
       "      <td>Number of Drug Overdose Deaths</td>\n",
       "      <td>634</td>\n",
       "    </tr>\n",
       "    <tr>\n",
       "      <th>7827</th>\n",
       "      <td>NaN</td>\n",
       "      <td>None</td>\n",
       "      <td>AZ</td>\n",
       "      <td>2022.0</td>\n",
       "      <td>January</td>\n",
       "      <td>12 month-ending</td>\n",
       "      <td>Number of Drug Overdose Deaths</td>\n",
       "      <td>2,772</td>\n",
       "    </tr>\n",
       "    <tr>\n",
       "      <th>9003</th>\n",
       "      <td>NaN</td>\n",
       "      <td>None</td>\n",
       "      <td>CA</td>\n",
       "      <td>2022.0</td>\n",
       "      <td>January</td>\n",
       "      <td>12 month-ending</td>\n",
       "      <td>Number of Drug Overdose Deaths</td>\n",
       "      <td>11,353</td>\n",
       "    </tr>\n",
       "    <tr>\n",
       "      <th>10179</th>\n",
       "      <td>NaN</td>\n",
       "      <td>None</td>\n",
       "      <td>CO</td>\n",
       "      <td>2022.0</td>\n",
       "      <td>January</td>\n",
       "      <td>12 month-ending</td>\n",
       "      <td>Number of Drug Overdose Deaths</td>\n",
       "      <td>1,931</td>\n",
       "    </tr>\n",
       "    <tr>\n",
       "      <th>11355</th>\n",
       "      <td>NaN</td>\n",
       "      <td>None</td>\n",
       "      <td>CT</td>\n",
       "      <td>2022.0</td>\n",
       "      <td>January</td>\n",
       "      <td>12 month-ending</td>\n",
       "      <td>Number of Drug Overdose Deaths</td>\n",
       "      <td>1,547</td>\n",
       "    </tr>\n",
       "    <tr>\n",
       "      <th>12531</th>\n",
       "      <td>NaN</td>\n",
       "      <td>None</td>\n",
       "      <td>DE</td>\n",
       "      <td>2022.0</td>\n",
       "      <td>January</td>\n",
       "      <td>12 month-ending</td>\n",
       "      <td>Number of Drug Overdose Deaths</td>\n",
       "      <td>507</td>\n",
       "    </tr>\n",
       "    <tr>\n",
       "      <th>13707</th>\n",
       "      <td>NaN</td>\n",
       "      <td>None</td>\n",
       "      <td>FL</td>\n",
       "      <td>2022.0</td>\n",
       "      <td>January</td>\n",
       "      <td>12 month-ending</td>\n",
       "      <td>Number of Drug Overdose Deaths</td>\n",
       "      <td>8,145</td>\n",
       "    </tr>\n",
       "    <tr>\n",
       "      <th>14883</th>\n",
       "      <td>NaN</td>\n",
       "      <td>None</td>\n",
       "      <td>GA</td>\n",
       "      <td>2022.0</td>\n",
       "      <td>January</td>\n",
       "      <td>12 month-ending</td>\n",
       "      <td>Number of Drug Overdose Deaths</td>\n",
       "      <td>2,494</td>\n",
       "    </tr>\n",
       "    <tr>\n",
       "      <th>16059</th>\n",
       "      <td>NaN</td>\n",
       "      <td>None</td>\n",
       "      <td>IA</td>\n",
       "      <td>2022.0</td>\n",
       "      <td>January</td>\n",
       "      <td>12 month-ending</td>\n",
       "      <td>Number of Drug Overdose Deaths</td>\n",
       "      <td>479</td>\n",
       "    </tr>\n",
       "    <tr>\n",
       "      <th>17235</th>\n",
       "      <td>NaN</td>\n",
       "      <td>None</td>\n",
       "      <td>ID</td>\n",
       "      <td>2022.0</td>\n",
       "      <td>January</td>\n",
       "      <td>12 month-ending</td>\n",
       "      <td>Number of Drug Overdose Deaths</td>\n",
       "      <td>361</td>\n",
       "    </tr>\n",
       "    <tr>\n",
       "      <th>18411</th>\n",
       "      <td>NaN</td>\n",
       "      <td>None</td>\n",
       "      <td>IL</td>\n",
       "      <td>2022.0</td>\n",
       "      <td>January</td>\n",
       "      <td>12 month-ending</td>\n",
       "      <td>Number of Drug Overdose Deaths</td>\n",
       "      <td>3,902</td>\n",
       "    </tr>\n",
       "    <tr>\n",
       "      <th>19587</th>\n",
       "      <td>NaN</td>\n",
       "      <td>None</td>\n",
       "      <td>IN</td>\n",
       "      <td>2022.0</td>\n",
       "      <td>January</td>\n",
       "      <td>12 month-ending</td>\n",
       "      <td>Number of Drug Overdose Deaths</td>\n",
       "      <td>2,790</td>\n",
       "    </tr>\n",
       "    <tr>\n",
       "      <th>20763</th>\n",
       "      <td>NaN</td>\n",
       "      <td>None</td>\n",
       "      <td>KS</td>\n",
       "      <td>2022.0</td>\n",
       "      <td>January</td>\n",
       "      <td>12 month-ending</td>\n",
       "      <td>Number of Drug Overdose Deaths</td>\n",
       "      <td>695</td>\n",
       "    </tr>\n",
       "    <tr>\n",
       "      <th>21939</th>\n",
       "      <td>NaN</td>\n",
       "      <td>None</td>\n",
       "      <td>KY</td>\n",
       "      <td>2022.0</td>\n",
       "      <td>January</td>\n",
       "      <td>12 month-ending</td>\n",
       "      <td>Number of Drug Overdose Deaths</td>\n",
       "      <td>2,381</td>\n",
       "    </tr>\n",
       "    <tr>\n",
       "      <th>22316</th>\n",
       "      <td>NaN</td>\n",
       "      <td>None</td>\n",
       "      <td>LA</td>\n",
       "      <td>2022.0</td>\n",
       "      <td>January</td>\n",
       "      <td>12 month-ending</td>\n",
       "      <td>Number of Drug Overdose Deaths</td>\n",
       "      <td>2,527</td>\n",
       "    </tr>\n",
       "    <tr>\n",
       "      <th>23409</th>\n",
       "      <td>NaN</td>\n",
       "      <td>None</td>\n",
       "      <td>MA</td>\n",
       "      <td>2022.0</td>\n",
       "      <td>January</td>\n",
       "      <td>12 month-ending</td>\n",
       "      <td>Number of Drug Overdose Deaths</td>\n",
       "      <td>2,558</td>\n",
       "    </tr>\n",
       "    <tr>\n",
       "      <th>24585</th>\n",
       "      <td>NaN</td>\n",
       "      <td>None</td>\n",
       "      <td>MD</td>\n",
       "      <td>2022.0</td>\n",
       "      <td>January</td>\n",
       "      <td>12 month-ending</td>\n",
       "      <td>Number of Drug Overdose Deaths</td>\n",
       "      <td>2,699</td>\n",
       "    </tr>\n",
       "    <tr>\n",
       "      <th>25761</th>\n",
       "      <td>NaN</td>\n",
       "      <td>None</td>\n",
       "      <td>ME</td>\n",
       "      <td>2022.0</td>\n",
       "      <td>January</td>\n",
       "      <td>12 month-ending</td>\n",
       "      <td>Number of Drug Overdose Deaths</td>\n",
       "      <td>607</td>\n",
       "    </tr>\n",
       "    <tr>\n",
       "      <th>26937</th>\n",
       "      <td>NaN</td>\n",
       "      <td>None</td>\n",
       "      <td>MI</td>\n",
       "      <td>2022.0</td>\n",
       "      <td>January</td>\n",
       "      <td>12 month-ending</td>\n",
       "      <td>Number of Drug Overdose Deaths</td>\n",
       "      <td>3,102</td>\n",
       "    </tr>\n",
       "    <tr>\n",
       "      <th>28113</th>\n",
       "      <td>NaN</td>\n",
       "      <td>None</td>\n",
       "      <td>MN</td>\n",
       "      <td>2022.0</td>\n",
       "      <td>January</td>\n",
       "      <td>12 month-ending</td>\n",
       "      <td>Number of Drug Overdose Deaths</td>\n",
       "      <td>1,361</td>\n",
       "    </tr>\n",
       "    <tr>\n",
       "      <th>29289</th>\n",
       "      <td>NaN</td>\n",
       "      <td>None</td>\n",
       "      <td>MO</td>\n",
       "      <td>2022.0</td>\n",
       "      <td>January</td>\n",
       "      <td>12 month-ending</td>\n",
       "      <td>Number of Drug Overdose Deaths</td>\n",
       "      <td>2,209</td>\n",
       "    </tr>\n",
       "    <tr>\n",
       "      <th>30465</th>\n",
       "      <td>NaN</td>\n",
       "      <td>None</td>\n",
       "      <td>MS</td>\n",
       "      <td>2022.0</td>\n",
       "      <td>January</td>\n",
       "      <td>12 month-ending</td>\n",
       "      <td>Number of Drug Overdose Deaths</td>\n",
       "      <td>744</td>\n",
       "    </tr>\n",
       "    <tr>\n",
       "      <th>31641</th>\n",
       "      <td>NaN</td>\n",
       "      <td>None</td>\n",
       "      <td>MT</td>\n",
       "      <td>2022.0</td>\n",
       "      <td>January</td>\n",
       "      <td>12 month-ending</td>\n",
       "      <td>Number of Drug Overdose Deaths</td>\n",
       "      <td>185</td>\n",
       "    </tr>\n",
       "    <tr>\n",
       "      <th>32817</th>\n",
       "      <td>NaN</td>\n",
       "      <td>None</td>\n",
       "      <td>NC</td>\n",
       "      <td>2022.0</td>\n",
       "      <td>January</td>\n",
       "      <td>12 month-ending</td>\n",
       "      <td>Number of Drug Overdose Deaths</td>\n",
       "      <td>3,907</td>\n",
       "    </tr>\n",
       "    <tr>\n",
       "      <th>33194</th>\n",
       "      <td>NaN</td>\n",
       "      <td>None</td>\n",
       "      <td>ND</td>\n",
       "      <td>2022.0</td>\n",
       "      <td>January</td>\n",
       "      <td>12 month-ending</td>\n",
       "      <td>Number of Drug Overdose Deaths</td>\n",
       "      <td>131</td>\n",
       "    </tr>\n",
       "    <tr>\n",
       "      <th>33488</th>\n",
       "      <td>NaN</td>\n",
       "      <td>None</td>\n",
       "      <td>NE</td>\n",
       "      <td>2022.0</td>\n",
       "      <td>January</td>\n",
       "      <td>12 month-ending</td>\n",
       "      <td>Number of Drug Overdose Deaths</td>\n",
       "      <td>213</td>\n",
       "    </tr>\n",
       "    <tr>\n",
       "      <th>34581</th>\n",
       "      <td>NaN</td>\n",
       "      <td>None</td>\n",
       "      <td>NH</td>\n",
       "      <td>2022.0</td>\n",
       "      <td>January</td>\n",
       "      <td>12 month-ending</td>\n",
       "      <td>Number of Drug Overdose Deaths</td>\n",
       "      <td>457</td>\n",
       "    </tr>\n",
       "    <tr>\n",
       "      <th>35757</th>\n",
       "      <td>NaN</td>\n",
       "      <td>None</td>\n",
       "      <td>NJ</td>\n",
       "      <td>2022.0</td>\n",
       "      <td>January</td>\n",
       "      <td>12 month-ending</td>\n",
       "      <td>Number of Drug Overdose Deaths</td>\n",
       "      <td>3,047</td>\n",
       "    </tr>\n",
       "    <tr>\n",
       "      <th>36933</th>\n",
       "      <td>NaN</td>\n",
       "      <td>None</td>\n",
       "      <td>NM</td>\n",
       "      <td>2022.0</td>\n",
       "      <td>January</td>\n",
       "      <td>12 month-ending</td>\n",
       "      <td>Number of Drug Overdose Deaths</td>\n",
       "      <td>1,052</td>\n",
       "    </tr>\n",
       "    <tr>\n",
       "      <th>38109</th>\n",
       "      <td>NaN</td>\n",
       "      <td>None</td>\n",
       "      <td>NV</td>\n",
       "      <td>2022.0</td>\n",
       "      <td>January</td>\n",
       "      <td>12 month-ending</td>\n",
       "      <td>Number of Drug Overdose Deaths</td>\n",
       "      <td>1,035</td>\n",
       "    </tr>\n",
       "    <tr>\n",
       "      <th>39285</th>\n",
       "      <td>NaN</td>\n",
       "      <td>None</td>\n",
       "      <td>NY</td>\n",
       "      <td>2022.0</td>\n",
       "      <td>January</td>\n",
       "      <td>12 month-ending</td>\n",
       "      <td>Number of Drug Overdose Deaths</td>\n",
       "      <td>3,131</td>\n",
       "    </tr>\n",
       "    <tr>\n",
       "      <th>40461</th>\n",
       "      <td>NaN</td>\n",
       "      <td>None</td>\n",
       "      <td>OH</td>\n",
       "      <td>2022.0</td>\n",
       "      <td>January</td>\n",
       "      <td>12 month-ending</td>\n",
       "      <td>Number of Drug Overdose Deaths</td>\n",
       "      <td>5,371</td>\n",
       "    </tr>\n",
       "    <tr>\n",
       "      <th>41637</th>\n",
       "      <td>NaN</td>\n",
       "      <td>None</td>\n",
       "      <td>OK</td>\n",
       "      <td>2022.0</td>\n",
       "      <td>January</td>\n",
       "      <td>12 month-ending</td>\n",
       "      <td>Number of Drug Overdose Deaths</td>\n",
       "      <td>959</td>\n",
       "    </tr>\n",
       "    <tr>\n",
       "      <th>42813</th>\n",
       "      <td>NaN</td>\n",
       "      <td>None</td>\n",
       "      <td>OR</td>\n",
       "      <td>2022.0</td>\n",
       "      <td>January</td>\n",
       "      <td>12 month-ending</td>\n",
       "      <td>Number of Drug Overdose Deaths</td>\n",
       "      <td>1,182</td>\n",
       "    </tr>\n",
       "    <tr>\n",
       "      <th>43190</th>\n",
       "      <td>NaN</td>\n",
       "      <td>None</td>\n",
       "      <td>PA</td>\n",
       "      <td>2022.0</td>\n",
       "      <td>January</td>\n",
       "      <td>12 month-ending</td>\n",
       "      <td>Number of Drug Overdose Deaths</td>\n",
       "      <td>5,427</td>\n",
       "    </tr>\n",
       "    <tr>\n",
       "      <th>44283</th>\n",
       "      <td>NaN</td>\n",
       "      <td>None</td>\n",
       "      <td>RI</td>\n",
       "      <td>2022.0</td>\n",
       "      <td>January</td>\n",
       "      <td>12 month-ending</td>\n",
       "      <td>Number of Drug Overdose Deaths</td>\n",
       "      <td>459</td>\n",
       "    </tr>\n",
       "    <tr>\n",
       "      <th>45459</th>\n",
       "      <td>NaN</td>\n",
       "      <td>None</td>\n",
       "      <td>SC</td>\n",
       "      <td>2022.0</td>\n",
       "      <td>January</td>\n",
       "      <td>12 month-ending</td>\n",
       "      <td>Number of Drug Overdose Deaths</td>\n",
       "      <td>2,203</td>\n",
       "    </tr>\n",
       "    <tr>\n",
       "      <th>46635</th>\n",
       "      <td>NaN</td>\n",
       "      <td>None</td>\n",
       "      <td>SD</td>\n",
       "      <td>2022.0</td>\n",
       "      <td>January</td>\n",
       "      <td>12 month-ending</td>\n",
       "      <td>Number of Drug Overdose Deaths</td>\n",
       "      <td>103</td>\n",
       "    </tr>\n",
       "    <tr>\n",
       "      <th>47811</th>\n",
       "      <td>NaN</td>\n",
       "      <td>None</td>\n",
       "      <td>TN</td>\n",
       "      <td>2022.0</td>\n",
       "      <td>January</td>\n",
       "      <td>12 month-ending</td>\n",
       "      <td>Number of Drug Overdose Deaths</td>\n",
       "      <td>3,806</td>\n",
       "    </tr>\n",
       "    <tr>\n",
       "      <th>48987</th>\n",
       "      <td>NaN</td>\n",
       "      <td>None</td>\n",
       "      <td>TX</td>\n",
       "      <td>2022.0</td>\n",
       "      <td>January</td>\n",
       "      <td>12 month-ending</td>\n",
       "      <td>Number of Drug Overdose Deaths</td>\n",
       "      <td>4,908</td>\n",
       "    </tr>\n",
       "    <tr>\n",
       "      <th>51339</th>\n",
       "      <td>NaN</td>\n",
       "      <td>None</td>\n",
       "      <td>UT</td>\n",
       "      <td>2022.0</td>\n",
       "      <td>January</td>\n",
       "      <td>12 month-ending</td>\n",
       "      <td>Number of Drug Overdose Deaths</td>\n",
       "      <td>681</td>\n",
       "    </tr>\n",
       "    <tr>\n",
       "      <th>52515</th>\n",
       "      <td>NaN</td>\n",
       "      <td>None</td>\n",
       "      <td>VA</td>\n",
       "      <td>2022.0</td>\n",
       "      <td>January</td>\n",
       "      <td>12 month-ending</td>\n",
       "      <td>Number of Drug Overdose Deaths</td>\n",
       "      <td>2,575</td>\n",
       "    </tr>\n",
       "    <tr>\n",
       "      <th>53691</th>\n",
       "      <td>NaN</td>\n",
       "      <td>None</td>\n",
       "      <td>VT</td>\n",
       "      <td>2022.0</td>\n",
       "      <td>January</td>\n",
       "      <td>12 month-ending</td>\n",
       "      <td>Number of Drug Overdose Deaths</td>\n",
       "      <td>257</td>\n",
       "    </tr>\n",
       "    <tr>\n",
       "      <th>54867</th>\n",
       "      <td>NaN</td>\n",
       "      <td>None</td>\n",
       "      <td>WA</td>\n",
       "      <td>2022.0</td>\n",
       "      <td>January</td>\n",
       "      <td>12 month-ending</td>\n",
       "      <td>Number of Drug Overdose Deaths</td>\n",
       "      <td>2,296</td>\n",
       "    </tr>\n",
       "    <tr>\n",
       "      <th>56043</th>\n",
       "      <td>NaN</td>\n",
       "      <td>None</td>\n",
       "      <td>WI</td>\n",
       "      <td>2022.0</td>\n",
       "      <td>January</td>\n",
       "      <td>12 month-ending</td>\n",
       "      <td>Number of Drug Overdose Deaths</td>\n",
       "      <td>1,814</td>\n",
       "    </tr>\n",
       "    <tr>\n",
       "      <th>57219</th>\n",
       "      <td>NaN</td>\n",
       "      <td>None</td>\n",
       "      <td>WV</td>\n",
       "      <td>2022.0</td>\n",
       "      <td>January</td>\n",
       "      <td>12 month-ending</td>\n",
       "      <td>Number of Drug Overdose Deaths</td>\n",
       "      <td>1,475</td>\n",
       "    </tr>\n",
       "    <tr>\n",
       "      <th>58395</th>\n",
       "      <td>NaN</td>\n",
       "      <td>None</td>\n",
       "      <td>WY</td>\n",
       "      <td>2022.0</td>\n",
       "      <td>January</td>\n",
       "      <td>12 month-ending</td>\n",
       "      <td>Number of Drug Overdose Deaths</td>\n",
       "      <td>106</td>\n",
       "    </tr>\n",
       "  </tbody>\n",
       "</table>\n",
       "</div>"
      ],
      "text/plain": [
       "                       NAME  \\\n",
       "3107   District of Columbia   \n",
       "5475                    NaN   \n",
       "6651                    NaN   \n",
       "7827                    NaN   \n",
       "9003                    NaN   \n",
       "10179                   NaN   \n",
       "11355                   NaN   \n",
       "12531                   NaN   \n",
       "13707                   NaN   \n",
       "14883                   NaN   \n",
       "16059                   NaN   \n",
       "17235                   NaN   \n",
       "18411                   NaN   \n",
       "19587                   NaN   \n",
       "20763                   NaN   \n",
       "21939                   NaN   \n",
       "22316                   NaN   \n",
       "23409                   NaN   \n",
       "24585                   NaN   \n",
       "25761                   NaN   \n",
       "26937                   NaN   \n",
       "28113                   NaN   \n",
       "29289                   NaN   \n",
       "30465                   NaN   \n",
       "31641                   NaN   \n",
       "32817                   NaN   \n",
       "33194                   NaN   \n",
       "33488                   NaN   \n",
       "34581                   NaN   \n",
       "35757                   NaN   \n",
       "36933                   NaN   \n",
       "38109                   NaN   \n",
       "39285                   NaN   \n",
       "40461                   NaN   \n",
       "41637                   NaN   \n",
       "42813                   NaN   \n",
       "43190                   NaN   \n",
       "44283                   NaN   \n",
       "45459                   NaN   \n",
       "46635                   NaN   \n",
       "47811                   NaN   \n",
       "48987                   NaN   \n",
       "51339                   NaN   \n",
       "52515                   NaN   \n",
       "53691                   NaN   \n",
       "54867                   NaN   \n",
       "56043                   NaN   \n",
       "57219                   NaN   \n",
       "58395                   NaN   \n",
       "\n",
       "                                                geometry State    Year  \\\n",
       "3107   POLYGON ((-77.11976 38.93434, -77.11253 38.940...    DC  2022.0   \n",
       "5475                                                None    AL  2022.0   \n",
       "6651                                                None    AR  2022.0   \n",
       "7827                                                None    AZ  2022.0   \n",
       "9003                                                None    CA  2022.0   \n",
       "10179                                               None    CO  2022.0   \n",
       "11355                                               None    CT  2022.0   \n",
       "12531                                               None    DE  2022.0   \n",
       "13707                                               None    FL  2022.0   \n",
       "14883                                               None    GA  2022.0   \n",
       "16059                                               None    IA  2022.0   \n",
       "17235                                               None    ID  2022.0   \n",
       "18411                                               None    IL  2022.0   \n",
       "19587                                               None    IN  2022.0   \n",
       "20763                                               None    KS  2022.0   \n",
       "21939                                               None    KY  2022.0   \n",
       "22316                                               None    LA  2022.0   \n",
       "23409                                               None    MA  2022.0   \n",
       "24585                                               None    MD  2022.0   \n",
       "25761                                               None    ME  2022.0   \n",
       "26937                                               None    MI  2022.0   \n",
       "28113                                               None    MN  2022.0   \n",
       "29289                                               None    MO  2022.0   \n",
       "30465                                               None    MS  2022.0   \n",
       "31641                                               None    MT  2022.0   \n",
       "32817                                               None    NC  2022.0   \n",
       "33194                                               None    ND  2022.0   \n",
       "33488                                               None    NE  2022.0   \n",
       "34581                                               None    NH  2022.0   \n",
       "35757                                               None    NJ  2022.0   \n",
       "36933                                               None    NM  2022.0   \n",
       "38109                                               None    NV  2022.0   \n",
       "39285                                               None    NY  2022.0   \n",
       "40461                                               None    OH  2022.0   \n",
       "41637                                               None    OK  2022.0   \n",
       "42813                                               None    OR  2022.0   \n",
       "43190                                               None    PA  2022.0   \n",
       "44283                                               None    RI  2022.0   \n",
       "45459                                               None    SC  2022.0   \n",
       "46635                                               None    SD  2022.0   \n",
       "47811                                               None    TN  2022.0   \n",
       "48987                                               None    TX  2022.0   \n",
       "51339                                               None    UT  2022.0   \n",
       "52515                                               None    VA  2022.0   \n",
       "53691                                               None    VT  2022.0   \n",
       "54867                                               None    WA  2022.0   \n",
       "56043                                               None    WI  2022.0   \n",
       "57219                                               None    WV  2022.0   \n",
       "58395                                               None    WY  2022.0   \n",
       "\n",
       "         Month           Period                       Indicator Data Value  \n",
       "3107   January  12 month-ending  Number of Drug Overdose Deaths        537  \n",
       "5475   January  12 month-ending  Number of Drug Overdose Deaths      1,331  \n",
       "6651   January  12 month-ending  Number of Drug Overdose Deaths        634  \n",
       "7827   January  12 month-ending  Number of Drug Overdose Deaths      2,772  \n",
       "9003   January  12 month-ending  Number of Drug Overdose Deaths     11,353  \n",
       "10179  January  12 month-ending  Number of Drug Overdose Deaths      1,931  \n",
       "11355  January  12 month-ending  Number of Drug Overdose Deaths      1,547  \n",
       "12531  January  12 month-ending  Number of Drug Overdose Deaths        507  \n",
       "13707  January  12 month-ending  Number of Drug Overdose Deaths      8,145  \n",
       "14883  January  12 month-ending  Number of Drug Overdose Deaths      2,494  \n",
       "16059  January  12 month-ending  Number of Drug Overdose Deaths        479  \n",
       "17235  January  12 month-ending  Number of Drug Overdose Deaths        361  \n",
       "18411  January  12 month-ending  Number of Drug Overdose Deaths      3,902  \n",
       "19587  January  12 month-ending  Number of Drug Overdose Deaths      2,790  \n",
       "20763  January  12 month-ending  Number of Drug Overdose Deaths        695  \n",
       "21939  January  12 month-ending  Number of Drug Overdose Deaths      2,381  \n",
       "22316  January  12 month-ending  Number of Drug Overdose Deaths      2,527  \n",
       "23409  January  12 month-ending  Number of Drug Overdose Deaths      2,558  \n",
       "24585  January  12 month-ending  Number of Drug Overdose Deaths      2,699  \n",
       "25761  January  12 month-ending  Number of Drug Overdose Deaths        607  \n",
       "26937  January  12 month-ending  Number of Drug Overdose Deaths      3,102  \n",
       "28113  January  12 month-ending  Number of Drug Overdose Deaths      1,361  \n",
       "29289  January  12 month-ending  Number of Drug Overdose Deaths      2,209  \n",
       "30465  January  12 month-ending  Number of Drug Overdose Deaths        744  \n",
       "31641  January  12 month-ending  Number of Drug Overdose Deaths        185  \n",
       "32817  January  12 month-ending  Number of Drug Overdose Deaths      3,907  \n",
       "33194  January  12 month-ending  Number of Drug Overdose Deaths        131  \n",
       "33488  January  12 month-ending  Number of Drug Overdose Deaths        213  \n",
       "34581  January  12 month-ending  Number of Drug Overdose Deaths        457  \n",
       "35757  January  12 month-ending  Number of Drug Overdose Deaths      3,047  \n",
       "36933  January  12 month-ending  Number of Drug Overdose Deaths      1,052  \n",
       "38109  January  12 month-ending  Number of Drug Overdose Deaths      1,035  \n",
       "39285  January  12 month-ending  Number of Drug Overdose Deaths      3,131  \n",
       "40461  January  12 month-ending  Number of Drug Overdose Deaths      5,371  \n",
       "41637  January  12 month-ending  Number of Drug Overdose Deaths        959  \n",
       "42813  January  12 month-ending  Number of Drug Overdose Deaths      1,182  \n",
       "43190  January  12 month-ending  Number of Drug Overdose Deaths      5,427  \n",
       "44283  January  12 month-ending  Number of Drug Overdose Deaths        459  \n",
       "45459  January  12 month-ending  Number of Drug Overdose Deaths      2,203  \n",
       "46635  January  12 month-ending  Number of Drug Overdose Deaths        103  \n",
       "47811  January  12 month-ending  Number of Drug Overdose Deaths      3,806  \n",
       "48987  January  12 month-ending  Number of Drug Overdose Deaths      4,908  \n",
       "51339  January  12 month-ending  Number of Drug Overdose Deaths        681  \n",
       "52515  January  12 month-ending  Number of Drug Overdose Deaths      2,575  \n",
       "53691  January  12 month-ending  Number of Drug Overdose Deaths        257  \n",
       "54867  January  12 month-ending  Number of Drug Overdose Deaths      2,296  \n",
       "56043  January  12 month-ending  Number of Drug Overdose Deaths      1,814  \n",
       "57219  January  12 month-ending  Number of Drug Overdose Deaths      1,475  \n",
       "58395  January  12 month-ending  Number of Drug Overdose Deaths        106  "
      ]
     },
     "execution_count": 122,
     "metadata": {},
     "output_type": "execute_result"
    }
   ],
   "source": [
    "filtered_national = national_geo_data.copy()\n",
    "filtered_national = filtered_national[['NAME', 'geometry', 'State', 'Year', 'Month', 'Period', 'Indicator', 'Data Value']]\n",
    "any_drug = (filtered_national['Indicator'] == 'Number of Drug Overdose Deaths')\n",
    "year = (filtered_national['Year'] == 2022.0)\n",
    "month = filtered_national['Month'] == 'January'\n",
    "states = (filtered_national['State'] != 'AK') & (filtered_national['State'] != 'YC') & (filtered_national['State'] != 'US') & (filtered_national['State'] != 'HI') \n",
    "filtered_national = filtered_national[any_drug & year & states & month]\n",
    "filtered_national\n"
   ]
  },
  {
   "cell_type": "code",
   "execution_count": 179,
   "metadata": {},
   "outputs": [
    {
     "data": {
      "application/vnd.plotly.v1+json": {
       "config": {
        "plotlyServerURL": "https://plot.ly"
       },
       "data": [
        {
         "alignmentgroup": "True",
         "hovertemplate": "State=US<br>Year=%{x}<br>Data Value=%{y}<extra></extra>",
         "legendgroup": "US",
         "marker": {
          "color": "#636efa",
          "pattern": {
           "shape": ""
          }
         },
         "name": "US",
         "offsetgroup": "US",
         "orientation": "v",
         "showlegend": true,
         "textposition": "auto",
         "type": "bar",
         "x": [
          "2019",
          "2020"
         ],
         "xaxis": "x",
         "y": [
          "67,727",
          "74,679"
         ],
         "yaxis": "y"
        },
        {
         "alignmentgroup": "True",
         "hovertemplate": "State=WA<br>Year=%{x}<br>Data Value=%{y}<extra></extra>",
         "legendgroup": "WA",
         "marker": {
          "color": "#EF553B",
          "pattern": {
           "shape": ""
          }
         },
         "name": "WA",
         "offsetgroup": "WA",
         "orientation": "v",
         "showlegend": true,
         "textposition": "auto",
         "type": "bar",
         "x": [
          "2019",
          "2020"
         ],
         "xaxis": "x",
         "y": [
          "1,181",
          "1,318"
         ],
         "yaxis": "y"
        }
       ],
       "layout": {
        "barmode": "stack",
        "legend": {
         "title": {
          "text": "State"
         },
         "tracegroupgap": 0
        },
        "template": {
         "data": {
          "bar": [
           {
            "error_x": {
             "color": "#2a3f5f"
            },
            "error_y": {
             "color": "#2a3f5f"
            },
            "marker": {
             "line": {
              "color": "#E5ECF6",
              "width": 0.5
             },
             "pattern": {
              "fillmode": "overlay",
              "size": 10,
              "solidity": 0.2
             }
            },
            "type": "bar"
           }
          ],
          "barpolar": [
           {
            "marker": {
             "line": {
              "color": "#E5ECF6",
              "width": 0.5
             },
             "pattern": {
              "fillmode": "overlay",
              "size": 10,
              "solidity": 0.2
             }
            },
            "type": "barpolar"
           }
          ],
          "carpet": [
           {
            "aaxis": {
             "endlinecolor": "#2a3f5f",
             "gridcolor": "white",
             "linecolor": "white",
             "minorgridcolor": "white",
             "startlinecolor": "#2a3f5f"
            },
            "baxis": {
             "endlinecolor": "#2a3f5f",
             "gridcolor": "white",
             "linecolor": "white",
             "minorgridcolor": "white",
             "startlinecolor": "#2a3f5f"
            },
            "type": "carpet"
           }
          ],
          "choropleth": [
           {
            "colorbar": {
             "outlinewidth": 0,
             "ticks": ""
            },
            "type": "choropleth"
           }
          ],
          "contour": [
           {
            "colorbar": {
             "outlinewidth": 0,
             "ticks": ""
            },
            "colorscale": [
             [
              0,
              "#0d0887"
             ],
             [
              0.1111111111111111,
              "#46039f"
             ],
             [
              0.2222222222222222,
              "#7201a8"
             ],
             [
              0.3333333333333333,
              "#9c179e"
             ],
             [
              0.4444444444444444,
              "#bd3786"
             ],
             [
              0.5555555555555556,
              "#d8576b"
             ],
             [
              0.6666666666666666,
              "#ed7953"
             ],
             [
              0.7777777777777778,
              "#fb9f3a"
             ],
             [
              0.8888888888888888,
              "#fdca26"
             ],
             [
              1,
              "#f0f921"
             ]
            ],
            "type": "contour"
           }
          ],
          "contourcarpet": [
           {
            "colorbar": {
             "outlinewidth": 0,
             "ticks": ""
            },
            "type": "contourcarpet"
           }
          ],
          "heatmap": [
           {
            "colorbar": {
             "outlinewidth": 0,
             "ticks": ""
            },
            "colorscale": [
             [
              0,
              "#0d0887"
             ],
             [
              0.1111111111111111,
              "#46039f"
             ],
             [
              0.2222222222222222,
              "#7201a8"
             ],
             [
              0.3333333333333333,
              "#9c179e"
             ],
             [
              0.4444444444444444,
              "#bd3786"
             ],
             [
              0.5555555555555556,
              "#d8576b"
             ],
             [
              0.6666666666666666,
              "#ed7953"
             ],
             [
              0.7777777777777778,
              "#fb9f3a"
             ],
             [
              0.8888888888888888,
              "#fdca26"
             ],
             [
              1,
              "#f0f921"
             ]
            ],
            "type": "heatmap"
           }
          ],
          "heatmapgl": [
           {
            "colorbar": {
             "outlinewidth": 0,
             "ticks": ""
            },
            "colorscale": [
             [
              0,
              "#0d0887"
             ],
             [
              0.1111111111111111,
              "#46039f"
             ],
             [
              0.2222222222222222,
              "#7201a8"
             ],
             [
              0.3333333333333333,
              "#9c179e"
             ],
             [
              0.4444444444444444,
              "#bd3786"
             ],
             [
              0.5555555555555556,
              "#d8576b"
             ],
             [
              0.6666666666666666,
              "#ed7953"
             ],
             [
              0.7777777777777778,
              "#fb9f3a"
             ],
             [
              0.8888888888888888,
              "#fdca26"
             ],
             [
              1,
              "#f0f921"
             ]
            ],
            "type": "heatmapgl"
           }
          ],
          "histogram": [
           {
            "marker": {
             "pattern": {
              "fillmode": "overlay",
              "size": 10,
              "solidity": 0.2
             }
            },
            "type": "histogram"
           }
          ],
          "histogram2d": [
           {
            "colorbar": {
             "outlinewidth": 0,
             "ticks": ""
            },
            "colorscale": [
             [
              0,
              "#0d0887"
             ],
             [
              0.1111111111111111,
              "#46039f"
             ],
             [
              0.2222222222222222,
              "#7201a8"
             ],
             [
              0.3333333333333333,
              "#9c179e"
             ],
             [
              0.4444444444444444,
              "#bd3786"
             ],
             [
              0.5555555555555556,
              "#d8576b"
             ],
             [
              0.6666666666666666,
              "#ed7953"
             ],
             [
              0.7777777777777778,
              "#fb9f3a"
             ],
             [
              0.8888888888888888,
              "#fdca26"
             ],
             [
              1,
              "#f0f921"
             ]
            ],
            "type": "histogram2d"
           }
          ],
          "histogram2dcontour": [
           {
            "colorbar": {
             "outlinewidth": 0,
             "ticks": ""
            },
            "colorscale": [
             [
              0,
              "#0d0887"
             ],
             [
              0.1111111111111111,
              "#46039f"
             ],
             [
              0.2222222222222222,
              "#7201a8"
             ],
             [
              0.3333333333333333,
              "#9c179e"
             ],
             [
              0.4444444444444444,
              "#bd3786"
             ],
             [
              0.5555555555555556,
              "#d8576b"
             ],
             [
              0.6666666666666666,
              "#ed7953"
             ],
             [
              0.7777777777777778,
              "#fb9f3a"
             ],
             [
              0.8888888888888888,
              "#fdca26"
             ],
             [
              1,
              "#f0f921"
             ]
            ],
            "type": "histogram2dcontour"
           }
          ],
          "mesh3d": [
           {
            "colorbar": {
             "outlinewidth": 0,
             "ticks": ""
            },
            "type": "mesh3d"
           }
          ],
          "parcoords": [
           {
            "line": {
             "colorbar": {
              "outlinewidth": 0,
              "ticks": ""
             }
            },
            "type": "parcoords"
           }
          ],
          "pie": [
           {
            "automargin": true,
            "type": "pie"
           }
          ],
          "scatter": [
           {
            "fillpattern": {
             "fillmode": "overlay",
             "size": 10,
             "solidity": 0.2
            },
            "type": "scatter"
           }
          ],
          "scatter3d": [
           {
            "line": {
             "colorbar": {
              "outlinewidth": 0,
              "ticks": ""
             }
            },
            "marker": {
             "colorbar": {
              "outlinewidth": 0,
              "ticks": ""
             }
            },
            "type": "scatter3d"
           }
          ],
          "scattercarpet": [
           {
            "marker": {
             "colorbar": {
              "outlinewidth": 0,
              "ticks": ""
             }
            },
            "type": "scattercarpet"
           }
          ],
          "scattergeo": [
           {
            "marker": {
             "colorbar": {
              "outlinewidth": 0,
              "ticks": ""
             }
            },
            "type": "scattergeo"
           }
          ],
          "scattergl": [
           {
            "marker": {
             "colorbar": {
              "outlinewidth": 0,
              "ticks": ""
             }
            },
            "type": "scattergl"
           }
          ],
          "scattermapbox": [
           {
            "marker": {
             "colorbar": {
              "outlinewidth": 0,
              "ticks": ""
             }
            },
            "type": "scattermapbox"
           }
          ],
          "scatterpolar": [
           {
            "marker": {
             "colorbar": {
              "outlinewidth": 0,
              "ticks": ""
             }
            },
            "type": "scatterpolar"
           }
          ],
          "scatterpolargl": [
           {
            "marker": {
             "colorbar": {
              "outlinewidth": 0,
              "ticks": ""
             }
            },
            "type": "scatterpolargl"
           }
          ],
          "scatterternary": [
           {
            "marker": {
             "colorbar": {
              "outlinewidth": 0,
              "ticks": ""
             }
            },
            "type": "scatterternary"
           }
          ],
          "surface": [
           {
            "colorbar": {
             "outlinewidth": 0,
             "ticks": ""
            },
            "colorscale": [
             [
              0,
              "#0d0887"
             ],
             [
              0.1111111111111111,
              "#46039f"
             ],
             [
              0.2222222222222222,
              "#7201a8"
             ],
             [
              0.3333333333333333,
              "#9c179e"
             ],
             [
              0.4444444444444444,
              "#bd3786"
             ],
             [
              0.5555555555555556,
              "#d8576b"
             ],
             [
              0.6666666666666666,
              "#ed7953"
             ],
             [
              0.7777777777777778,
              "#fb9f3a"
             ],
             [
              0.8888888888888888,
              "#fdca26"
             ],
             [
              1,
              "#f0f921"
             ]
            ],
            "type": "surface"
           }
          ],
          "table": [
           {
            "cells": {
             "fill": {
              "color": "#EBF0F8"
             },
             "line": {
              "color": "white"
             }
            },
            "header": {
             "fill": {
              "color": "#C8D4E3"
             },
             "line": {
              "color": "white"
             }
            },
            "type": "table"
           }
          ]
         },
         "layout": {
          "annotationdefaults": {
           "arrowcolor": "#2a3f5f",
           "arrowhead": 0,
           "arrowwidth": 1
          },
          "autotypenumbers": "strict",
          "coloraxis": {
           "colorbar": {
            "outlinewidth": 0,
            "ticks": ""
           }
          },
          "colorscale": {
           "diverging": [
            [
             0,
             "#8e0152"
            ],
            [
             0.1,
             "#c51b7d"
            ],
            [
             0.2,
             "#de77ae"
            ],
            [
             0.3,
             "#f1b6da"
            ],
            [
             0.4,
             "#fde0ef"
            ],
            [
             0.5,
             "#f7f7f7"
            ],
            [
             0.6,
             "#e6f5d0"
            ],
            [
             0.7,
             "#b8e186"
            ],
            [
             0.8,
             "#7fbc41"
            ],
            [
             0.9,
             "#4d9221"
            ],
            [
             1,
             "#276419"
            ]
           ],
           "sequential": [
            [
             0,
             "#0d0887"
            ],
            [
             0.1111111111111111,
             "#46039f"
            ],
            [
             0.2222222222222222,
             "#7201a8"
            ],
            [
             0.3333333333333333,
             "#9c179e"
            ],
            [
             0.4444444444444444,
             "#bd3786"
            ],
            [
             0.5555555555555556,
             "#d8576b"
            ],
            [
             0.6666666666666666,
             "#ed7953"
            ],
            [
             0.7777777777777778,
             "#fb9f3a"
            ],
            [
             0.8888888888888888,
             "#fdca26"
            ],
            [
             1,
             "#f0f921"
            ]
           ],
           "sequentialminus": [
            [
             0,
             "#0d0887"
            ],
            [
             0.1111111111111111,
             "#46039f"
            ],
            [
             0.2222222222222222,
             "#7201a8"
            ],
            [
             0.3333333333333333,
             "#9c179e"
            ],
            [
             0.4444444444444444,
             "#bd3786"
            ],
            [
             0.5555555555555556,
             "#d8576b"
            ],
            [
             0.6666666666666666,
             "#ed7953"
            ],
            [
             0.7777777777777778,
             "#fb9f3a"
            ],
            [
             0.8888888888888888,
             "#fdca26"
            ],
            [
             1,
             "#f0f921"
            ]
           ]
          },
          "colorway": [
           "#636efa",
           "#EF553B",
           "#00cc96",
           "#ab63fa",
           "#FFA15A",
           "#19d3f3",
           "#FF6692",
           "#B6E880",
           "#FF97FF",
           "#FECB52"
          ],
          "font": {
           "color": "#2a3f5f"
          },
          "geo": {
           "bgcolor": "white",
           "lakecolor": "white",
           "landcolor": "#E5ECF6",
           "showlakes": true,
           "showland": true,
           "subunitcolor": "white"
          },
          "hoverlabel": {
           "align": "left"
          },
          "hovermode": "closest",
          "mapbox": {
           "style": "light"
          },
          "paper_bgcolor": "white",
          "plot_bgcolor": "#E5ECF6",
          "polar": {
           "angularaxis": {
            "gridcolor": "white",
            "linecolor": "white",
            "ticks": ""
           },
           "bgcolor": "#E5ECF6",
           "radialaxis": {
            "gridcolor": "white",
            "linecolor": "white",
            "ticks": ""
           }
          },
          "scene": {
           "xaxis": {
            "backgroundcolor": "#E5ECF6",
            "gridcolor": "white",
            "gridwidth": 2,
            "linecolor": "white",
            "showbackground": true,
            "ticks": "",
            "zerolinecolor": "white"
           },
           "yaxis": {
            "backgroundcolor": "#E5ECF6",
            "gridcolor": "white",
            "gridwidth": 2,
            "linecolor": "white",
            "showbackground": true,
            "ticks": "",
            "zerolinecolor": "white"
           },
           "zaxis": {
            "backgroundcolor": "#E5ECF6",
            "gridcolor": "white",
            "gridwidth": 2,
            "linecolor": "white",
            "showbackground": true,
            "ticks": "",
            "zerolinecolor": "white"
           }
          },
          "shapedefaults": {
           "line": {
            "color": "#2a3f5f"
           }
          },
          "ternary": {
           "aaxis": {
            "gridcolor": "white",
            "linecolor": "white",
            "ticks": ""
           },
           "baxis": {
            "gridcolor": "white",
            "linecolor": "white",
            "ticks": ""
           },
           "bgcolor": "#E5ECF6",
           "caxis": {
            "gridcolor": "white",
            "linecolor": "white",
            "ticks": ""
           }
          },
          "title": {
           "x": 0.05
          },
          "xaxis": {
           "automargin": true,
           "gridcolor": "white",
           "linecolor": "white",
           "ticks": "",
           "title": {
            "standoff": 15
           },
           "zerolinecolor": "white",
           "zerolinewidth": 2
          },
          "yaxis": {
           "automargin": true,
           "gridcolor": "white",
           "linecolor": "white",
           "ticks": "",
           "title": {
            "standoff": 15
           },
           "zerolinecolor": "white",
           "zerolinewidth": 2
          }
         }
        },
        "title": {
         "text": "Drug Overdose Deaths in Washington vs. U.S."
        },
        "xaxis": {
         "anchor": "y",
         "domain": [
          0,
          1
         ],
         "title": {
          "text": "Year"
         }
        },
        "yaxis": {
         "anchor": "x",
         "domain": [
          0,
          1
         ],
         "title": {
          "text": "Death Count"
         },
         "type": "log"
        }
       }
      }
     },
     "metadata": {},
     "output_type": "display_data"
    }
   ],
   "source": [
    "usa_data = pd.read_csv('Data/NationalOverdose.csv')\n",
    "usa_data = usa_data[['State', 'Year', 'Month', 'Period', 'Indicator', 'Data Value']].copy()\n",
    "usa_data['Year'] = usa_data['Year'].astype(str)\n",
    "any_drug = (usa_data['Indicator'] == 'Number of Drug Overdose Deaths')\n",
    "\n",
    "# Create masks\n",
    "year = (usa_data['Year'] == '2019') | (usa_data['Year'] == '2020')\n",
    "month = (usa_data['Month'] == 'March')\n",
    "states = (usa_data['State'] == 'WA') | (usa_data['State'] == 'US')\n",
    "\n",
    "# Filter data\n",
    "usa_data = usa_data[any_drug & year & month & states]\n",
    "usa_data\n",
    "\n",
    "fig = px.bar(usa_data, x='Year', y='Data Value', color='State', title='Drug Overdose Deaths in Washington vs. U.S.')\n",
    "fig.update_layout(barmode='stack')\n",
    "fig.update_yaxes(type='log')\n",
    "fig.update_yaxes(title=\"Death Count\")\n",
    "# fig.write_image('wa_versus_us.png')"
   ]
  },
  {
   "cell_type": "code",
   "execution_count": 180,
   "metadata": {},
   "outputs": [
    {
     "name": "stderr",
     "output_type": "stream",
     "text": [
      "c:\\Users\\brand\\anaconda3\\envs\\cse163\\lib\\site-packages\\geopandas\\geodataframe.py:1538: SettingWithCopyWarning:\n",
      "\n",
      "\n",
      "A value is trying to be set on a copy of a slice from a DataFrame.\n",
      "Try using .loc[row_indexer,col_indexer] = value instead\n",
      "\n",
      "See the caveats in the documentation: https://pandas.pydata.org/pandas-docs/stable/user_guide/indexing.html#returning-a-view-versus-a-copy\n",
      "\n"
     ]
    },
    {
     "ename": "KeyboardInterrupt",
     "evalue": "",
     "output_type": "error",
     "traceback": [
      "\u001b[1;31m---------------------------------------------------------------------------\u001b[0m",
      "\u001b[1;31mKeyboardInterrupt\u001b[0m                         Traceback (most recent call last)",
      "Cell \u001b[1;32mIn[180], line 29\u001b[0m\n\u001b[0;32m     26\u001b[0m       ax\u001b[39m.\u001b[39mset_aspect(\u001b[39m'\u001b[39m\u001b[39mequal\u001b[39m\u001b[39m'\u001b[39m)\n\u001b[0;32m     27\u001b[0m   plt\u001b[39m.\u001b[39mshow()\n\u001b[1;32m---> 29\u001b[0m overdose_deaths_counties_test(wa_geo_data)\n",
      "Cell \u001b[1;32mIn[180], line 23\u001b[0m, in \u001b[0;36moverdose_deaths_counties_test\u001b[1;34m(data, drug_name, year_start, year_end)\u001b[0m\n\u001b[0;32m     19\u001b[0m year_data \u001b[39m=\u001b[39m county_data[year]\n\u001b[0;32m     21\u001b[0m ax \u001b[39m=\u001b[39m plt\u001b[39m.\u001b[39msubplot(height, width, i \u001b[39m-\u001b[39m \u001b[39mint\u001b[39m(year_start)\u001b[39m+\u001b[39m\u001b[39m1\u001b[39m)\n\u001b[1;32m---> 23\u001b[0m data\u001b[39m.\u001b[39;49mplot(ax\u001b[39m=\u001b[39;49max, color\u001b[39m=\u001b[39;49m\u001b[39m'\u001b[39;49m\u001b[39m#d3d3d3\u001b[39;49m\u001b[39m'\u001b[39;49m)\n\u001b[0;32m     24\u001b[0m year_data\u001b[39m.\u001b[39mplot(ax\u001b[39m=\u001b[39max, column\u001b[39m=\u001b[39m\u001b[39m'\u001b[39m\u001b[39mDeath Count\u001b[39m\u001b[39m'\u001b[39m, legend\u001b[39m=\u001b[39m\u001b[39mTrue\u001b[39;00m)\n\u001b[0;32m     25\u001b[0m ax\u001b[39m.\u001b[39mset_title(i)\n",
      "File \u001b[1;32mc:\\Users\\brand\\anaconda3\\envs\\cse163\\lib\\site-packages\\geopandas\\plotting.py:969\u001b[0m, in \u001b[0;36mGeoplotAccessor.__call__\u001b[1;34m(self, *args, **kwargs)\u001b[0m\n\u001b[0;32m    967\u001b[0m kind \u001b[39m=\u001b[39m kwargs\u001b[39m.\u001b[39mpop(\u001b[39m\"\u001b[39m\u001b[39mkind\u001b[39m\u001b[39m\"\u001b[39m, \u001b[39m\"\u001b[39m\u001b[39mgeo\u001b[39m\u001b[39m\"\u001b[39m)\n\u001b[0;32m    968\u001b[0m \u001b[39mif\u001b[39;00m kind \u001b[39m==\u001b[39m \u001b[39m\"\u001b[39m\u001b[39mgeo\u001b[39m\u001b[39m\"\u001b[39m:\n\u001b[1;32m--> 969\u001b[0m     \u001b[39mreturn\u001b[39;00m plot_dataframe(data, \u001b[39m*\u001b[39margs, \u001b[39m*\u001b[39m\u001b[39m*\u001b[39mkwargs)\n\u001b[0;32m    970\u001b[0m \u001b[39mif\u001b[39;00m kind \u001b[39min\u001b[39;00m \u001b[39mself\u001b[39m\u001b[39m.\u001b[39m_pandas_kinds:\n\u001b[0;32m    971\u001b[0m     \u001b[39m# Access pandas plots\u001b[39;00m\n\u001b[0;32m    972\u001b[0m     \u001b[39mreturn\u001b[39;00m PlotAccessor(data)(kind\u001b[39m=\u001b[39mkind, \u001b[39m*\u001b[39m\u001b[39m*\u001b[39mkwargs)\n",
      "File \u001b[1;32mc:\\Users\\brand\\anaconda3\\envs\\cse163\\lib\\site-packages\\geopandas\\plotting.py:706\u001b[0m, in \u001b[0;36mplot_dataframe\u001b[1;34m(df, column, cmap, color, ax, cax, categorical, legend, scheme, k, vmin, vmax, markersize, figsize, legend_kwds, categories, classification_kwds, missing_kwds, aspect, **style_kwds)\u001b[0m\n\u001b[0;32m    703\u001b[0m     markersize \u001b[39m=\u001b[39m df[markersize]\u001b[39m.\u001b[39mvalues\n\u001b[0;32m    705\u001b[0m \u001b[39mif\u001b[39;00m column \u001b[39mis\u001b[39;00m \u001b[39mNone\u001b[39;00m:\n\u001b[1;32m--> 706\u001b[0m     \u001b[39mreturn\u001b[39;00m plot_series(\n\u001b[0;32m    707\u001b[0m         df\u001b[39m.\u001b[39mgeometry,\n\u001b[0;32m    708\u001b[0m         cmap\u001b[39m=\u001b[39mcmap,\n\u001b[0;32m    709\u001b[0m         color\u001b[39m=\u001b[39mcolor,\n\u001b[0;32m    710\u001b[0m         ax\u001b[39m=\u001b[39max,\n\u001b[0;32m    711\u001b[0m         figsize\u001b[39m=\u001b[39mfigsize,\n\u001b[0;32m    712\u001b[0m         markersize\u001b[39m=\u001b[39mmarkersize,\n\u001b[0;32m    713\u001b[0m         aspect\u001b[39m=\u001b[39maspect,\n\u001b[0;32m    714\u001b[0m         \u001b[39m*\u001b[39m\u001b[39m*\u001b[39mstyle_kwds,\n\u001b[0;32m    715\u001b[0m     )\n\u001b[0;32m    717\u001b[0m \u001b[39m# To accept pd.Series and np.arrays as column\u001b[39;00m\n\u001b[0;32m    718\u001b[0m \u001b[39mif\u001b[39;00m \u001b[39misinstance\u001b[39m(column, (np\u001b[39m.\u001b[39mndarray, pd\u001b[39m.\u001b[39mSeries)):\n",
      "File \u001b[1;32mc:\\Users\\brand\\anaconda3\\envs\\cse163\\lib\\site-packages\\geopandas\\plotting.py:465\u001b[0m, in \u001b[0;36mplot_series\u001b[1;34m(s, cmap, color, ax, figsize, aspect, **style_kwds)\u001b[0m\n\u001b[0;32m    462\u001b[0m         facecolor \u001b[39m=\u001b[39m color_\n\u001b[0;32m    464\u001b[0m     values_ \u001b[39m=\u001b[39m values[poly_idx] \u001b[39mif\u001b[39;00m cmap \u001b[39melse\u001b[39;00m \u001b[39mNone\u001b[39;00m\n\u001b[1;32m--> 465\u001b[0m     _plot_polygon_collection(\n\u001b[0;32m    466\u001b[0m         ax, polys, values_, facecolor\u001b[39m=\u001b[39mfacecolor, cmap\u001b[39m=\u001b[39mcmap, \u001b[39m*\u001b[39m\u001b[39m*\u001b[39mstyle_kwds\n\u001b[0;32m    467\u001b[0m     )\n\u001b[0;32m    469\u001b[0m \u001b[39m# plot all LineStrings and MultiLineString components in same collection\u001b[39;00m\n\u001b[0;32m    470\u001b[0m lines \u001b[39m=\u001b[39m expl_series[line_idx]\n",
      "File \u001b[1;32mc:\\Users\\brand\\anaconda3\\envs\\cse163\\lib\\site-packages\\geopandas\\plotting.py:183\u001b[0m, in \u001b[0;36m_plot_polygon_collection\u001b[1;34m(ax, geoms, values, color, cmap, vmin, vmax, **kwargs)\u001b[0m\n\u001b[0;32m    179\u001b[0m     kwargs[\u001b[39m\"\u001b[39m\u001b[39mcolor\u001b[39m\u001b[39m\"\u001b[39m] \u001b[39m=\u001b[39m color\n\u001b[0;32m    181\u001b[0m _expand_kwargs(kwargs, multiindex)\n\u001b[1;32m--> 183\u001b[0m collection \u001b[39m=\u001b[39m PatchCollection([_PolygonPatch(poly) \u001b[39mfor\u001b[39;00m poly \u001b[39min\u001b[39;00m geoms], \u001b[39m*\u001b[39m\u001b[39m*\u001b[39mkwargs)\n\u001b[0;32m    185\u001b[0m \u001b[39mif\u001b[39;00m values \u001b[39mis\u001b[39;00m \u001b[39mnot\u001b[39;00m \u001b[39mNone\u001b[39;00m:\n\u001b[0;32m    186\u001b[0m     collection\u001b[39m.\u001b[39mset_array(np\u001b[39m.\u001b[39masarray(values))\n",
      "File \u001b[1;32mc:\\Users\\brand\\anaconda3\\envs\\cse163\\lib\\site-packages\\geopandas\\plotting.py:183\u001b[0m, in \u001b[0;36m<listcomp>\u001b[1;34m(.0)\u001b[0m\n\u001b[0;32m    179\u001b[0m     kwargs[\u001b[39m\"\u001b[39m\u001b[39mcolor\u001b[39m\u001b[39m\"\u001b[39m] \u001b[39m=\u001b[39m color\n\u001b[0;32m    181\u001b[0m _expand_kwargs(kwargs, multiindex)\n\u001b[1;32m--> 183\u001b[0m collection \u001b[39m=\u001b[39m PatchCollection([_PolygonPatch(poly) \u001b[39mfor\u001b[39;00m poly \u001b[39min\u001b[39;00m geoms], \u001b[39m*\u001b[39m\u001b[39m*\u001b[39mkwargs)\n\u001b[0;32m    185\u001b[0m \u001b[39mif\u001b[39;00m values \u001b[39mis\u001b[39;00m \u001b[39mnot\u001b[39;00m \u001b[39mNone\u001b[39;00m:\n\u001b[0;32m    186\u001b[0m     collection\u001b[39m.\u001b[39mset_array(np\u001b[39m.\u001b[39masarray(values))\n",
      "File \u001b[1;32mc:\\Users\\brand\\anaconda3\\envs\\cse163\\lib\\site-packages\\geopandas\\plotting.py:128\u001b[0m, in \u001b[0;36m_PolygonPatch\u001b[1;34m(polygon, **kwargs)\u001b[0m\n\u001b[0;32m    125\u001b[0m \u001b[39mfrom\u001b[39;00m \u001b[39mmatplotlib\u001b[39;00m\u001b[39m.\u001b[39;00m\u001b[39mpatches\u001b[39;00m \u001b[39mimport\u001b[39;00m PathPatch\n\u001b[0;32m    126\u001b[0m \u001b[39mfrom\u001b[39;00m \u001b[39mmatplotlib\u001b[39;00m\u001b[39m.\u001b[39;00m\u001b[39mpath\u001b[39;00m \u001b[39mimport\u001b[39;00m Path\n\u001b[1;32m--> 128\u001b[0m path \u001b[39m=\u001b[39m Path\u001b[39m.\u001b[39;49mmake_compound_path(\n\u001b[0;32m    129\u001b[0m     Path(np\u001b[39m.\u001b[39;49masarray(polygon\u001b[39m.\u001b[39;49mexterior\u001b[39m.\u001b[39;49mcoords)[:, :\u001b[39m2\u001b[39;49m]),\n\u001b[0;32m    130\u001b[0m     \u001b[39m*\u001b[39;49m[Path(np\u001b[39m.\u001b[39;49masarray(ring\u001b[39m.\u001b[39;49mcoords)[:, :\u001b[39m2\u001b[39;49m]) \u001b[39mfor\u001b[39;49;00m ring \u001b[39min\u001b[39;49;00m polygon\u001b[39m.\u001b[39;49minteriors],\n\u001b[0;32m    131\u001b[0m )\n\u001b[0;32m    132\u001b[0m \u001b[39mreturn\u001b[39;00m PathPatch(path, \u001b[39m*\u001b[39m\u001b[39m*\u001b[39mkwargs)\n",
      "File \u001b[1;32mc:\\Users\\brand\\anaconda3\\envs\\cse163\\lib\\site-packages\\matplotlib\\path.py:342\u001b[0m, in \u001b[0;36mPath.make_compound_path\u001b[1;34m(cls, *args)\u001b[0m\n\u001b[0;32m    340\u001b[0m \u001b[39m# remove STOP's, since internal STOPs are a bug\u001b[39;00m\n\u001b[0;32m    341\u001b[0m not_stop_mask \u001b[39m=\u001b[39m codes \u001b[39m!=\u001b[39m \u001b[39mcls\u001b[39m\u001b[39m.\u001b[39mSTOP\n\u001b[1;32m--> 342\u001b[0m vertices \u001b[39m=\u001b[39m vertices[not_stop_mask, :]\n\u001b[0;32m    343\u001b[0m codes \u001b[39m=\u001b[39m codes[not_stop_mask]\n\u001b[0;32m    345\u001b[0m \u001b[39mreturn\u001b[39;00m \u001b[39mcls\u001b[39m(vertices, codes)\n",
      "\u001b[1;31mKeyboardInterrupt\u001b[0m: "
     ]
    },
    {
     "data": {
      "image/png": "[encoded data removed]",
      "text/plain": [
       "<Figure size 1500x1200 with 11 Axes>"
      ]
     },
     "metadata": {},
     "output_type": "display_data"
    }
   ],
   "source": [
    "def overdose_deaths_counties_test(data: gpd.GeoDataFrame, drug_name = 'Any Drug', year_start = 2016.0, year_end = 2022.0) -> None:\n",
    "  \"\"\"\n",
    "  \"\"\"\n",
    "  data = data[data['STATE_NAME'] == 'Washington'].copy()\n",
    "  drug = data['Drug Category'] == drug_name\n",
    "  county = data['Geography'] == 'County'\n",
    "  time = (data['Time Aggregation'] == '1 year rolling counts')\n",
    "  remove_star = data['Death Count'] != '*'\n",
    "  county_data = data[drug & county & time & remove_star].copy()\n",
    "  county_data['Death Count'] = county_data['Death Count'].astype('int')\n",
    "\n",
    "  plt.figure(figsize=(15, 12))\n",
    "  plt.subplots_adjust(hspace=0.2)\n",
    "  plt.suptitle(\"Washington County Overdose Deaths\", fontsize=18, y=0.95)\n",
    "  n = int(year_end - year_start)\n",
    "  height, width = n // 2 + 1, 2\n",
    "  for i in range(int(year_start), int(year_end)+1):\n",
    "      year = (county_data['Year'] == i)\n",
    "      year_data = county_data[year]\n",
    "\n",
    "      ax = plt.subplot(height, width, i - int(year_start)+1)\n",
    "\n",
    "      data.plot(ax=ax, color='#d3d3d3')\n",
    "      year_data.plot(ax=ax, column='Death Count', legend=True)\n",
    "      ax.set_title(i)\n",
    "      ax.set_aspect('equal')\n",
    "  plt.show()\n",
    "\n",
    "overdose_deaths_counties_test(wa_geo_data)"
   ]
  }
 ],
 "metadata": {
  "kernelspec": {
   "display_name": "cse163",
   "language": "python",
   "name": "python3"
  },
  "language_info": {
   "codemirror_mode": {
    "name": "ipython",
    "version": 3
   },
   "file_extension": ".py",
   "mimetype": "text/x-python",
   "name": "python",
   "nbconvert_exporter": "python",
   "pygments_lexer": "ipython3",
   "version": "3.9.17"
  },
  "orig_nbformat": 4
 },
 "nbformat": 4,
 "nbformat_minor": 2
}
