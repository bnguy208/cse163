{
 "cells": [
  {
   "cell_type": "code",
   "execution_count": 1,
   "metadata": {},
   "outputs": [],
   "source": [
    "import plotly.express as px\n",
    "import geopandas as gpd\n",
    "import pandas as pd\n",
    "import matplotlib.pyplot as plt"
   ]
  },
  {
   "cell_type": "code",
   "execution_count": 2,
   "metadata": {},
   "outputs": [],
   "source": [
    "def extract_xlsx(xlsx_name, ws_name):\n",
    "  xlsx = pd.ExcelFile(xlsx_name)\n",
    "  return pd.read_excel(xlsx, ws_name)"
   ]
  },
  {
   "cell_type": "code",
   "execution_count": 3,
   "metadata": {},
   "outputs": [],
   "source": [
    "xlsx_file = extract_xlsx('Data/OverdoseDeathWA.xlsx', 'By Location and Date')"
   ]
  },
  {
   "cell_type": "code",
   "execution_count": null,
   "metadata": {},
   "outputs": [],
   "source": [
    "xlsx_file.info()"
   ]
  },
  {
   "cell_type": "code",
   "execution_count": 4,
   "metadata": {},
   "outputs": [],
   "source": [
    "def merge_geo(shp_file_name, xlsx_file=None, csv_file_name=None):\n",
    "  shp_file = gpd.read_file(shp_file_name)\n",
    "  if  xlsx_file is None:\n",
    "    csv_file = pd.read_csv(csv_file_name)\n",
    "    csv_file = csv_file[(csv_file['State Name'] != 'Alaska') & (csv_file['State Name'] != 'Hawaii')]\n",
    "    merged_data = shp_file.merge(csv_file, left_on='NAMELSAD', right_on='State Name', how='outer')\n",
    "  else:\n",
    "    merged_data = shp_file.merge(xlsx_file, left_on='NAMELSAD', right_on='Location')\n",
    "  return merged_data"
   ]
  },
  {
   "cell_type": "code",
   "execution_count": 5,
   "metadata": {},
   "outputs": [
    {
     "data": {
      "text/html": [
       "<div>\n",
       "<style scoped>\n",
       "    .dataframe tbody tr th:only-of-type {\n",
       "        vertical-align: middle;\n",
       "    }\n",
       "\n",
       "    .dataframe tbody tr th {\n",
       "        vertical-align: top;\n",
       "    }\n",
       "\n",
       "    .dataframe thead th {\n",
       "        text-align: right;\n",
       "    }\n",
       "</style>\n",
       "<table border=\"1\" class=\"dataframe\">\n",
       "  <thead>\n",
       "    <tr style=\"text-align: right;\">\n",
       "      <th></th>\n",
       "      <th>STATEFP</th>\n",
       "      <th>COUNTYFP</th>\n",
       "      <th>COUNTYNS</th>\n",
       "      <th>AFFGEOID</th>\n",
       "      <th>GEOID</th>\n",
       "      <th>NAME</th>\n",
       "      <th>NAMELSAD</th>\n",
       "      <th>STUSPS</th>\n",
       "      <th>STATE_NAME</th>\n",
       "      <th>LSAD</th>\n",
       "      <th>ALAND</th>\n",
       "      <th>AWATER</th>\n",
       "      <th>geometry</th>\n",
       "    </tr>\n",
       "  </thead>\n",
       "  <tbody>\n",
       "    <tr>\n",
       "      <th>0</th>\n",
       "      <td>01</td>\n",
       "      <td>069</td>\n",
       "      <td>00161560</td>\n",
       "      <td>0500000US01069</td>\n",
       "      <td>01069</td>\n",
       "      <td>Houston</td>\n",
       "      <td>Houston County</td>\n",
       "      <td>AL</td>\n",
       "      <td>Alabama</td>\n",
       "      <td>06</td>\n",
       "      <td>1501742235</td>\n",
       "      <td>4795415</td>\n",
       "      <td>POLYGON ((-85.71209 31.19727, -85.70934 31.198...</td>\n",
       "    </tr>\n",
       "    <tr>\n",
       "      <th>1</th>\n",
       "      <td>01</td>\n",
       "      <td>023</td>\n",
       "      <td>00161537</td>\n",
       "      <td>0500000US01023</td>\n",
       "      <td>01023</td>\n",
       "      <td>Choctaw</td>\n",
       "      <td>Choctaw County</td>\n",
       "      <td>AL</td>\n",
       "      <td>Alabama</td>\n",
       "      <td>06</td>\n",
       "      <td>2365900083</td>\n",
       "      <td>19114321</td>\n",
       "      <td>POLYGON ((-88.47323 31.89386, -88.46888 31.930...</td>\n",
       "    </tr>\n",
       "    <tr>\n",
       "      <th>2</th>\n",
       "      <td>01</td>\n",
       "      <td>005</td>\n",
       "      <td>00161528</td>\n",
       "      <td>0500000US01005</td>\n",
       "      <td>01005</td>\n",
       "      <td>Barbour</td>\n",
       "      <td>Barbour County</td>\n",
       "      <td>AL</td>\n",
       "      <td>Alabama</td>\n",
       "      <td>06</td>\n",
       "      <td>2292160151</td>\n",
       "      <td>50523213</td>\n",
       "      <td>POLYGON ((-85.74803 31.61918, -85.74544 31.618...</td>\n",
       "    </tr>\n",
       "    <tr>\n",
       "      <th>3</th>\n",
       "      <td>01</td>\n",
       "      <td>107</td>\n",
       "      <td>00161580</td>\n",
       "      <td>0500000US01107</td>\n",
       "      <td>01107</td>\n",
       "      <td>Pickens</td>\n",
       "      <td>Pickens County</td>\n",
       "      <td>AL</td>\n",
       "      <td>Alabama</td>\n",
       "      <td>06</td>\n",
       "      <td>2282835044</td>\n",
       "      <td>22621093</td>\n",
       "      <td>POLYGON ((-88.34043 32.99120, -88.33101 33.072...</td>\n",
       "    </tr>\n",
       "    <tr>\n",
       "      <th>4</th>\n",
       "      <td>01</td>\n",
       "      <td>033</td>\n",
       "      <td>00161542</td>\n",
       "      <td>0500000US01033</td>\n",
       "      <td>01033</td>\n",
       "      <td>Colbert</td>\n",
       "      <td>Colbert County</td>\n",
       "      <td>AL</td>\n",
       "      <td>Alabama</td>\n",
       "      <td>06</td>\n",
       "      <td>1535742270</td>\n",
       "      <td>79160396</td>\n",
       "      <td>POLYGON ((-88.13925 34.58779, -88.13872 34.589...</td>\n",
       "    </tr>\n",
       "    <tr>\n",
       "      <th>...</th>\n",
       "      <td>...</td>\n",
       "      <td>...</td>\n",
       "      <td>...</td>\n",
       "      <td>...</td>\n",
       "      <td>...</td>\n",
       "      <td>...</td>\n",
       "      <td>...</td>\n",
       "      <td>...</td>\n",
       "      <td>...</td>\n",
       "      <td>...</td>\n",
       "      <td>...</td>\n",
       "      <td>...</td>\n",
       "      <td>...</td>\n",
       "    </tr>\n",
       "    <tr>\n",
       "      <th>3230</th>\n",
       "      <td>20</td>\n",
       "      <td>197</td>\n",
       "      <td>00485059</td>\n",
       "      <td>0500000US20197</td>\n",
       "      <td>20197</td>\n",
       "      <td>Wabaunsee</td>\n",
       "      <td>Wabaunsee County</td>\n",
       "      <td>KS</td>\n",
       "      <td>Kansas</td>\n",
       "      <td>06</td>\n",
       "      <td>2057320864</td>\n",
       "      <td>13845234</td>\n",
       "      <td>POLYGON ((-96.50168 38.91332, -96.50166 38.927...</td>\n",
       "    </tr>\n",
       "    <tr>\n",
       "      <th>3231</th>\n",
       "      <td>21</td>\n",
       "      <td>211</td>\n",
       "      <td>00516952</td>\n",
       "      <td>0500000US21211</td>\n",
       "      <td>21211</td>\n",
       "      <td>Shelby</td>\n",
       "      <td>Shelby County</td>\n",
       "      <td>KY</td>\n",
       "      <td>Kentucky</td>\n",
       "      <td>06</td>\n",
       "      <td>983652108</td>\n",
       "      <td>15210913</td>\n",
       "      <td>POLYGON ((-85.46821 38.28531, -85.46073 38.285...</td>\n",
       "    </tr>\n",
       "    <tr>\n",
       "      <th>3232</th>\n",
       "      <td>27</td>\n",
       "      <td>093</td>\n",
       "      <td>00659492</td>\n",
       "      <td>0500000US27093</td>\n",
       "      <td>27093</td>\n",
       "      <td>Meeker</td>\n",
       "      <td>Meeker County</td>\n",
       "      <td>MN</td>\n",
       "      <td>Minnesota</td>\n",
       "      <td>06</td>\n",
       "      <td>1574629006</td>\n",
       "      <td>94913846</td>\n",
       "      <td>POLYGON ((-94.76346 45.24619, -94.76334 45.275...</td>\n",
       "    </tr>\n",
       "    <tr>\n",
       "      <th>3233</th>\n",
       "      <td>39</td>\n",
       "      <td>015</td>\n",
       "      <td>01074020</td>\n",
       "      <td>0500000US39015</td>\n",
       "      <td>39015</td>\n",
       "      <td>Brown</td>\n",
       "      <td>Brown County</td>\n",
       "      <td>OH</td>\n",
       "      <td>Ohio</td>\n",
       "      <td>06</td>\n",
       "      <td>1267911780</td>\n",
       "      <td>8879057</td>\n",
       "      <td>POLYGON ((-84.05245 38.77223, -84.04800 38.806...</td>\n",
       "    </tr>\n",
       "    <tr>\n",
       "      <th>3234</th>\n",
       "      <td>17</td>\n",
       "      <td>103</td>\n",
       "      <td>00424253</td>\n",
       "      <td>0500000US17103</td>\n",
       "      <td>17103</td>\n",
       "      <td>Lee</td>\n",
       "      <td>Lee County</td>\n",
       "      <td>IL</td>\n",
       "      <td>Illinois</td>\n",
       "      <td>06</td>\n",
       "      <td>1877142112</td>\n",
       "      <td>9779872</td>\n",
       "      <td>POLYGON ((-89.63223 41.67861, -89.63219 41.686...</td>\n",
       "    </tr>\n",
       "  </tbody>\n",
       "</table>\n",
       "<p>3235 rows × 13 columns</p>\n",
       "</div>"
      ],
      "text/plain": [
       "     STATEFP COUNTYFP  COUNTYNS        AFFGEOID  GEOID       NAME  \\\n",
       "0         01      069  00161560  0500000US01069  01069    Houston   \n",
       "1         01      023  00161537  0500000US01023  01023    Choctaw   \n",
       "2         01      005  00161528  0500000US01005  01005    Barbour   \n",
       "3         01      107  00161580  0500000US01107  01107    Pickens   \n",
       "4         01      033  00161542  0500000US01033  01033    Colbert   \n",
       "...      ...      ...       ...             ...    ...        ...   \n",
       "3230      20      197  00485059  0500000US20197  20197  Wabaunsee   \n",
       "3231      21      211  00516952  0500000US21211  21211     Shelby   \n",
       "3232      27      093  00659492  0500000US27093  27093     Meeker   \n",
       "3233      39      015  01074020  0500000US39015  39015      Brown   \n",
       "3234      17      103  00424253  0500000US17103  17103        Lee   \n",
       "\n",
       "              NAMELSAD STUSPS STATE_NAME LSAD       ALAND    AWATER  \\\n",
       "0       Houston County     AL    Alabama   06  1501742235   4795415   \n",
       "1       Choctaw County     AL    Alabama   06  2365900083  19114321   \n",
       "2       Barbour County     AL    Alabama   06  2292160151  50523213   \n",
       "3       Pickens County     AL    Alabama   06  2282835044  22621093   \n",
       "4       Colbert County     AL    Alabama   06  1535742270  79160396   \n",
       "...                ...    ...        ...  ...         ...       ...   \n",
       "3230  Wabaunsee County     KS     Kansas   06  2057320864  13845234   \n",
       "3231     Shelby County     KY   Kentucky   06   983652108  15210913   \n",
       "3232     Meeker County     MN  Minnesota   06  1574629006  94913846   \n",
       "3233      Brown County     OH       Ohio   06  1267911780   8879057   \n",
       "3234        Lee County     IL   Illinois   06  1877142112   9779872   \n",
       "\n",
       "                                               geometry  \n",
       "0     POLYGON ((-85.71209 31.19727, -85.70934 31.198...  \n",
       "1     POLYGON ((-88.47323 31.89386, -88.46888 31.930...  \n",
       "2     POLYGON ((-85.74803 31.61918, -85.74544 31.618...  \n",
       "3     POLYGON ((-88.34043 32.99120, -88.33101 33.072...  \n",
       "4     POLYGON ((-88.13925 34.58779, -88.13872 34.589...  \n",
       "...                                                 ...  \n",
       "3230  POLYGON ((-96.50168 38.91332, -96.50166 38.927...  \n",
       "3231  POLYGON ((-85.46821 38.28531, -85.46073 38.285...  \n",
       "3232  POLYGON ((-94.76346 45.24619, -94.76334 45.275...  \n",
       "3233  POLYGON ((-84.05245 38.77223, -84.04800 38.806...  \n",
       "3234  POLYGON ((-89.63223 41.67861, -89.63219 41.686...  \n",
       "\n",
       "[3235 rows x 13 columns]"
      ]
     },
     "execution_count": 5,
     "metadata": {},
     "output_type": "execute_result"
    }
   ],
   "source": [
    "shape = gpd.read_file('Data/geodata/cb_2022_us_county_500k.shp')\n",
    "shape"
   ]
  },
  {
   "cell_type": "code",
   "execution_count": 6,
   "metadata": {},
   "outputs": [
    {
     "data": {
      "text/plain": [
       "<Axes: >"
      ]
     },
     "execution_count": 6,
     "metadata": {},
     "output_type": "execute_result"
    },
    {
     "data": {
      "image/png": "[encoded data removed]",
      "text/plain": [
       "<Figure size 640x480 with 1 Axes>"
      ]
     },
     "metadata": {},
     "output_type": "display_data"
    }
   ],
   "source": [
    "shape.plot()"
   ]
  },
  {
   "cell_type": "code",
   "execution_count": null,
   "metadata": {},
   "outputs": [],
   "source": [
    "wa_geo_data = merge_geo('Data/geodata/cb_2022_us_county_500k.shp', xlsx_file)\n",
    "# wa_geo_data"
   ]
  },
  {
   "cell_type": "code",
   "execution_count": null,
   "metadata": {},
   "outputs": [],
   "source": [
    "wa_geo_data.info()"
   ]
  },
  {
   "cell_type": "code",
   "execution_count": null,
   "metadata": {},
   "outputs": [],
   "source": [
    "def drug_overdose_change(data, start=2015.0, end=2023.0):\n",
    "  wa_data = data[data['STATE_NAME'] == 'Washington']\n",
    "  drug = wa_data['Drug Category'] == 'Any Drug'\n",
    "  county = wa_data['Geography'] == 'County'\n",
    "  year = (wa_data['Year'] >= start) & (wa_data['Year'] <= end)\n",
    "  time = (wa_data['Time Aggregation'] == '1 year rolling counts')\n",
    "  remove_star = wa_data['Death Count'] != '*'\n",
    "  county_data = wa_data[drug & county & time & year & remove_star].copy()\n",
    "  county_data['Death Count'] = county_data['Death Count'].astype('int')\n",
    "  county_data = county_data.dissolve(by='Year', aggfunc='sum').reset_index()\n",
    "  fig = px.line(county_data, x=\"Year\", y=\"Death Count\",\n",
    "                title=f\"Drug Overdose Deaths in WA between {int(start)} and {int(end)}\", markers=True)\n",
    "  fig.update_layout(title_x=0.5, title_y=0.95,  font=dict(size=20))\n",
    "  fig.update_traces(line=dict(width=4), marker=dict(size=10))\n",
    "\n",
    "  fig.show()"
   ]
  },
  {
   "cell_type": "code",
   "execution_count": null,
   "metadata": {},
   "outputs": [],
   "source": [
    "is_washington = wa_geo_data['STATE_NAME'] == 'Washington'\n",
    "is_opioid = (wa_geo_data['Drug Category'] == 'Any Opioid')\n",
    "county = (wa_geo_data['Geography'] == 'County')\n",
    "year = (wa_geo_data['Year'] >= 2015.0) & (wa_geo_data['Year'] <= 2023.0)\n",
    "time = (wa_geo_data['Time Aggregation'] == '1 year rolling counts')\n",
    "remove_star = (wa_geo_data['Death Count'] != '*')\n",
    "county_data = wa_geo_data[is_washington & is_opioid & county & year & time & remove_star].copy()\n",
    "county_data['Death Count'] = county_data['Death Count'].astype('int')\n",
    "fig = px.line(county_data, x=\"Year\", y=\"Death Count\",\n",
    "                title=f\"Drug Overdose Deaths in WA between {int(2015.0)} and {int(2023.0)}\", markers=True)\n",
    "fig.update_layout(title_x=0.5, title_y=0.95,  font=dict(size=20))\n",
    "fig.update_traces(line=dict(width=4), marker=dict(size=10))\n",
    "\n",
    "fig.show()"
   ]
  },
  {
   "cell_type": "code",
   "execution_count": null,
   "metadata": {},
   "outputs": [],
   "source": [
    "drug_overdose_change(wa_geo_data)"
   ]
  },
  {
   "cell_type": "code",
   "execution_count": null,
   "metadata": {},
   "outputs": [],
   "source": [
    "pip install -U kaleido"
   ]
  },
  {
   "cell_type": "code",
   "execution_count": null,
   "metadata": {},
   "outputs": [],
   "source": [
    "def overdose_geo(data, start=2015.0, end=2023.0) -> None:\n",
    "    wa_data = data[data[\"STATE_NAME\"] == \"Washington\"].copy()\n",
    "    drug = wa_data[\"Drug Category\"] == \"Any Drug\"\n",
    "    county = wa_data[\"Geography\"] == \"County\"\n",
    "    wa_data[\"Year\"] = pd.to_numeric(data[\"Year\"], errors=\"coerce\")\n",
    "    year = (wa_data[\"Year\"] >= (start - 1)) & (wa_data[\"Year\"] <= (end + 1))\n",
    "    time = wa_data[\"Time Aggregation\"] == \"1 year rolling counts\"\n",
    "    remove_star = wa_data[\"Death Count\"] != \"*\"\n",
    "    county_data = wa_data[drug & county & time & year & remove_star].copy()\n",
    "    county_data[\"Death Count\"] = county_data[\"Death Count\"].astype(\"int\")\n",
    "    county_data = county_data.groupby(\"Year\").agg({\"Death Count\": \"sum\"}).reset_index()\n",
    "\n",
    "    fig = px.line(\n",
    "        county_data,\n",
    "        x=\"Year\",\n",
    "        y=\"Death Count\",\n",
    "        title=f\"Drug Overdose Deaths in WA between \\\n",
    "            {int(start)} and {int(end)}\",\n",
    "        markers=True\n",
    "    )\n",
    "    fig.update_layout(title_x=0.5, title_y=0.95, font=dict(size=20))\n",
    "    fig.update_traces(line=dict(width=4), marker=dict(size=10))\n",
    "\n",
    "    fig.show()\n",
    "    fig.write_image('overdose_wa.png')"
   ]
  },
  {
   "cell_type": "code",
   "execution_count": null,
   "metadata": {},
   "outputs": [],
   "source": [
    "overdose_geo(wa_geo_data)"
   ]
  },
  {
   "cell_type": "code",
   "execution_count": null,
   "metadata": {},
   "outputs": [],
   "source": [
    "def overdose_deaths_counties(data, drug_name=\"Any Drug\", year_date=2022.0):\n",
    "    \"\"\"\n",
    "    This function takes in the geospatial dataframe and returns the counties\n",
    "    in Washington that have the highest number of drug overdose cases.\n",
    "    \"\"\"\n",
    "    data = data[data[\"STATE_NAME\"] == \"Washington\"]\n",
    "    drug = data[\"Drug Category\"] == drug_name\n",
    "    county = data[\"Geography\"] == \"County\"\n",
    "    year = data[\"Year\"] == year_date\n",
    "    time = data[\"Time Aggregation\"] == \"1 year rolling counts\"\n",
    "    remove_star = data[\"Death Count\"] != \"*\"\n",
    "    county_data = data[drug & county & time & year & remove_star]\n",
    "    # county_data = county_data[['Location', 'geometry',\n",
    "    # 'Death Count', 'Time Aggregation', 'Year']]\n",
    "    county_data[\"Death Count\"] = county_data[\"Death Count\"].astype(\"int\")\n",
    "\n",
    "    fig, ax = plt.subplots(1)\n",
    "    data.plot(ax=ax, color=\"#d3d3d3\")\n",
    "    county_data.plot(ax=ax, column=\"Death Count\", legend=True)\n",
    "    plt.title(f\"Washington County Overdose Deaths in {int(year_date)}\")\n",
    "    plt.savefig(\"county_population_map.png\")"
   ]
  },
  {
   "cell_type": "code",
   "execution_count": null,
   "metadata": {},
   "outputs": [],
   "source": [
    "overdose_deaths_counties(wa_geo_data)"
   ]
  },
  {
   "cell_type": "code",
   "execution_count": null,
   "metadata": {},
   "outputs": [],
   "source": [
    "national_geo_data = merge_geo(\n",
    "        \"Data/geodata/cb_2022_us_county_500k.shp\",\n",
    "        csv_file_name=\"Data/NationalOverdose.csv\",\n",
    "    )\n",
    "national_geo_data"
   ]
  },
  {
   "cell_type": "code",
   "execution_count": null,
   "metadata": {},
   "outputs": [],
   "source": [
    "national_geo_data['Indicator'].unique()"
   ]
  },
  {
   "cell_type": "code",
   "execution_count": null,
   "metadata": {},
   "outputs": [],
   "source": [
    "national_geo_data.info()"
   ]
  },
  {
   "cell_type": "code",
   "execution_count": null,
   "metadata": {},
   "outputs": [],
   "source": [
    "filtered_national = national_geo_data.copy()\n",
    "filtered_national = filtered_national[['NAME', 'geometry', 'State', 'Year', 'Month', 'Period', 'Indicator', 'Data Value']]\n",
    "any_drug = (filtered_national['Indicator'] == 'Number of Drug Overdose Deaths')\n",
    "year = (filtered_national['Year'] == 2022.0)\n",
    "month = filtered_national['Month'] == 'January'\n",
    "states = (filtered_national['State'] != 'AK') & (filtered_national['State'] != 'YC') & (filtered_national['State'] != 'US') & (filtered_national['State'] != 'HI') \n",
    "filtered_national = filtered_national[any_drug & year & states & month]\n",
    "filtered_national\n"
   ]
  },
  {
   "cell_type": "code",
   "execution_count": null,
   "metadata": {},
   "outputs": [],
   "source": [
    "usa_data = pd.read_csv('Data/NationalOverdose.csv')\n",
    "usa_data = usa_data[['State', 'Year', 'Month', 'Period', 'Indicator', 'Data Value']].copy()\n",
    "usa_data['Year'] = usa_data['Year'].astype(str)\n",
    "any_drug = (usa_data['Indicator'] == 'Number of Drug Overdose Deaths')\n",
    "\n",
    "# Create masks\n",
    "year = (usa_data['Year'] == '2019') | (usa_data['Year'] == '2020')\n",
    "month = (usa_data['Month'] == 'March')\n",
    "states = (usa_data['State'] == 'WA') | (usa_data['State'] == 'US')\n",
    "\n",
    "# Filter data\n",
    "usa_data = usa_data[any_drug & year & month & states]\n",
    "usa_data\n",
    "\n",
    "fig = px.bar(usa_data, x='Year', y='Data Value', color='State', title='Drug Overdose Deaths in Washington vs. U.S.')\n",
    "fig.update_layout(barmode='stack')\n",
    "fig.update_yaxes(type='log')\n",
    "fig.update_yaxes(title=\"Death Count\")\n",
    "# fig.write_image('wa_versus_us.png')"
   ]
  },
  {
   "cell_type": "code",
   "execution_count": null,
   "metadata": {},
   "outputs": [],
   "source": [
    "def overdose_deaths_counties_test(data: gpd.GeoDataFrame, drug_name = 'Any Drug', year_start = 2016.0, year_end = 2022.0) -> None:\n",
    "  \"\"\"\n",
    "  \"\"\"\n",
    "  data = data[data['STATE_NAME'] == 'Washington'].copy()\n",
    "  drug = data['Drug Category'] == drug_name\n",
    "  county = data['Geography'] == 'County'\n",
    "  time = (data['Time Aggregation'] == '1 year rolling counts')\n",
    "  remove_star = data['Death Count'] != '*'\n",
    "  county_data = data[drug & county & time & remove_star].copy()\n",
    "  county_data['Death Count'] = county_data['Death Count'].astype('int')\n",
    "\n",
    "  plt.figure(figsize=(15, 12))\n",
    "  plt.subplots_adjust(hspace=0.2)\n",
    "  plt.suptitle(\"Washington County Overdose Deaths\", fontsize=18, y=0.95)\n",
    "  n = int(year_end - year_start)\n",
    "  height, width = n // 2 + 1, 2\n",
    "  for i in range(int(year_start), int(year_end)+1):\n",
    "      year = (county_data['Year'] == i)\n",
    "      year_data = county_data[year]\n",
    "\n",
    "      ax = plt.subplot(height, width, i - int(year_start)+1)\n",
    "\n",
    "      data.plot(ax=ax, color='#d3d3d3')\n",
    "      year_data.plot(ax=ax, column='Death Count', legend=True)\n",
    "      ax.set_title(i)\n",
    "      ax.set_aspect('equal')\n",
    "  plt.show()"
   ]
  },
  {
   "cell_type": "code",
   "execution_count": null,
   "metadata": {},
   "outputs": [],
   "source": [
    "overdose_deaths_counties_test(wa_geo_data)"
   ]
  },
  {
   "cell_type": "code",
   "execution_count": null,
   "metadata": {},
   "outputs": [],
   "source": []
  }
 ],
 "metadata": {
  "kernelspec": {
   "display_name": "cse163",
   "language": "python",
   "name": "python3"
  },
  "language_info": {
   "codemirror_mode": {
    "name": "ipython",
    "version": 3
   },
   "file_extension": ".py",
   "mimetype": "text/x-python",
   "name": "python",
   "nbconvert_exporter": "python",
   "pygments_lexer": "ipython3",
   "version": "3.9.17"
  },
  "orig_nbformat": 4
 },
 "nbformat": 4,
 "nbformat_minor": 2
}
